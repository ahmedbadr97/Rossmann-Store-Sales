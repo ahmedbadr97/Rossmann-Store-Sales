{
 "cells": [
  {
   "cell_type": "markdown",
   "source": [
    "# imports and constants"
   ],
   "metadata": {
    "collapsed": false
   }
  },
  {
   "cell_type": "code",
   "execution_count": 5,
   "outputs": [],
   "source": [
    "import pandas as pd\n",
    "\n",
    "from os.path import join as join_pth\n",
    "import matplotlib.pyplot as plt\n",
    "import random\n",
    "import seaborn as sns\n",
    "# % matplotlib inline\n",
    "sns.set_style('whitegrid')\n",
    "import torch\n",
    "from torch.utils.data.dataloader import DataLoader\n",
    "import numpy as np\n",
    "from src import data_loader,models,model_training,utils,data_preprocessing\n",
    "device='cuda' if torch.cuda.is_available() else 'cpu'\n"
   ],
   "metadata": {
    "collapsed": false,
    "pycharm": {
     "name": "#%%\n"
    }
   }
  },
  {
   "cell_type": "code",
   "execution_count": 45,
   "outputs": [
    {
     "data": {
      "text/plain": "<module 'src.utils' from 'D:\\\\2022 acheivments\\\\Projects\\\\DeepLearning NanoDegree\\\\Rossmann-Store-Sales\\\\src\\\\utils.py'>"
     },
     "execution_count": 45,
     "metadata": {},
     "output_type": "execute_result"
    }
   ],
   "source": [
    "from importlib import reload,import_module\n",
    "\n",
    "\n",
    "reload(data_loader)\n",
    "reload(data_preprocessing)\n",
    "reload(models)\n",
    "reload(model_training)\n",
    "reload(utils)"
   ],
   "metadata": {
    "collapsed": false,
    "pycharm": {
     "name": "#%%\n"
    }
   }
  },
  {
   "cell_type": "code",
   "execution_count": 4,
   "outputs": [
    {
     "data": {
      "text/plain": "array([[1, 3],\n       [4, 6],\n       [7, 9]])"
     },
     "execution_count": 4,
     "metadata": {},
     "output_type": "execute_result"
    }
   ],
   "source": [],
   "metadata": {
    "collapsed": false,
    "pycharm": {
     "name": "#%%\n"
    }
   }
  },
  {
   "cell_type": "code",
   "execution_count": 7,
   "outputs": [],
   "source": [
    "raw_dataset_path = \"../dataset/raw\"\n",
    "prep_dataset_path=\"../dataset/prep/lstm_model\"\n",
    "nn_model_weights_pth=\"../model_weights/lstm_model\"\n",
    "nn_model_train_data_pth=\"../train_data/lstm_model\""
   ],
   "metadata": {
    "collapsed": false,
    "pycharm": {
     "name": "#%%\n"
    }
   }
  },
  {
   "cell_type": "markdown",
   "source": [
    "# roadmap\n",
    "- data preparation after analysis run bulk preprocessing functions that have all preprocessing and feature engineering done at the analysis section\n",
    "- start with the neural network without lstm layers and get the best score after hyperparameters tuning\n",
    "    - create data loader for the neural network\n",
    "    - find the best hyperparameters for the first epochs\n",
    "    - train the model on the best hyperparameters"
   ],
   "metadata": {
    "collapsed": false
   }
  },
  {
   "cell_type": "markdown",
   "source": [
    "# Data preparation"
   ],
   "metadata": {
    "collapsed": false,
    "pycharm": {
     "name": "#%% md\n"
    }
   }
  },
  {
   "cell_type": "markdown",
   "source": [
    "## bulk preprocessing"
   ],
   "metadata": {
    "collapsed": false,
    "pycharm": {
     "name": "#%% md\n"
    }
   }
  },
  {
   "cell_type": "code",
   "execution_count": 8,
   "outputs": [],
   "source": [
    "stores_df = pd.read_csv(join_pth(raw_dataset_path, \"store.csv\"), low_memory=False)\n",
    "stores_sales_df = pd.read_csv(join_pth(raw_dataset_path, \"train.csv\"), low_memory=False)\n",
    "\n",
    "# Sales bulk preprocessing\n",
    "stores_sales_df_prep=data_preprocessing.store_sales_prep(stores_sales_df=stores_sales_df)\n",
    "\n",
    "# Store data bulk preprocessing\n",
    "stores_data_df_prep=data_preprocessing.store_data_prep(store_data_df=stores_df)\n",
    "# merge and do bulk preprocessing\n",
    "merge_prep=data_preprocessing.merge_store_sales(sales_data_df=stores_sales_df_prep,store_data_df=stores_data_df_prep)\n",
    "\n",
    "# drop closed stores data and open column\n",
    "merge_prep=data_preprocessing.drop_closed_days(merge_prep)\n",
    "\n"
   ],
   "metadata": {
    "collapsed": false,
    "pycharm": {
     "name": "#%%\n"
    }
   }
  },
  {
   "cell_type": "code",
   "execution_count": 9,
   "outputs": [
    {
     "name": "stdout",
     "output_type": "stream",
     "text": [
      "2013-01-01 00:00:00\n",
      "2015-07-31 00:00:00\n",
      "months 31\n",
      "test months = 9\n"
     ]
    }
   ],
   "source": [
    "# we have data from jan 2013 to jul 2015\n",
    "print(merge_prep.Date.min())\n",
    "print(merge_prep.Date.max())\n",
    "\n",
    "print(f\"months {2*12 + 7}\")\n",
    "print(f\"test months = {int(31*0.3)}\")"
   ],
   "metadata": {
    "collapsed": false,
    "pycharm": {
     "name": "#%%\n"
    }
   }
  },
  {
   "cell_type": "markdown",
   "source": [
    "## train test split"
   ],
   "metadata": {
    "collapsed": false,
    "pycharm": {
     "name": "#%% md\n"
    }
   }
  },
  {
   "cell_type": "code",
   "execution_count": 10,
   "outputs": [
    {
     "name": "stdout",
     "output_type": "stream",
     "text": [
      "train data size 677123\n",
      "test data size  167269\n"
     ]
    }
   ],
   "source": [
    "import datetime\n",
    "boundary=datetime.datetime.strptime(\"2015-02-01\",\"%Y-%m-%d\")\n",
    "train_data=merge_prep[merge_prep.Date<boundary]\n",
    "train_data=train_data.sort_values(by='Date')\n",
    "train_data=data_preprocessing.drop_extra_cols(train_data)\n",
    "train_data=data_preprocessing.hot_encoding(train_data)\n",
    "\n",
    "test_data=merge_prep[merge_prep.Date>=boundary]\n",
    "test_data=test_data.sort_values(by='Date')\n",
    "test_data=data_preprocessing.drop_extra_cols(test_data)\n",
    "test_data=data_preprocessing.hot_encoding(test_data)\n",
    "\n",
    "print(f\"train data size {len(train_data)}\")\n",
    "print(f\"test data size  {len(test_data)}\")"
   ],
   "metadata": {
    "collapsed": false,
    "pycharm": {
     "name": "#%%\n"
    }
   }
  },
  {
   "cell_type": "code",
   "execution_count": 11,
   "outputs": [
    {
     "name": "stdout",
     "output_type": "stream",
     "text": [
      "<class 'pandas.core.frame.DataFrame'>\n",
      "Int64Index: 677123 entries, 621467 to 166885\n",
      "Data columns (total 28 columns):\n",
      " #   Column                  Non-Null Count   Dtype  \n",
      "---  ------                  --------------   -----  \n",
      " 0   Store                   677123 non-null  float64\n",
      " 1   Sales                   677123 non-null  float64\n",
      " 2   Promo                   677123 non-null  float64\n",
      " 3   SchoolHoliday           677123 non-null  float64\n",
      " 4   month                   677123 non-null  float64\n",
      " 5   day                     677123 non-null  float64\n",
      " 6   CompetitionDistance     677123 non-null  float64\n",
      " 7   Promo2                  677123 non-null  float64\n",
      " 8   Promo2Since             677123 non-null  float64\n",
      " 9   CompetitionOpenSince    677123 non-null  float64\n",
      " 10  isPromoMonth            677123 non-null  float64\n",
      " 11  DayOfWeek_1             677123 non-null  float64\n",
      " 12  DayOfWeek_2             677123 non-null  float64\n",
      " 13  DayOfWeek_3             677123 non-null  float64\n",
      " 14  DayOfWeek_4             677123 non-null  float64\n",
      " 15  DayOfWeek_5             677123 non-null  float64\n",
      " 16  DayOfWeek_6             677123 non-null  float64\n",
      " 17  DayOfWeek_7             677123 non-null  float64\n",
      " 18  StateHoliday_christmas  677123 non-null  float64\n",
      " 19  StateHoliday_easter     677123 non-null  float64\n",
      " 20  StateHoliday_public     677123 non-null  float64\n",
      " 21  StoreType_a             677123 non-null  float64\n",
      " 22  StoreType_b             677123 non-null  float64\n",
      " 23  StoreType_c             677123 non-null  float64\n",
      " 24  StoreType_d             677123 non-null  float64\n",
      " 25  Assortment_a            677123 non-null  float64\n",
      " 26  Assortment_b            677123 non-null  float64\n",
      " 27  Assortment_c            677123 non-null  float64\n",
      "dtypes: float64(28)\n",
      "memory usage: 149.8 MB\n"
     ]
    }
   ],
   "source": [
    "train_data.info()"
   ],
   "metadata": {
    "collapsed": false,
    "pycharm": {
     "name": "#%%\n"
    }
   }
  },
  {
   "cell_type": "code",
   "execution_count": 12,
   "outputs": [
    {
     "name": "stdout",
     "output_type": "stream",
     "text": [
      "<class 'pandas.core.frame.DataFrame'>\n",
      "Int64Index: 167269 entries, 76916 to 0\n",
      "Data columns (total 27 columns):\n",
      " #   Column                Non-Null Count   Dtype  \n",
      "---  ------                --------------   -----  \n",
      " 0   Store                 167269 non-null  float64\n",
      " 1   Sales                 167269 non-null  float64\n",
      " 2   Promo                 167269 non-null  float64\n",
      " 3   SchoolHoliday         167269 non-null  float64\n",
      " 4   month                 167269 non-null  float64\n",
      " 5   day                   167269 non-null  float64\n",
      " 6   CompetitionDistance   167269 non-null  float64\n",
      " 7   Promo2                167269 non-null  float64\n",
      " 8   Promo2Since           167269 non-null  float64\n",
      " 9   CompetitionOpenSince  167269 non-null  float64\n",
      " 10  isPromoMonth          167269 non-null  float64\n",
      " 11  DayOfWeek_1           167269 non-null  float64\n",
      " 12  DayOfWeek_2           167269 non-null  float64\n",
      " 13  DayOfWeek_3           167269 non-null  float64\n",
      " 14  DayOfWeek_4           167269 non-null  float64\n",
      " 15  DayOfWeek_5           167269 non-null  float64\n",
      " 16  DayOfWeek_6           167269 non-null  float64\n",
      " 17  DayOfWeek_7           167269 non-null  float64\n",
      " 18  StateHoliday_easter   167269 non-null  float64\n",
      " 19  StateHoliday_public   167269 non-null  float64\n",
      " 20  StoreType_a           167269 non-null  float64\n",
      " 21  StoreType_b           167269 non-null  float64\n",
      " 22  StoreType_c           167269 non-null  float64\n",
      " 23  StoreType_d           167269 non-null  float64\n",
      " 24  Assortment_a          167269 non-null  float64\n",
      " 25  Assortment_b          167269 non-null  float64\n",
      " 26  Assortment_c          167269 non-null  float64\n",
      "dtypes: float64(27)\n",
      "memory usage: 35.7 MB\n"
     ]
    }
   ],
   "source": [
    "test_data.info()"
   ],
   "metadata": {
    "collapsed": false,
    "pycharm": {
     "name": "#%%\n"
    }
   }
  },
  {
   "cell_type": "code",
   "execution_count": 13,
   "outputs": [
    {
     "data": {
      "text/plain": "Index(['Store', 'Sales', 'Promo', 'SchoolHoliday', 'month', 'day',\n       'CompetitionDistance', 'Promo2', 'Promo2Since', 'CompetitionOpenSince',\n       'isPromoMonth', 'DayOfWeek_1', 'DayOfWeek_2', 'DayOfWeek_3',\n       'DayOfWeek_4', 'DayOfWeek_5', 'DayOfWeek_6', 'DayOfWeek_7',\n       'StateHoliday_christmas', 'StateHoliday_easter', 'StateHoliday_public',\n       'StoreType_a', 'StoreType_b', 'StoreType_c', 'StoreType_d',\n       'Assortment_a', 'Assortment_b', 'Assortment_c'],\n      dtype='object')"
     },
     "execution_count": 13,
     "metadata": {},
     "output_type": "execute_result"
    }
   ],
   "source": [
    "# no Christmas days in test data so, we will add zero column to the test data\n",
    "test_data['StateHoliday_christmas']=0.0\n",
    "test_data=test_data[train_data.columns]\n",
    "test_data.columns"
   ],
   "metadata": {
    "collapsed": false,
    "pycharm": {
     "name": "#%%\n"
    }
   }
  },
  {
   "cell_type": "markdown",
   "source": [
    "## arrange train columns"
   ],
   "metadata": {
    "collapsed": false,
    "pycharm": {
     "name": "#%% md\n"
    }
   }
  },
  {
   "cell_type": "markdown",
   "source": [
    "<img src=\"./assets/lstm_nn.png\"  alt=\"./assets/lstm_nn.png\"/>"
   ],
   "metadata": {
    "collapsed": false,
    "pycharm": {
     "name": "#%% md\n"
    }
   }
  },
  {
   "cell_type": "code",
   "execution_count": 16,
   "outputs": [
    {
     "name": "stdout",
     "output_type": "stream",
     "text": [
      "28\n",
      "28\n"
     ]
    }
   ],
   "source": [
    "print(len(train_data.columns))\n",
    "print(len(test_data.columns))"
   ],
   "metadata": {
    "collapsed": false,
    "pycharm": {
     "name": "#%%\n"
    }
   }
  },
  {
   "cell_type": "code",
   "execution_count": 15,
   "outputs": [
    {
     "data": {
      "text/plain": "        Store   Sales  Promo  SchoolHoliday  month  day  CompetitionDistance  \\\n621467  682.0  3375.0    0.0            1.0    1.0  1.0             5.010635   \n386137  423.0  9643.0    0.0            1.0    1.0  1.0             7.146772   \n700661  769.0  5035.0    0.0            1.0    1.0  1.0             6.733402   \n77677    85.0  4220.0    0.0            1.0    1.0  1.0             7.533694   \n305081  335.0  2401.0    0.0            1.0    1.0  1.0             4.499810   \n\n        Promo2  Promo2Since  CompetitionOpenSince  ...  \\\n621467     0.0     0.000000              0.000000  ...   \n386137     0.0     0.000000              2.772589  ...   \n700661     1.0     0.693147              0.000000  ...   \n77677      0.0     0.000000              0.000000  ...   \n305081     1.0     0.000000              0.000000  ...   \n\n        StateHoliday_christmas  StateHoliday_easter  StateHoliday_public  \\\n621467                     0.0                  0.0                  1.0   \n386137                     0.0                  0.0                  1.0   \n700661                     0.0                  0.0                  1.0   \n77677                      0.0                  0.0                  1.0   \n305081                     0.0                  0.0                  1.0   \n\n        StoreType_a  StoreType_b  StoreType_c  StoreType_d  Assortment_a  \\\n621467          0.0          1.0          0.0          0.0           1.0   \n386137          0.0          1.0          0.0          0.0           1.0   \n700661          0.0          1.0          0.0          0.0           0.0   \n77677           0.0          1.0          0.0          0.0           1.0   \n305081          0.0          1.0          0.0          0.0           1.0   \n\n        Assortment_b  Assortment_c  \n621467           0.0           0.0  \n386137           0.0           0.0  \n700661           1.0           0.0  \n77677            0.0           0.0  \n305081           0.0           0.0  \n\n[5 rows x 28 columns]",
      "text/html": "<div>\n<style scoped>\n    .dataframe tbody tr th:only-of-type {\n        vertical-align: middle;\n    }\n\n    .dataframe tbody tr th {\n        vertical-align: top;\n    }\n\n    .dataframe thead th {\n        text-align: right;\n    }\n</style>\n<table border=\"1\" class=\"dataframe\">\n  <thead>\n    <tr style=\"text-align: right;\">\n      <th></th>\n      <th>Store</th>\n      <th>Sales</th>\n      <th>Promo</th>\n      <th>SchoolHoliday</th>\n      <th>month</th>\n      <th>day</th>\n      <th>CompetitionDistance</th>\n      <th>Promo2</th>\n      <th>Promo2Since</th>\n      <th>CompetitionOpenSince</th>\n      <th>...</th>\n      <th>StateHoliday_christmas</th>\n      <th>StateHoliday_easter</th>\n      <th>StateHoliday_public</th>\n      <th>StoreType_a</th>\n      <th>StoreType_b</th>\n      <th>StoreType_c</th>\n      <th>StoreType_d</th>\n      <th>Assortment_a</th>\n      <th>Assortment_b</th>\n      <th>Assortment_c</th>\n    </tr>\n  </thead>\n  <tbody>\n    <tr>\n      <th>621467</th>\n      <td>682.0</td>\n      <td>3375.0</td>\n      <td>0.0</td>\n      <td>1.0</td>\n      <td>1.0</td>\n      <td>1.0</td>\n      <td>5.010635</td>\n      <td>0.0</td>\n      <td>0.000000</td>\n      <td>0.000000</td>\n      <td>...</td>\n      <td>0.0</td>\n      <td>0.0</td>\n      <td>1.0</td>\n      <td>0.0</td>\n      <td>1.0</td>\n      <td>0.0</td>\n      <td>0.0</td>\n      <td>1.0</td>\n      <td>0.0</td>\n      <td>0.0</td>\n    </tr>\n    <tr>\n      <th>386137</th>\n      <td>423.0</td>\n      <td>9643.0</td>\n      <td>0.0</td>\n      <td>1.0</td>\n      <td>1.0</td>\n      <td>1.0</td>\n      <td>7.146772</td>\n      <td>0.0</td>\n      <td>0.000000</td>\n      <td>2.772589</td>\n      <td>...</td>\n      <td>0.0</td>\n      <td>0.0</td>\n      <td>1.0</td>\n      <td>0.0</td>\n      <td>1.0</td>\n      <td>0.0</td>\n      <td>0.0</td>\n      <td>1.0</td>\n      <td>0.0</td>\n      <td>0.0</td>\n    </tr>\n    <tr>\n      <th>700661</th>\n      <td>769.0</td>\n      <td>5035.0</td>\n      <td>0.0</td>\n      <td>1.0</td>\n      <td>1.0</td>\n      <td>1.0</td>\n      <td>6.733402</td>\n      <td>1.0</td>\n      <td>0.693147</td>\n      <td>0.000000</td>\n      <td>...</td>\n      <td>0.0</td>\n      <td>0.0</td>\n      <td>1.0</td>\n      <td>0.0</td>\n      <td>1.0</td>\n      <td>0.0</td>\n      <td>0.0</td>\n      <td>0.0</td>\n      <td>1.0</td>\n      <td>0.0</td>\n    </tr>\n    <tr>\n      <th>77677</th>\n      <td>85.0</td>\n      <td>4220.0</td>\n      <td>0.0</td>\n      <td>1.0</td>\n      <td>1.0</td>\n      <td>1.0</td>\n      <td>7.533694</td>\n      <td>0.0</td>\n      <td>0.000000</td>\n      <td>0.000000</td>\n      <td>...</td>\n      <td>0.0</td>\n      <td>0.0</td>\n      <td>1.0</td>\n      <td>0.0</td>\n      <td>1.0</td>\n      <td>0.0</td>\n      <td>0.0</td>\n      <td>1.0</td>\n      <td>0.0</td>\n      <td>0.0</td>\n    </tr>\n    <tr>\n      <th>305081</th>\n      <td>335.0</td>\n      <td>2401.0</td>\n      <td>0.0</td>\n      <td>1.0</td>\n      <td>1.0</td>\n      <td>1.0</td>\n      <td>4.499810</td>\n      <td>1.0</td>\n      <td>0.000000</td>\n      <td>0.000000</td>\n      <td>...</td>\n      <td>0.0</td>\n      <td>0.0</td>\n      <td>1.0</td>\n      <td>0.0</td>\n      <td>1.0</td>\n      <td>0.0</td>\n      <td>0.0</td>\n      <td>1.0</td>\n      <td>0.0</td>\n      <td>0.0</td>\n    </tr>\n  </tbody>\n</table>\n<p>5 rows × 28 columns</p>\n</div>"
     },
     "execution_count": 15,
     "metadata": {},
     "output_type": "execute_result"
    }
   ],
   "source": [
    "train_data.head()"
   ],
   "metadata": {
    "collapsed": false,
    "pycharm": {
     "name": "#%%\n"
    }
   }
  },
  {
   "cell_type": "code",
   "execution_count": 17,
   "outputs": [
    {
     "data": {
      "text/plain": "        Store    Sales  Promo  SchoolHoliday  month  day  CompetitionDistance  \\\n76916    85.0  13899.0    0.0            0.0    2.0  1.0             7.533694   \n863366  948.0   9867.0    0.0            0.0    2.0  1.0             7.265430   \n666908  733.0  18263.0    0.0            0.0    2.0  1.0             6.756932   \n237578  262.0  30525.0    0.0            0.0    2.0  1.0             7.073270   \n699900  769.0  13823.0    0.0            0.0    2.0  1.0             6.733402   \n\n        Promo2  Promo2Since  CompetitionOpenSince  ...  \\\n76916      0.0     0.000000                   0.0  ...   \n863366     0.0     0.000000                   0.0  ...   \n666908     0.0     0.000000                   0.0  ...   \n237578     0.0     0.000000                   0.0  ...   \n699900     1.0     3.295837                   0.0  ...   \n\n        StateHoliday_christmas  StateHoliday_easter  StateHoliday_public  \\\n76916                      0.0                  0.0                  0.0   \n863366                     0.0                  0.0                  0.0   \n666908                     0.0                  0.0                  0.0   \n237578                     0.0                  0.0                  0.0   \n699900                     0.0                  0.0                  0.0   \n\n        StoreType_a  StoreType_b  StoreType_c  StoreType_d  Assortment_a  \\\n76916           0.0          1.0          0.0          0.0           1.0   \n863366          0.0          1.0          0.0          0.0           0.0   \n666908          0.0          1.0          0.0          0.0           0.0   \n237578          0.0          1.0          0.0          0.0           1.0   \n699900          0.0          1.0          0.0          0.0           0.0   \n\n        Assortment_b  Assortment_c  \n76916            0.0           0.0  \n863366           1.0           0.0  \n666908           1.0           0.0  \n237578           0.0           0.0  \n699900           1.0           0.0  \n\n[5 rows x 28 columns]",
      "text/html": "<div>\n<style scoped>\n    .dataframe tbody tr th:only-of-type {\n        vertical-align: middle;\n    }\n\n    .dataframe tbody tr th {\n        vertical-align: top;\n    }\n\n    .dataframe thead th {\n        text-align: right;\n    }\n</style>\n<table border=\"1\" class=\"dataframe\">\n  <thead>\n    <tr style=\"text-align: right;\">\n      <th></th>\n      <th>Store</th>\n      <th>Sales</th>\n      <th>Promo</th>\n      <th>SchoolHoliday</th>\n      <th>month</th>\n      <th>day</th>\n      <th>CompetitionDistance</th>\n      <th>Promo2</th>\n      <th>Promo2Since</th>\n      <th>CompetitionOpenSince</th>\n      <th>...</th>\n      <th>StateHoliday_christmas</th>\n      <th>StateHoliday_easter</th>\n      <th>StateHoliday_public</th>\n      <th>StoreType_a</th>\n      <th>StoreType_b</th>\n      <th>StoreType_c</th>\n      <th>StoreType_d</th>\n      <th>Assortment_a</th>\n      <th>Assortment_b</th>\n      <th>Assortment_c</th>\n    </tr>\n  </thead>\n  <tbody>\n    <tr>\n      <th>76916</th>\n      <td>85.0</td>\n      <td>13899.0</td>\n      <td>0.0</td>\n      <td>0.0</td>\n      <td>2.0</td>\n      <td>1.0</td>\n      <td>7.533694</td>\n      <td>0.0</td>\n      <td>0.000000</td>\n      <td>0.0</td>\n      <td>...</td>\n      <td>0.0</td>\n      <td>0.0</td>\n      <td>0.0</td>\n      <td>0.0</td>\n      <td>1.0</td>\n      <td>0.0</td>\n      <td>0.0</td>\n      <td>1.0</td>\n      <td>0.0</td>\n      <td>0.0</td>\n    </tr>\n    <tr>\n      <th>863366</th>\n      <td>948.0</td>\n      <td>9867.0</td>\n      <td>0.0</td>\n      <td>0.0</td>\n      <td>2.0</td>\n      <td>1.0</td>\n      <td>7.265430</td>\n      <td>0.0</td>\n      <td>0.000000</td>\n      <td>0.0</td>\n      <td>...</td>\n      <td>0.0</td>\n      <td>0.0</td>\n      <td>0.0</td>\n      <td>0.0</td>\n      <td>1.0</td>\n      <td>0.0</td>\n      <td>0.0</td>\n      <td>0.0</td>\n      <td>1.0</td>\n      <td>0.0</td>\n    </tr>\n    <tr>\n      <th>666908</th>\n      <td>733.0</td>\n      <td>18263.0</td>\n      <td>0.0</td>\n      <td>0.0</td>\n      <td>2.0</td>\n      <td>1.0</td>\n      <td>6.756932</td>\n      <td>0.0</td>\n      <td>0.000000</td>\n      <td>0.0</td>\n      <td>...</td>\n      <td>0.0</td>\n      <td>0.0</td>\n      <td>0.0</td>\n      <td>0.0</td>\n      <td>1.0</td>\n      <td>0.0</td>\n      <td>0.0</td>\n      <td>0.0</td>\n      <td>1.0</td>\n      <td>0.0</td>\n    </tr>\n    <tr>\n      <th>237578</th>\n      <td>262.0</td>\n      <td>30525.0</td>\n      <td>0.0</td>\n      <td>0.0</td>\n      <td>2.0</td>\n      <td>1.0</td>\n      <td>7.073270</td>\n      <td>0.0</td>\n      <td>0.000000</td>\n      <td>0.0</td>\n      <td>...</td>\n      <td>0.0</td>\n      <td>0.0</td>\n      <td>0.0</td>\n      <td>0.0</td>\n      <td>1.0</td>\n      <td>0.0</td>\n      <td>0.0</td>\n      <td>1.0</td>\n      <td>0.0</td>\n      <td>0.0</td>\n    </tr>\n    <tr>\n      <th>699900</th>\n      <td>769.0</td>\n      <td>13823.0</td>\n      <td>0.0</td>\n      <td>0.0</td>\n      <td>2.0</td>\n      <td>1.0</td>\n      <td>6.733402</td>\n      <td>1.0</td>\n      <td>3.295837</td>\n      <td>0.0</td>\n      <td>...</td>\n      <td>0.0</td>\n      <td>0.0</td>\n      <td>0.0</td>\n      <td>0.0</td>\n      <td>1.0</td>\n      <td>0.0</td>\n      <td>0.0</td>\n      <td>0.0</td>\n      <td>1.0</td>\n      <td>0.0</td>\n    </tr>\n  </tbody>\n</table>\n<p>5 rows × 28 columns</p>\n</div>"
     },
     "execution_count": 17,
     "metadata": {},
     "output_type": "execute_result"
    }
   ],
   "source": [
    "test_data.head()"
   ],
   "metadata": {
    "collapsed": false,
    "pycharm": {
     "name": "#%%\n"
    }
   }
  },
  {
   "cell_type": "markdown",
   "source": [
    "## save train test data"
   ],
   "metadata": {
    "collapsed": false
   }
  },
  {
   "cell_type": "code",
   "execution_count": 18,
   "outputs": [],
   "source": [
    "# train_data\n",
    "#   sales data\n",
    "file_name=\"merged_sales_train.csv\"\n",
    "train_data.to_csv(join_pth(prep_dataset_path,file_name),index=False)\n",
    "\n",
    "\n",
    "# test_data\n",
    "#   sales data\n",
    "file_name=\"merged_sales_test.csv\"\n",
    "test_data.to_csv(join_pth(prep_dataset_path,file_name),index=False)\n",
    "\n"
   ],
   "metadata": {
    "collapsed": false,
    "pycharm": {
     "name": "#%%\n"
    }
   }
  },
  {
   "cell_type": "markdown",
   "source": [
    "# load data"
   ],
   "metadata": {
    "collapsed": false,
    "pycharm": {
     "name": "#%% md\n"
    }
   }
  },
  {
   "cell_type": "code",
   "execution_count": 19,
   "outputs": [],
   "source": [
    "file_name=\"merged_sales_train.csv\"\n",
    "merged_sales_train=pd.read_csv(join_pth(prep_dataset_path,file_name))\n",
    "\n",
    "\n",
    "file_name=\"merged_sales_test.csv\"\n",
    "merged_sales_test=pd.read_csv(join_pth(prep_dataset_path,file_name))\n"
   ],
   "metadata": {
    "collapsed": false,
    "pycharm": {
     "name": "#%%\n"
    }
   }
  },
  {
   "cell_type": "markdown",
   "source": [
    "# Train loader"
   ],
   "metadata": {
    "collapsed": false
   }
  },
  {
   "cell_type": "code",
   "execution_count": 46,
   "outputs": [],
   "source": [
    "train_dataset=data_loader.LSTMSalesDataset(merged_sales_train,seq_length=30)\n",
    "test_dataset=data_loader.LSTMSalesDataset(merged_sales_test,seq_length=30)"
   ],
   "metadata": {
    "collapsed": false,
    "pycharm": {
     "name": "#%%\n"
    }
   }
  },
  {
   "cell_type": "code",
   "execution_count": 47,
   "outputs": [],
   "source": [
    "batch_size=32\n",
    "train_loader=DataLoader(train_dataset,batch_size=batch_size,drop_last=True)\n",
    "test_loader=DataLoader(test_dataset,batch_size=batch_size,drop_last=True)"
   ],
   "metadata": {
    "collapsed": false,
    "pycharm": {
     "name": "#%%\n"
    }
   }
  },
  {
   "cell_type": "code",
   "execution_count": 48,
   "outputs": [
    {
     "name": "stdout",
     "output_type": "stream",
     "text": [
      "lstm in shape --> torch.Size([32, 30, 15]) nn in shape --> torch.Size([32, 26]) out-> shape torch.Size([32, 1])\n"
     ]
    }
   ],
   "source": [
    "# data loader test\n",
    "iterr=iter(train_loader)\n",
    "lstm_in,nn_in,out=next(iterr)\n",
    "\n",
    "print(f\"lstm in shape --> {lstm_in.shape} nn in shape --> {nn_in.shape} out-> shape {out.shape}\")\n",
    "\n"
   ],
   "metadata": {
    "collapsed": false,
    "pycharm": {
     "name": "#%%\n"
    }
   }
  },
  {
   "cell_type": "markdown",
   "source": [
    "# model training"
   ],
   "metadata": {
    "collapsed": false,
    "pycharm": {
     "name": "#%% md\n"
    }
   }
  },
  {
   "cell_type": "code",
   "execution_count": 49,
   "outputs": [
    {
     "name": "stderr",
     "output_type": "stream",
     "text": [
      "C:\\graduation_project\\efficient-facenet\\venv\\lib\\site-packages\\torch\\nn\\modules\\rnn.py:62: UserWarning: dropout option adds dropout after all but last recurrent layer, so non-zero dropout expects num_layers greater than 1, but got dropout=0.5 and num_layers=1\n",
      "  warnings.warn(\"dropout option adds dropout after all but last \"\n"
     ]
    }
   ],
   "source": [
    "lstm_architecture={\"input_size\":train_dataset.no_lstm_cols,\"num_layers\":1,\"hidden_size\":256}\n",
    "nn_hidden=[512,256]\n",
    "nn_architecture={\"input_size\":train_dataset.no_nn_cols,\"hidden_shape\":nn_hidden}\n",
    "lstm_model=models.SalesLstm(lstm_architecture,nn_architecture,dropout_prop=0.5)\n",
    "lstm_model.to(device)"
   ],
   "metadata": {
    "collapsed": false,
    "pycharm": {
     "name": "#%%\n"
    }
   }
  },
  {
   "cell_type": "code",
   "execution_count": 50,
   "outputs": [
    {
     "data": {
      "text/plain": "SalesLstm(\n  (lstm): LSTM(15, 256, batch_first=True, dropout=0.5)\n  (fcn): Sequential(\n    (0): Linear(in_features=282, out_features=512, bias=True)\n    (1): ReLU()\n    (2): Linear(in_features=512, out_features=256, bias=True)\n    (3): ReLU()\n    (4): Dropout(p=0.5, inplace=False)\n    (5): Linear(in_features=256, out_features=1, bias=True)\n    (6): ReLU()\n  )\n)"
     },
     "execution_count": 50,
     "metadata": {},
     "output_type": "execute_result"
    }
   ],
   "source": [
    "lstm_model"
   ],
   "metadata": {
    "collapsed": false,
    "pycharm": {
     "name": "#%%\n"
    }
   }
  },
  {
   "cell_type": "code",
   "execution_count": 51,
   "outputs": [],
   "source": [
    "\n",
    "out,lstm_hidden=lstm_model(lstm_in,nn_in)"
   ],
   "metadata": {
    "collapsed": false,
    "pycharm": {
     "name": "#%%\n"
    }
   }
  },
  {
   "cell_type": "code",
   "execution_count": 52,
   "outputs": [
    {
     "data": {
      "text/plain": "torch.Size([32, 1])"
     },
     "execution_count": 52,
     "metadata": {},
     "output_type": "execute_result"
    }
   ],
   "source": [
    "out.shape"
   ],
   "metadata": {
    "collapsed": false,
    "pycharm": {
     "name": "#%%\n"
    }
   }
  },
  {
   "cell_type": "code",
   "execution_count": 53,
   "outputs": [
    {
     "name": "stdout",
     "output_type": "stream",
     "text": [
      "Testing before training\n",
      " testing [..........] time remaining (m) = 9.5 Avg Test_Loss=329156.8771186414"
     ]
    },
    {
     "ename": "KeyboardInterrupt",
     "evalue": "",
     "output_type": "error",
     "traceback": [
      "\u001B[1;31m---------------------------------------------------------------------------\u001B[0m",
      "\u001B[1;31mKeyboardInterrupt\u001B[0m                         Traceback (most recent call last)",
      "Input \u001B[1;32mIn [53]\u001B[0m, in \u001B[0;36m<cell line: 1>\u001B[1;34m()\u001B[0m\n\u001B[1;32m----> 1\u001B[0m train_losses,valid_losses\u001B[38;5;241m=\u001B[39m\u001B[43mmodel_training\u001B[49m\u001B[38;5;241;43m.\u001B[39;49m\u001B[43mlstm_train\u001B[49m\u001B[43m(\u001B[49m\u001B[43mlstm_model\u001B[49m\u001B[43m,\u001B[49m\u001B[43mtrain_loader\u001B[49m\u001B[43m,\u001B[49m\u001B[43mtest_loader\u001B[49m\u001B[43m,\u001B[49m\u001B[38;5;241;43m1\u001B[39;49m\u001B[43m,\u001B[49m\u001B[43mlast_weights\u001B[49m\u001B[38;5;241;43m=\u001B[39;49m\u001B[38;5;28;43;01mTrue\u001B[39;49;00m\u001B[43m,\u001B[49m\u001B[43mtrain_data_dir\u001B[49m\u001B[38;5;241;43m=\u001B[39;49m\u001B[43mnn_model_train_data_pth\u001B[49m\u001B[43m,\u001B[49m\u001B[43mweights_dir\u001B[49m\u001B[38;5;241;43m=\u001B[39;49m\u001B[43mnn_model_weights_pth\u001B[49m\u001B[43m)\u001B[49m\n",
      "File \u001B[1;32mD:\\2022 acheivments\\Projects\\DeepLearning NanoDegree\\Rossmann-Store-Sales\\src\\model_training.py:140\u001B[0m, in \u001B[0;36mlstm_train\u001B[1;34m(model, train_loader, valid_loader, n_epochs, device, last_weights, **kwargs)\u001B[0m\n\u001B[0;32m    138\u001B[0m \u001B[38;5;28mprint\u001B[39m(\u001B[38;5;124m\"\u001B[39m\u001B[38;5;124mTesting before training\u001B[39m\u001B[38;5;124m\"\u001B[39m)\n\u001B[0;32m    139\u001B[0m test_tracker \u001B[38;5;241m=\u001B[39m traintracker\u001B[38;5;241m.\u001B[39mTrainTracker(model, tracker_mod\u001B[38;5;241m=\u001B[39mTrackerMod\u001B[38;5;241m.\u001B[39mTEST_ONLY, test_data_size\u001B[38;5;241m=\u001B[39mvalid_size)\n\u001B[1;32m--> 140\u001B[0m test_loss \u001B[38;5;241m=\u001B[39m \u001B[43mlstm_test\u001B[49m\u001B[43m(\u001B[49m\u001B[43mmodel\u001B[49m\u001B[43m,\u001B[49m\u001B[43m \u001B[49m\u001B[43mvalid_loader\u001B[49m\u001B[43m,\u001B[49m\u001B[43m \u001B[49m\u001B[43mloss_function\u001B[49m\u001B[43m,\u001B[49m\u001B[43m \u001B[49m\u001B[43mtest_tracker\u001B[49m\u001B[43m,\u001B[49m\u001B[43m \u001B[49m\u001B[43mdevice\u001B[49m\u001B[38;5;241;43m=\u001B[39;49m\u001B[43mdevice\u001B[49m\u001B[43m)\u001B[49m\n\u001B[0;32m    141\u001B[0m \u001B[38;5;28mprint\u001B[39m(\u001B[38;5;124mf\u001B[39m\u001B[38;5;124m\"\u001B[39m\u001B[38;5;124mTest Loss :\u001B[39m\u001B[38;5;132;01m{\u001B[39;00m\u001B[38;5;28mround\u001B[39m(test_loss, \u001B[38;5;241m3\u001B[39m)\u001B[38;5;132;01m}\u001B[39;00m\u001B[38;5;124m\"\u001B[39m)\n\u001B[0;32m    143\u001B[0m \u001B[38;5;28;01mfor\u001B[39;00m e \u001B[38;5;129;01min\u001B[39;00m \u001B[38;5;28mrange\u001B[39m(n_epochs):\n",
      "File \u001B[1;32mD:\\2022 acheivments\\Projects\\DeepLearning NanoDegree\\Rossmann-Store-Sales\\src\\model_training.py:90\u001B[0m, in \u001B[0;36mlstm_test\u001B[1;34m(model, valid_loader, loss_function, train_tracker, device)\u001B[0m\n\u001B[0;32m     87\u001B[0m \u001B[38;5;28;01mfor\u001B[39;00m lstm_in, nn_in, targets \u001B[38;5;129;01min\u001B[39;00m valid_loader:\n\u001B[0;32m     88\u001B[0m     lstm_in, nn_in, targets \u001B[38;5;241m=\u001B[39m lstm_in\u001B[38;5;241m.\u001B[39mto(device), nn_in\u001B[38;5;241m.\u001B[39mto(device), targets\u001B[38;5;241m.\u001B[39mto(device)\n\u001B[1;32m---> 90\u001B[0m     predicted_output, hidden \u001B[38;5;241m=\u001B[39m \u001B[43mmodel\u001B[49m\u001B[43m(\u001B[49m\u001B[43mlstm_in\u001B[49m\u001B[43m,\u001B[49m\u001B[43m \u001B[49m\u001B[43mnn_in\u001B[49m\u001B[43m,\u001B[49m\u001B[43m \u001B[49m\u001B[43mhidden\u001B[49m\u001B[43m)\u001B[49m\n\u001B[0;32m     92\u001B[0m     loss \u001B[38;5;241m=\u001B[39m loss_function(predicted_output, targets)\n\u001B[0;32m     93\u001B[0m     avg_test_loss \u001B[38;5;241m=\u001B[39m train_tracker\u001B[38;5;241m.\u001B[39mstep(loss\u001B[38;5;241m.\u001B[39mitem())\n",
      "File \u001B[1;32mC:\\graduation_project\\efficient-facenet\\venv\\lib\\site-packages\\torch\\nn\\modules\\module.py:1110\u001B[0m, in \u001B[0;36mModule._call_impl\u001B[1;34m(self, *input, **kwargs)\u001B[0m\n\u001B[0;32m   1106\u001B[0m \u001B[38;5;66;03m# If we don't have any hooks, we want to skip the rest of the logic in\u001B[39;00m\n\u001B[0;32m   1107\u001B[0m \u001B[38;5;66;03m# this function, and just call forward.\u001B[39;00m\n\u001B[0;32m   1108\u001B[0m \u001B[38;5;28;01mif\u001B[39;00m \u001B[38;5;129;01mnot\u001B[39;00m (\u001B[38;5;28mself\u001B[39m\u001B[38;5;241m.\u001B[39m_backward_hooks \u001B[38;5;129;01mor\u001B[39;00m \u001B[38;5;28mself\u001B[39m\u001B[38;5;241m.\u001B[39m_forward_hooks \u001B[38;5;129;01mor\u001B[39;00m \u001B[38;5;28mself\u001B[39m\u001B[38;5;241m.\u001B[39m_forward_pre_hooks \u001B[38;5;129;01mor\u001B[39;00m _global_backward_hooks\n\u001B[0;32m   1109\u001B[0m         \u001B[38;5;129;01mor\u001B[39;00m _global_forward_hooks \u001B[38;5;129;01mor\u001B[39;00m _global_forward_pre_hooks):\n\u001B[1;32m-> 1110\u001B[0m     \u001B[38;5;28;01mreturn\u001B[39;00m forward_call(\u001B[38;5;241m*\u001B[39m\u001B[38;5;28minput\u001B[39m, \u001B[38;5;241m*\u001B[39m\u001B[38;5;241m*\u001B[39mkwargs)\n\u001B[0;32m   1111\u001B[0m \u001B[38;5;66;03m# Do not call functions when jit is used\u001B[39;00m\n\u001B[0;32m   1112\u001B[0m full_backward_hooks, non_full_backward_hooks \u001B[38;5;241m=\u001B[39m [], []\n",
      "File \u001B[1;32mD:\\2022 acheivments\\Projects\\DeepLearning NanoDegree\\Rossmann-Store-Sales\\src\\models.py:70\u001B[0m, in \u001B[0;36mSalesLstm.forward\u001B[1;34m(self, lstm_in, nn_in, lstm_hidden)\u001B[0m\n\u001B[0;32m     67\u001B[0m \u001B[38;5;28;01mif\u001B[39;00m lstm_hidden \u001B[38;5;129;01mis\u001B[39;00m \u001B[38;5;28;01mNone\u001B[39;00m:\n\u001B[0;32m     68\u001B[0m     lstm_hidden \u001B[38;5;241m=\u001B[39m \u001B[38;5;28mself\u001B[39m\u001B[38;5;241m.\u001B[39m_init_hidden(batch_size)\n\u001B[1;32m---> 70\u001B[0m lstm_out, lstm_hidden \u001B[38;5;241m=\u001B[39m \u001B[38;5;28;43mself\u001B[39;49m\u001B[38;5;241;43m.\u001B[39;49m\u001B[43mlstm\u001B[49m\u001B[43m(\u001B[49m\u001B[43mlstm_in\u001B[49m\u001B[43m,\u001B[49m\u001B[43m \u001B[49m\u001B[43mlstm_hidden\u001B[49m\u001B[43m)\u001B[49m\n\u001B[0;32m     72\u001B[0m \u001B[38;5;66;03m# get the last output of the sequence\u001B[39;00m\n\u001B[0;32m     73\u001B[0m lstm_out \u001B[38;5;241m=\u001B[39m lstm_out[:, \u001B[38;5;241m-\u001B[39m\u001B[38;5;241m1\u001B[39m, :]\n",
      "File \u001B[1;32mC:\\graduation_project\\efficient-facenet\\venv\\lib\\site-packages\\torch\\nn\\modules\\module.py:1110\u001B[0m, in \u001B[0;36mModule._call_impl\u001B[1;34m(self, *input, **kwargs)\u001B[0m\n\u001B[0;32m   1106\u001B[0m \u001B[38;5;66;03m# If we don't have any hooks, we want to skip the rest of the logic in\u001B[39;00m\n\u001B[0;32m   1107\u001B[0m \u001B[38;5;66;03m# this function, and just call forward.\u001B[39;00m\n\u001B[0;32m   1108\u001B[0m \u001B[38;5;28;01mif\u001B[39;00m \u001B[38;5;129;01mnot\u001B[39;00m (\u001B[38;5;28mself\u001B[39m\u001B[38;5;241m.\u001B[39m_backward_hooks \u001B[38;5;129;01mor\u001B[39;00m \u001B[38;5;28mself\u001B[39m\u001B[38;5;241m.\u001B[39m_forward_hooks \u001B[38;5;129;01mor\u001B[39;00m \u001B[38;5;28mself\u001B[39m\u001B[38;5;241m.\u001B[39m_forward_pre_hooks \u001B[38;5;129;01mor\u001B[39;00m _global_backward_hooks\n\u001B[0;32m   1109\u001B[0m         \u001B[38;5;129;01mor\u001B[39;00m _global_forward_hooks \u001B[38;5;129;01mor\u001B[39;00m _global_forward_pre_hooks):\n\u001B[1;32m-> 1110\u001B[0m     \u001B[38;5;28;01mreturn\u001B[39;00m forward_call(\u001B[38;5;241m*\u001B[39m\u001B[38;5;28minput\u001B[39m, \u001B[38;5;241m*\u001B[39m\u001B[38;5;241m*\u001B[39mkwargs)\n\u001B[0;32m   1111\u001B[0m \u001B[38;5;66;03m# Do not call functions when jit is used\u001B[39;00m\n\u001B[0;32m   1112\u001B[0m full_backward_hooks, non_full_backward_hooks \u001B[38;5;241m=\u001B[39m [], []\n",
      "File \u001B[1;32mC:\\graduation_project\\efficient-facenet\\venv\\lib\\site-packages\\torch\\nn\\modules\\rnn.py:761\u001B[0m, in \u001B[0;36mLSTM.forward\u001B[1;34m(self, input, hx)\u001B[0m\n\u001B[0;32m    759\u001B[0m \u001B[38;5;28mself\u001B[39m\u001B[38;5;241m.\u001B[39mcheck_forward_args(\u001B[38;5;28minput\u001B[39m, hx, batch_sizes)\n\u001B[0;32m    760\u001B[0m \u001B[38;5;28;01mif\u001B[39;00m batch_sizes \u001B[38;5;129;01mis\u001B[39;00m \u001B[38;5;28;01mNone\u001B[39;00m:\n\u001B[1;32m--> 761\u001B[0m     result \u001B[38;5;241m=\u001B[39m \u001B[43m_VF\u001B[49m\u001B[38;5;241;43m.\u001B[39;49m\u001B[43mlstm\u001B[49m\u001B[43m(\u001B[49m\u001B[38;5;28;43minput\u001B[39;49m\u001B[43m,\u001B[49m\u001B[43m \u001B[49m\u001B[43mhx\u001B[49m\u001B[43m,\u001B[49m\u001B[43m \u001B[49m\u001B[38;5;28;43mself\u001B[39;49m\u001B[38;5;241;43m.\u001B[39;49m\u001B[43m_flat_weights\u001B[49m\u001B[43m,\u001B[49m\u001B[43m \u001B[49m\u001B[38;5;28;43mself\u001B[39;49m\u001B[38;5;241;43m.\u001B[39;49m\u001B[43mbias\u001B[49m\u001B[43m,\u001B[49m\u001B[43m \u001B[49m\u001B[38;5;28;43mself\u001B[39;49m\u001B[38;5;241;43m.\u001B[39;49m\u001B[43mnum_layers\u001B[49m\u001B[43m,\u001B[49m\n\u001B[0;32m    762\u001B[0m \u001B[43m                      \u001B[49m\u001B[38;5;28;43mself\u001B[39;49m\u001B[38;5;241;43m.\u001B[39;49m\u001B[43mdropout\u001B[49m\u001B[43m,\u001B[49m\u001B[43m \u001B[49m\u001B[38;5;28;43mself\u001B[39;49m\u001B[38;5;241;43m.\u001B[39;49m\u001B[43mtraining\u001B[49m\u001B[43m,\u001B[49m\u001B[43m \u001B[49m\u001B[38;5;28;43mself\u001B[39;49m\u001B[38;5;241;43m.\u001B[39;49m\u001B[43mbidirectional\u001B[49m\u001B[43m,\u001B[49m\u001B[43m \u001B[49m\u001B[38;5;28;43mself\u001B[39;49m\u001B[38;5;241;43m.\u001B[39;49m\u001B[43mbatch_first\u001B[49m\u001B[43m)\u001B[49m\n\u001B[0;32m    763\u001B[0m \u001B[38;5;28;01melse\u001B[39;00m:\n\u001B[0;32m    764\u001B[0m     result \u001B[38;5;241m=\u001B[39m _VF\u001B[38;5;241m.\u001B[39mlstm(\u001B[38;5;28minput\u001B[39m, batch_sizes, hx, \u001B[38;5;28mself\u001B[39m\u001B[38;5;241m.\u001B[39m_flat_weights, \u001B[38;5;28mself\u001B[39m\u001B[38;5;241m.\u001B[39mbias,\n\u001B[0;32m    765\u001B[0m                       \u001B[38;5;28mself\u001B[39m\u001B[38;5;241m.\u001B[39mnum_layers, \u001B[38;5;28mself\u001B[39m\u001B[38;5;241m.\u001B[39mdropout, \u001B[38;5;28mself\u001B[39m\u001B[38;5;241m.\u001B[39mtraining, \u001B[38;5;28mself\u001B[39m\u001B[38;5;241m.\u001B[39mbidirectional)\n",
      "\u001B[1;31mKeyboardInterrupt\u001B[0m: "
     ]
    }
   ],
   "source": [
    "train_losses,valid_losses=model_training.lstm_train(lstm_model,train_loader,test_loader,1,last_weights=True,train_data_dir=nn_model_train_data_pth,weights_dir=nn_model_weights_pth,device=device)"
   ],
   "metadata": {
    "collapsed": false,
    "pycharm": {
     "name": "#%%\n"
    }
   }
  },
  {
   "cell_type": "code",
   "execution_count": null,
   "outputs": [],
   "source": [],
   "metadata": {
    "collapsed": false,
    "pycharm": {
     "name": "#%%\n"
    }
   }
  }
 ],
 "metadata": {
  "kernelspec": {
   "display_name": "Python 3",
   "language": "python",
   "name": "python3"
  },
  "language_info": {
   "codemirror_mode": {
    "name": "ipython",
    "version": 2
   },
   "file_extension": ".py",
   "mimetype": "text/x-python",
   "name": "python",
   "nbconvert_exporter": "python",
   "pygments_lexer": "ipython2",
   "version": "2.7.6"
  }
 },
 "nbformat": 4,
 "nbformat_minor": 0
}