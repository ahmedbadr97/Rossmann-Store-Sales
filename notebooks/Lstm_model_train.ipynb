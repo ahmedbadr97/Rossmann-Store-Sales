{
 "cells": [
  {
   "cell_type": "markdown",
   "source": [
    "# imports and constants"
   ],
   "metadata": {
    "collapsed": false
   }
  },
  {
   "cell_type": "code",
   "execution_count": 172,
   "outputs": [],
   "source": [
    "import pandas as pd\n",
    "\n",
    "from os.path import join as join_pth\n",
    "import matplotlib.pyplot as plt\n",
    "import random\n",
    "import seaborn as sns\n",
    "# % matplotlib inline\n",
    "import traintracker\n",
    "\n",
    "\n",
    "sns.set_style('whitegrid')\n",
    "import torch\n",
    "from torch.utils.data.dataloader import DataLoader\n",
    "import numpy as np\n",
    "from src import data_loader,models,model_training,utils,data_preprocessing\n",
    "device='cuda' if torch.cuda.is_available() else 'cpu'\n"
   ],
   "metadata": {
    "collapsed": false,
    "pycharm": {
     "name": "#%%\n"
    }
   }
  },
  {
   "cell_type": "code",
   "execution_count": 169,
   "outputs": [
    {
     "data": {
      "text/plain": "<module 'src.utils' from 'D:\\\\2022 acheivments\\\\Projects\\\\DeepLearning NanoDegree\\\\Rossmann-Store-Sales\\\\src\\\\utils.py'>"
     },
     "execution_count": 169,
     "metadata": {},
     "output_type": "execute_result"
    }
   ],
   "source": [
    "from importlib import reload,import_module\n",
    "\n",
    "\n",
    "reload(data_loader)\n",
    "reload(data_preprocessing)\n",
    "reload(models)\n",
    "reload(model_training)\n",
    "reload(utils)"
   ],
   "metadata": {
    "collapsed": false,
    "pycharm": {
     "name": "#%%\n"
    }
   }
  },
  {
   "cell_type": "code",
   "execution_count": 4,
   "outputs": [
    {
     "data": {
      "text/plain": "array([[1, 3],\n       [4, 6],\n       [7, 9]])"
     },
     "execution_count": 4,
     "metadata": {},
     "output_type": "execute_result"
    }
   ],
   "source": [],
   "metadata": {
    "collapsed": false,
    "pycharm": {
     "name": "#%%\n"
    }
   }
  },
  {
   "cell_type": "code",
   "execution_count": 55,
   "outputs": [],
   "source": [
    "raw_dataset_path = \"../dataset/raw\"\n",
    "prep_dataset_path=\"../dataset/prep/lstm_model\"\n",
    "nn_model_weights_pth=\"../model_weights/lstm_model\"\n",
    "nn_model_train_data_pth=\"../train_data/lstm_model\""
   ],
   "metadata": {
    "collapsed": false,
    "pycharm": {
     "name": "#%%\n"
    }
   }
  },
  {
   "cell_type": "markdown",
   "source": [
    "# roadmap\n",
    "- data preparation after analysis run bulk preprocessing functions that have all preprocessing and feature engineering done at the analysis section\n",
    "- start with the neural network without lstm layers and get the best score after hyperparameters tuning\n",
    "    - create data loader for the neural network\n",
    "    - find the best hyperparameters for the first epochs\n",
    "    - train the model on the best hyperparameters"
   ],
   "metadata": {
    "collapsed": false
   }
  },
  {
   "cell_type": "markdown",
   "source": [
    "# Data preparation"
   ],
   "metadata": {
    "collapsed": false,
    "pycharm": {
     "name": "#%% md\n"
    }
   }
  },
  {
   "cell_type": "markdown",
   "source": [
    "## bulk preprocessing"
   ],
   "metadata": {
    "collapsed": false,
    "pycharm": {
     "name": "#%% md\n"
    }
   }
  },
  {
   "cell_type": "code",
   "execution_count": 144,
   "outputs": [
    {
     "name": "stderr",
     "output_type": "stream",
     "text": [
      "\n",
      "KeyboardInterrupt\n",
      "\n"
     ]
    }
   ],
   "source": [
    "stores_df = pd.read_csv(join_pth(raw_dataset_path, \"store.csv\"), low_memory=False)\n",
    "stores_sales_df = pd.read_csv(join_pth(raw_dataset_path, \"train.csv\"), low_memory=False)\n",
    "\n",
    "# Sales bulk preprocessing\n",
    "stores_sales_df_prep=data_preprocessing.store_sales_prep(stores_sales_df=stores_sales_df)\n",
    "\n",
    "# Store data bulk preprocessing\n",
    "stores_data_df_prep=data_preprocessing.store_data_prep(store_data_df=stores_df)\n",
    "# merge and do bulk preprocessing\n",
    "merge_prep=data_preprocessing.merge_store_sales(sales_data_df=stores_sales_df_prep,store_data_df=stores_data_df_prep)\n",
    "\n",
    "# drop closed stores data and open column\n",
    "merge_prep=data_preprocessing.drop_closed_days(merge_prep)\n",
    "\n"
   ],
   "metadata": {
    "collapsed": false,
    "pycharm": {
     "name": "#%%\n"
    }
   }
  },
  {
   "cell_type": "code",
   "execution_count": null,
   "outputs": [],
   "source": [
    "# we have data from jan 2013 to jul 2015\n",
    "print(merge_prep.Date.min())\n",
    "print(merge_prep.Date.max())\n",
    "\n",
    "print(f\"months {2*12 + 7}\")\n",
    "print(f\"test months = {int(31*0.3)}\")"
   ],
   "metadata": {
    "collapsed": false,
    "pycharm": {
     "name": "#%%\n"
    }
   }
  },
  {
   "cell_type": "markdown",
   "source": [
    "## train test split"
   ],
   "metadata": {
    "collapsed": false,
    "pycharm": {
     "name": "#%% md\n"
    }
   }
  },
  {
   "cell_type": "code",
   "execution_count": null,
   "outputs": [],
   "source": [
    "import datetime\n",
    "boundary=datetime.datetime.strptime(\"2015-02-01\",\"%Y-%m-%d\")\n",
    "train_data=merge_prep[merge_prep.Date<boundary]\n",
    "train_data=train_data.sort_values(by='Date')\n",
    "train_data=data_preprocessing.drop_extra_cols(train_data)\n",
    "train_data=data_preprocessing.hot_encoding(train_data)\n",
    "\n",
    "test_data=merge_prep[merge_prep.Date>=boundary]\n",
    "test_data=test_data.sort_values(by='Date')\n",
    "test_data=data_preprocessing.drop_extra_cols(test_data)\n",
    "test_data=data_preprocessing.hot_encoding(test_data)\n",
    "\n",
    "print(f\"train data size {len(train_data)}\")\n",
    "print(f\"test data size  {len(test_data)}\")"
   ],
   "metadata": {
    "collapsed": false,
    "pycharm": {
     "name": "#%%\n"
    }
   }
  },
  {
   "cell_type": "code",
   "execution_count": null,
   "outputs": [],
   "source": [
    "train_data.info()"
   ],
   "metadata": {
    "collapsed": false,
    "pycharm": {
     "name": "#%%\n"
    }
   }
  },
  {
   "cell_type": "code",
   "execution_count": 12,
   "outputs": [
    {
     "name": "stdout",
     "output_type": "stream",
     "text": [
      "<class 'pandas.core.frame.DataFrame'>\n",
      "Int64Index: 167269 entries, 76916 to 0\n",
      "Data columns (total 27 columns):\n",
      " #   Column                Non-Null Count   Dtype  \n",
      "---  ------                --------------   -----  \n",
      " 0   Store                 167269 non-null  float64\n",
      " 1   Sales                 167269 non-null  float64\n",
      " 2   Promo                 167269 non-null  float64\n",
      " 3   SchoolHoliday         167269 non-null  float64\n",
      " 4   month                 167269 non-null  float64\n",
      " 5   day                   167269 non-null  float64\n",
      " 6   CompetitionDistance   167269 non-null  float64\n",
      " 7   Promo2                167269 non-null  float64\n",
      " 8   Promo2Since           167269 non-null  float64\n",
      " 9   CompetitionOpenSince  167269 non-null  float64\n",
      " 10  isPromoMonth          167269 non-null  float64\n",
      " 11  DayOfWeek_1           167269 non-null  float64\n",
      " 12  DayOfWeek_2           167269 non-null  float64\n",
      " 13  DayOfWeek_3           167269 non-null  float64\n",
      " 14  DayOfWeek_4           167269 non-null  float64\n",
      " 15  DayOfWeek_5           167269 non-null  float64\n",
      " 16  DayOfWeek_6           167269 non-null  float64\n",
      " 17  DayOfWeek_7           167269 non-null  float64\n",
      " 18  StateHoliday_easter   167269 non-null  float64\n",
      " 19  StateHoliday_public   167269 non-null  float64\n",
      " 20  StoreType_a           167269 non-null  float64\n",
      " 21  StoreType_b           167269 non-null  float64\n",
      " 22  StoreType_c           167269 non-null  float64\n",
      " 23  StoreType_d           167269 non-null  float64\n",
      " 24  Assortment_a          167269 non-null  float64\n",
      " 25  Assortment_b          167269 non-null  float64\n",
      " 26  Assortment_c          167269 non-null  float64\n",
      "dtypes: float64(27)\n",
      "memory usage: 35.7 MB\n"
     ]
    }
   ],
   "source": [
    "test_data.info()"
   ],
   "metadata": {
    "collapsed": false,
    "pycharm": {
     "name": "#%%\n"
    }
   }
  },
  {
   "cell_type": "code",
   "execution_count": 13,
   "outputs": [
    {
     "data": {
      "text/plain": "Index(['Store', 'Sales', 'Promo', 'SchoolHoliday', 'month', 'day',\n       'CompetitionDistance', 'Promo2', 'Promo2Since', 'CompetitionOpenSince',\n       'isPromoMonth', 'DayOfWeek_1', 'DayOfWeek_2', 'DayOfWeek_3',\n       'DayOfWeek_4', 'DayOfWeek_5', 'DayOfWeek_6', 'DayOfWeek_7',\n       'StateHoliday_christmas', 'StateHoliday_easter', 'StateHoliday_public',\n       'StoreType_a', 'StoreType_b', 'StoreType_c', 'StoreType_d',\n       'Assortment_a', 'Assortment_b', 'Assortment_c'],\n      dtype='object')"
     },
     "execution_count": 13,
     "metadata": {},
     "output_type": "execute_result"
    }
   ],
   "source": [
    "# no Christmas days in test data so, we will add zero column to the test data\n",
    "test_data['StateHoliday_christmas']=0.0\n",
    "test_data=test_data[train_data.columns]\n",
    "test_data.columns"
   ],
   "metadata": {
    "collapsed": false,
    "pycharm": {
     "name": "#%%\n"
    }
   }
  },
  {
   "cell_type": "markdown",
   "source": [
    "## arrange train columns"
   ],
   "metadata": {
    "collapsed": false,
    "pycharm": {
     "name": "#%% md\n"
    }
   }
  },
  {
   "cell_type": "markdown",
   "source": [
    "<img src=\"./assets/lstm_nn.png\"  alt=\"./assets/lstm_nn.png\"/>"
   ],
   "metadata": {
    "collapsed": false,
    "pycharm": {
     "name": "#%% md\n"
    }
   }
  },
  {
   "cell_type": "code",
   "execution_count": 16,
   "outputs": [
    {
     "name": "stdout",
     "output_type": "stream",
     "text": [
      "28\n",
      "28\n"
     ]
    }
   ],
   "source": [
    "print(len(train_data.columns))\n",
    "print(len(test_data.columns))"
   ],
   "metadata": {
    "collapsed": false,
    "pycharm": {
     "name": "#%%\n"
    }
   }
  },
  {
   "cell_type": "code",
   "execution_count": 15,
   "outputs": [
    {
     "data": {
      "text/plain": "        Store   Sales  Promo  SchoolHoliday  month  day  CompetitionDistance  \\\n621467  682.0  3375.0    0.0            1.0    1.0  1.0             5.010635   \n386137  423.0  9643.0    0.0            1.0    1.0  1.0             7.146772   \n700661  769.0  5035.0    0.0            1.0    1.0  1.0             6.733402   \n77677    85.0  4220.0    0.0            1.0    1.0  1.0             7.533694   \n305081  335.0  2401.0    0.0            1.0    1.0  1.0             4.499810   \n\n        Promo2  Promo2Since  CompetitionOpenSince  ...  \\\n621467     0.0     0.000000              0.000000  ...   \n386137     0.0     0.000000              2.772589  ...   \n700661     1.0     0.693147              0.000000  ...   \n77677      0.0     0.000000              0.000000  ...   \n305081     1.0     0.000000              0.000000  ...   \n\n        StateHoliday_christmas  StateHoliday_easter  StateHoliday_public  \\\n621467                     0.0                  0.0                  1.0   \n386137                     0.0                  0.0                  1.0   \n700661                     0.0                  0.0                  1.0   \n77677                      0.0                  0.0                  1.0   \n305081                     0.0                  0.0                  1.0   \n\n        StoreType_a  StoreType_b  StoreType_c  StoreType_d  Assortment_a  \\\n621467          0.0          1.0          0.0          0.0           1.0   \n386137          0.0          1.0          0.0          0.0           1.0   \n700661          0.0          1.0          0.0          0.0           0.0   \n77677           0.0          1.0          0.0          0.0           1.0   \n305081          0.0          1.0          0.0          0.0           1.0   \n\n        Assortment_b  Assortment_c  \n621467           0.0           0.0  \n386137           0.0           0.0  \n700661           1.0           0.0  \n77677            0.0           0.0  \n305081           0.0           0.0  \n\n[5 rows x 28 columns]",
      "text/html": "<div>\n<style scoped>\n    .dataframe tbody tr th:only-of-type {\n        vertical-align: middle;\n    }\n\n    .dataframe tbody tr th {\n        vertical-align: top;\n    }\n\n    .dataframe thead th {\n        text-align: right;\n    }\n</style>\n<table border=\"1\" class=\"dataframe\">\n  <thead>\n    <tr style=\"text-align: right;\">\n      <th></th>\n      <th>Store</th>\n      <th>Sales</th>\n      <th>Promo</th>\n      <th>SchoolHoliday</th>\n      <th>month</th>\n      <th>day</th>\n      <th>CompetitionDistance</th>\n      <th>Promo2</th>\n      <th>Promo2Since</th>\n      <th>CompetitionOpenSince</th>\n      <th>...</th>\n      <th>StateHoliday_christmas</th>\n      <th>StateHoliday_easter</th>\n      <th>StateHoliday_public</th>\n      <th>StoreType_a</th>\n      <th>StoreType_b</th>\n      <th>StoreType_c</th>\n      <th>StoreType_d</th>\n      <th>Assortment_a</th>\n      <th>Assortment_b</th>\n      <th>Assortment_c</th>\n    </tr>\n  </thead>\n  <tbody>\n    <tr>\n      <th>621467</th>\n      <td>682.0</td>\n      <td>3375.0</td>\n      <td>0.0</td>\n      <td>1.0</td>\n      <td>1.0</td>\n      <td>1.0</td>\n      <td>5.010635</td>\n      <td>0.0</td>\n      <td>0.000000</td>\n      <td>0.000000</td>\n      <td>...</td>\n      <td>0.0</td>\n      <td>0.0</td>\n      <td>1.0</td>\n      <td>0.0</td>\n      <td>1.0</td>\n      <td>0.0</td>\n      <td>0.0</td>\n      <td>1.0</td>\n      <td>0.0</td>\n      <td>0.0</td>\n    </tr>\n    <tr>\n      <th>386137</th>\n      <td>423.0</td>\n      <td>9643.0</td>\n      <td>0.0</td>\n      <td>1.0</td>\n      <td>1.0</td>\n      <td>1.0</td>\n      <td>7.146772</td>\n      <td>0.0</td>\n      <td>0.000000</td>\n      <td>2.772589</td>\n      <td>...</td>\n      <td>0.0</td>\n      <td>0.0</td>\n      <td>1.0</td>\n      <td>0.0</td>\n      <td>1.0</td>\n      <td>0.0</td>\n      <td>0.0</td>\n      <td>1.0</td>\n      <td>0.0</td>\n      <td>0.0</td>\n    </tr>\n    <tr>\n      <th>700661</th>\n      <td>769.0</td>\n      <td>5035.0</td>\n      <td>0.0</td>\n      <td>1.0</td>\n      <td>1.0</td>\n      <td>1.0</td>\n      <td>6.733402</td>\n      <td>1.0</td>\n      <td>0.693147</td>\n      <td>0.000000</td>\n      <td>...</td>\n      <td>0.0</td>\n      <td>0.0</td>\n      <td>1.0</td>\n      <td>0.0</td>\n      <td>1.0</td>\n      <td>0.0</td>\n      <td>0.0</td>\n      <td>0.0</td>\n      <td>1.0</td>\n      <td>0.0</td>\n    </tr>\n    <tr>\n      <th>77677</th>\n      <td>85.0</td>\n      <td>4220.0</td>\n      <td>0.0</td>\n      <td>1.0</td>\n      <td>1.0</td>\n      <td>1.0</td>\n      <td>7.533694</td>\n      <td>0.0</td>\n      <td>0.000000</td>\n      <td>0.000000</td>\n      <td>...</td>\n      <td>0.0</td>\n      <td>0.0</td>\n      <td>1.0</td>\n      <td>0.0</td>\n      <td>1.0</td>\n      <td>0.0</td>\n      <td>0.0</td>\n      <td>1.0</td>\n      <td>0.0</td>\n      <td>0.0</td>\n    </tr>\n    <tr>\n      <th>305081</th>\n      <td>335.0</td>\n      <td>2401.0</td>\n      <td>0.0</td>\n      <td>1.0</td>\n      <td>1.0</td>\n      <td>1.0</td>\n      <td>4.499810</td>\n      <td>1.0</td>\n      <td>0.000000</td>\n      <td>0.000000</td>\n      <td>...</td>\n      <td>0.0</td>\n      <td>0.0</td>\n      <td>1.0</td>\n      <td>0.0</td>\n      <td>1.0</td>\n      <td>0.0</td>\n      <td>0.0</td>\n      <td>1.0</td>\n      <td>0.0</td>\n      <td>0.0</td>\n    </tr>\n  </tbody>\n</table>\n<p>5 rows × 28 columns</p>\n</div>"
     },
     "execution_count": 15,
     "metadata": {},
     "output_type": "execute_result"
    }
   ],
   "source": [
    "train_data.head()"
   ],
   "metadata": {
    "collapsed": false,
    "pycharm": {
     "name": "#%%\n"
    }
   }
  },
  {
   "cell_type": "code",
   "execution_count": 17,
   "outputs": [
    {
     "data": {
      "text/plain": "        Store    Sales  Promo  SchoolHoliday  month  day  CompetitionDistance  \\\n76916    85.0  13899.0    0.0            0.0    2.0  1.0             7.533694   \n863366  948.0   9867.0    0.0            0.0    2.0  1.0             7.265430   \n666908  733.0  18263.0    0.0            0.0    2.0  1.0             6.756932   \n237578  262.0  30525.0    0.0            0.0    2.0  1.0             7.073270   \n699900  769.0  13823.0    0.0            0.0    2.0  1.0             6.733402   \n\n        Promo2  Promo2Since  CompetitionOpenSince  ...  \\\n76916      0.0     0.000000                   0.0  ...   \n863366     0.0     0.000000                   0.0  ...   \n666908     0.0     0.000000                   0.0  ...   \n237578     0.0     0.000000                   0.0  ...   \n699900     1.0     3.295837                   0.0  ...   \n\n        StateHoliday_christmas  StateHoliday_easter  StateHoliday_public  \\\n76916                      0.0                  0.0                  0.0   \n863366                     0.0                  0.0                  0.0   \n666908                     0.0                  0.0                  0.0   \n237578                     0.0                  0.0                  0.0   \n699900                     0.0                  0.0                  0.0   \n\n        StoreType_a  StoreType_b  StoreType_c  StoreType_d  Assortment_a  \\\n76916           0.0          1.0          0.0          0.0           1.0   \n863366          0.0          1.0          0.0          0.0           0.0   \n666908          0.0          1.0          0.0          0.0           0.0   \n237578          0.0          1.0          0.0          0.0           1.0   \n699900          0.0          1.0          0.0          0.0           0.0   \n\n        Assortment_b  Assortment_c  \n76916            0.0           0.0  \n863366           1.0           0.0  \n666908           1.0           0.0  \n237578           0.0           0.0  \n699900           1.0           0.0  \n\n[5 rows x 28 columns]",
      "text/html": "<div>\n<style scoped>\n    .dataframe tbody tr th:only-of-type {\n        vertical-align: middle;\n    }\n\n    .dataframe tbody tr th {\n        vertical-align: top;\n    }\n\n    .dataframe thead th {\n        text-align: right;\n    }\n</style>\n<table border=\"1\" class=\"dataframe\">\n  <thead>\n    <tr style=\"text-align: right;\">\n      <th></th>\n      <th>Store</th>\n      <th>Sales</th>\n      <th>Promo</th>\n      <th>SchoolHoliday</th>\n      <th>month</th>\n      <th>day</th>\n      <th>CompetitionDistance</th>\n      <th>Promo2</th>\n      <th>Promo2Since</th>\n      <th>CompetitionOpenSince</th>\n      <th>...</th>\n      <th>StateHoliday_christmas</th>\n      <th>StateHoliday_easter</th>\n      <th>StateHoliday_public</th>\n      <th>StoreType_a</th>\n      <th>StoreType_b</th>\n      <th>StoreType_c</th>\n      <th>StoreType_d</th>\n      <th>Assortment_a</th>\n      <th>Assortment_b</th>\n      <th>Assortment_c</th>\n    </tr>\n  </thead>\n  <tbody>\n    <tr>\n      <th>76916</th>\n      <td>85.0</td>\n      <td>13899.0</td>\n      <td>0.0</td>\n      <td>0.0</td>\n      <td>2.0</td>\n      <td>1.0</td>\n      <td>7.533694</td>\n      <td>0.0</td>\n      <td>0.000000</td>\n      <td>0.0</td>\n      <td>...</td>\n      <td>0.0</td>\n      <td>0.0</td>\n      <td>0.0</td>\n      <td>0.0</td>\n      <td>1.0</td>\n      <td>0.0</td>\n      <td>0.0</td>\n      <td>1.0</td>\n      <td>0.0</td>\n      <td>0.0</td>\n    </tr>\n    <tr>\n      <th>863366</th>\n      <td>948.0</td>\n      <td>9867.0</td>\n      <td>0.0</td>\n      <td>0.0</td>\n      <td>2.0</td>\n      <td>1.0</td>\n      <td>7.265430</td>\n      <td>0.0</td>\n      <td>0.000000</td>\n      <td>0.0</td>\n      <td>...</td>\n      <td>0.0</td>\n      <td>0.0</td>\n      <td>0.0</td>\n      <td>0.0</td>\n      <td>1.0</td>\n      <td>0.0</td>\n      <td>0.0</td>\n      <td>0.0</td>\n      <td>1.0</td>\n      <td>0.0</td>\n    </tr>\n    <tr>\n      <th>666908</th>\n      <td>733.0</td>\n      <td>18263.0</td>\n      <td>0.0</td>\n      <td>0.0</td>\n      <td>2.0</td>\n      <td>1.0</td>\n      <td>6.756932</td>\n      <td>0.0</td>\n      <td>0.000000</td>\n      <td>0.0</td>\n      <td>...</td>\n      <td>0.0</td>\n      <td>0.0</td>\n      <td>0.0</td>\n      <td>0.0</td>\n      <td>1.0</td>\n      <td>0.0</td>\n      <td>0.0</td>\n      <td>0.0</td>\n      <td>1.0</td>\n      <td>0.0</td>\n    </tr>\n    <tr>\n      <th>237578</th>\n      <td>262.0</td>\n      <td>30525.0</td>\n      <td>0.0</td>\n      <td>0.0</td>\n      <td>2.0</td>\n      <td>1.0</td>\n      <td>7.073270</td>\n      <td>0.0</td>\n      <td>0.000000</td>\n      <td>0.0</td>\n      <td>...</td>\n      <td>0.0</td>\n      <td>0.0</td>\n      <td>0.0</td>\n      <td>0.0</td>\n      <td>1.0</td>\n      <td>0.0</td>\n      <td>0.0</td>\n      <td>1.0</td>\n      <td>0.0</td>\n      <td>0.0</td>\n    </tr>\n    <tr>\n      <th>699900</th>\n      <td>769.0</td>\n      <td>13823.0</td>\n      <td>0.0</td>\n      <td>0.0</td>\n      <td>2.0</td>\n      <td>1.0</td>\n      <td>6.733402</td>\n      <td>1.0</td>\n      <td>3.295837</td>\n      <td>0.0</td>\n      <td>...</td>\n      <td>0.0</td>\n      <td>0.0</td>\n      <td>0.0</td>\n      <td>0.0</td>\n      <td>1.0</td>\n      <td>0.0</td>\n      <td>0.0</td>\n      <td>0.0</td>\n      <td>1.0</td>\n      <td>0.0</td>\n    </tr>\n  </tbody>\n</table>\n<p>5 rows × 28 columns</p>\n</div>"
     },
     "execution_count": 17,
     "metadata": {},
     "output_type": "execute_result"
    }
   ],
   "source": [
    "test_data.head()"
   ],
   "metadata": {
    "collapsed": false,
    "pycharm": {
     "name": "#%%\n"
    }
   }
  },
  {
   "cell_type": "markdown",
   "source": [
    "## save train test data"
   ],
   "metadata": {
    "collapsed": false
   }
  },
  {
   "cell_type": "code",
   "execution_count": 18,
   "outputs": [],
   "source": [
    "# train_data\n",
    "#   sales data\n",
    "file_name=\"merged_sales_train.csv\"\n",
    "train_data.to_csv(join_pth(prep_dataset_path,file_name),index=False)\n",
    "\n",
    "\n",
    "# test_data\n",
    "#   sales data\n",
    "file_name=\"merged_sales_test.csv\"\n",
    "test_data.to_csv(join_pth(prep_dataset_path,file_name),index=False)\n",
    "\n"
   ],
   "metadata": {
    "collapsed": false,
    "pycharm": {
     "name": "#%%\n"
    }
   }
  },
  {
   "cell_type": "markdown",
   "source": [
    "# load data"
   ],
   "metadata": {
    "collapsed": false,
    "pycharm": {
     "name": "#%% md\n"
    }
   }
  },
  {
   "cell_type": "code",
   "execution_count": 143,
   "outputs": [],
   "source": [
    "file_name=\"merged_sales_train.csv\"\n",
    "merged_sales_train=pd.read_csv(join_pth(prep_dataset_path,file_name))\n",
    "\n",
    "\n",
    "file_name=\"merged_sales_test.csv\"\n",
    "merged_sales_test=pd.read_csv(join_pth(prep_dataset_path,file_name))\n"
   ],
   "metadata": {
    "collapsed": false,
    "pycharm": {
     "name": "#%%\n"
    }
   }
  },
  {
   "cell_type": "code",
   "execution_count": 58,
   "outputs": [
    {
     "data": {
      "text/plain": "          Sales  Promo  SchoolHoliday  month   day  CompetitionDistance  \\\n0       13899.0    0.0            0.0    2.0   1.0             7.533694   \n1        9867.0    0.0            0.0    2.0   1.0             7.265430   \n2       18263.0    0.0            0.0    2.0   1.0             6.756932   \n3       30525.0    0.0            0.0    2.0   1.0             7.073270   \n4       13823.0    0.0            0.0    2.0   1.0             6.733402   \n...         ...    ...            ...    ...   ...                  ...   \n167264  11449.0    1.0            1.0    7.0  31.0             5.192957   \n167265   5826.0    1.0            0.0    7.0  31.0             7.774856   \n167266   7537.0    1.0            1.0    7.0  31.0             6.507278   \n167267   9063.0    1.0            0.0    7.0  31.0             7.635304   \n167268   5263.0    1.0            1.0    7.0  31.0             7.146772   \n\n        Promo2  Promo2Since  CompetitionOpenSince  isPromoMonth  ...  \\\n0          0.0     0.000000                   0.0           0.0  ...   \n1          0.0     0.000000                   0.0           0.0  ...   \n2          0.0     0.000000                   0.0           0.0  ...   \n3          0.0     0.000000                   0.0           0.0  ...   \n4          1.0     3.295837                   0.0           0.0  ...   \n...        ...          ...                   ...           ...  ...   \n167264     1.0     3.367296                   0.0           1.0  ...   \n167265     1.0     2.197225                   0.0           1.0  ...   \n167266     1.0     1.098612                   0.0           1.0  ...   \n167267     1.0     4.060443                   0.0           1.0  ...   \n167268     0.0     0.000000                   0.0           0.0  ...   \n\n        StateHoliday_christmas  StateHoliday_easter  StateHoliday_public  \\\n0                          0.0                  0.0                  0.0   \n1                          0.0                  0.0                  0.0   \n2                          0.0                  0.0                  0.0   \n3                          0.0                  0.0                  0.0   \n4                          0.0                  0.0                  0.0   \n...                        ...                  ...                  ...   \n167264                     0.0                  0.0                  0.0   \n167265                     0.0                  0.0                  0.0   \n167266                     0.0                  0.0                  0.0   \n167267                     0.0                  0.0                  0.0   \n167268                     0.0                  0.0                  0.0   \n\n        StoreType_a  StoreType_b  StoreType_c  StoreType_d  Assortment_a  \\\n0               0.0          1.0          0.0          0.0           1.0   \n1               0.0          1.0          0.0          0.0           0.0   \n2               0.0          1.0          0.0          0.0           0.0   \n3               0.0          1.0          0.0          0.0           1.0   \n4               0.0          1.0          0.0          0.0           0.0   \n...             ...          ...          ...          ...           ...   \n167264          1.0          0.0          0.0          0.0           1.0   \n167265          0.0          0.0          0.0          1.0           1.0   \n167266          1.0          0.0          0.0          0.0           0.0   \n167267          1.0          0.0          0.0          0.0           0.0   \n167268          0.0          0.0          1.0          0.0           1.0   \n\n        Assortment_b  Assortment_c  \n0                0.0           0.0  \n1                1.0           0.0  \n2                1.0           0.0  \n3                0.0           0.0  \n4                1.0           0.0  \n...              ...           ...  \n167264           0.0           0.0  \n167265           0.0           0.0  \n167266           0.0           1.0  \n167267           0.0           1.0  \n167268           0.0           0.0  \n\n[167269 rows x 27 columns]",
      "text/html": "<div>\n<style scoped>\n    .dataframe tbody tr th:only-of-type {\n        vertical-align: middle;\n    }\n\n    .dataframe tbody tr th {\n        vertical-align: top;\n    }\n\n    .dataframe thead th {\n        text-align: right;\n    }\n</style>\n<table border=\"1\" class=\"dataframe\">\n  <thead>\n    <tr style=\"text-align: right;\">\n      <th></th>\n      <th>Sales</th>\n      <th>Promo</th>\n      <th>SchoolHoliday</th>\n      <th>month</th>\n      <th>day</th>\n      <th>CompetitionDistance</th>\n      <th>Promo2</th>\n      <th>Promo2Since</th>\n      <th>CompetitionOpenSince</th>\n      <th>isPromoMonth</th>\n      <th>...</th>\n      <th>StateHoliday_christmas</th>\n      <th>StateHoliday_easter</th>\n      <th>StateHoliday_public</th>\n      <th>StoreType_a</th>\n      <th>StoreType_b</th>\n      <th>StoreType_c</th>\n      <th>StoreType_d</th>\n      <th>Assortment_a</th>\n      <th>Assortment_b</th>\n      <th>Assortment_c</th>\n    </tr>\n  </thead>\n  <tbody>\n    <tr>\n      <th>0</th>\n      <td>13899.0</td>\n      <td>0.0</td>\n      <td>0.0</td>\n      <td>2.0</td>\n      <td>1.0</td>\n      <td>7.533694</td>\n      <td>0.0</td>\n      <td>0.000000</td>\n      <td>0.0</td>\n      <td>0.0</td>\n      <td>...</td>\n      <td>0.0</td>\n      <td>0.0</td>\n      <td>0.0</td>\n      <td>0.0</td>\n      <td>1.0</td>\n      <td>0.0</td>\n      <td>0.0</td>\n      <td>1.0</td>\n      <td>0.0</td>\n      <td>0.0</td>\n    </tr>\n    <tr>\n      <th>1</th>\n      <td>9867.0</td>\n      <td>0.0</td>\n      <td>0.0</td>\n      <td>2.0</td>\n      <td>1.0</td>\n      <td>7.265430</td>\n      <td>0.0</td>\n      <td>0.000000</td>\n      <td>0.0</td>\n      <td>0.0</td>\n      <td>...</td>\n      <td>0.0</td>\n      <td>0.0</td>\n      <td>0.0</td>\n      <td>0.0</td>\n      <td>1.0</td>\n      <td>0.0</td>\n      <td>0.0</td>\n      <td>0.0</td>\n      <td>1.0</td>\n      <td>0.0</td>\n    </tr>\n    <tr>\n      <th>2</th>\n      <td>18263.0</td>\n      <td>0.0</td>\n      <td>0.0</td>\n      <td>2.0</td>\n      <td>1.0</td>\n      <td>6.756932</td>\n      <td>0.0</td>\n      <td>0.000000</td>\n      <td>0.0</td>\n      <td>0.0</td>\n      <td>...</td>\n      <td>0.0</td>\n      <td>0.0</td>\n      <td>0.0</td>\n      <td>0.0</td>\n      <td>1.0</td>\n      <td>0.0</td>\n      <td>0.0</td>\n      <td>0.0</td>\n      <td>1.0</td>\n      <td>0.0</td>\n    </tr>\n    <tr>\n      <th>3</th>\n      <td>30525.0</td>\n      <td>0.0</td>\n      <td>0.0</td>\n      <td>2.0</td>\n      <td>1.0</td>\n      <td>7.073270</td>\n      <td>0.0</td>\n      <td>0.000000</td>\n      <td>0.0</td>\n      <td>0.0</td>\n      <td>...</td>\n      <td>0.0</td>\n      <td>0.0</td>\n      <td>0.0</td>\n      <td>0.0</td>\n      <td>1.0</td>\n      <td>0.0</td>\n      <td>0.0</td>\n      <td>1.0</td>\n      <td>0.0</td>\n      <td>0.0</td>\n    </tr>\n    <tr>\n      <th>4</th>\n      <td>13823.0</td>\n      <td>0.0</td>\n      <td>0.0</td>\n      <td>2.0</td>\n      <td>1.0</td>\n      <td>6.733402</td>\n      <td>1.0</td>\n      <td>3.295837</td>\n      <td>0.0</td>\n      <td>0.0</td>\n      <td>...</td>\n      <td>0.0</td>\n      <td>0.0</td>\n      <td>0.0</td>\n      <td>0.0</td>\n      <td>1.0</td>\n      <td>0.0</td>\n      <td>0.0</td>\n      <td>0.0</td>\n      <td>1.0</td>\n      <td>0.0</td>\n    </tr>\n    <tr>\n      <th>...</th>\n      <td>...</td>\n      <td>...</td>\n      <td>...</td>\n      <td>...</td>\n      <td>...</td>\n      <td>...</td>\n      <td>...</td>\n      <td>...</td>\n      <td>...</td>\n      <td>...</td>\n      <td>...</td>\n      <td>...</td>\n      <td>...</td>\n      <td>...</td>\n      <td>...</td>\n      <td>...</td>\n      <td>...</td>\n      <td>...</td>\n      <td>...</td>\n      <td>...</td>\n      <td>...</td>\n    </tr>\n    <tr>\n      <th>167264</th>\n      <td>11449.0</td>\n      <td>1.0</td>\n      <td>1.0</td>\n      <td>7.0</td>\n      <td>31.0</td>\n      <td>5.192957</td>\n      <td>1.0</td>\n      <td>3.367296</td>\n      <td>0.0</td>\n      <td>1.0</td>\n      <td>...</td>\n      <td>0.0</td>\n      <td>0.0</td>\n      <td>0.0</td>\n      <td>1.0</td>\n      <td>0.0</td>\n      <td>0.0</td>\n      <td>0.0</td>\n      <td>1.0</td>\n      <td>0.0</td>\n      <td>0.0</td>\n    </tr>\n    <tr>\n      <th>167265</th>\n      <td>5826.0</td>\n      <td>1.0</td>\n      <td>0.0</td>\n      <td>7.0</td>\n      <td>31.0</td>\n      <td>7.774856</td>\n      <td>1.0</td>\n      <td>2.197225</td>\n      <td>0.0</td>\n      <td>1.0</td>\n      <td>...</td>\n      <td>0.0</td>\n      <td>0.0</td>\n      <td>0.0</td>\n      <td>0.0</td>\n      <td>0.0</td>\n      <td>0.0</td>\n      <td>1.0</td>\n      <td>1.0</td>\n      <td>0.0</td>\n      <td>0.0</td>\n    </tr>\n    <tr>\n      <th>167266</th>\n      <td>7537.0</td>\n      <td>1.0</td>\n      <td>1.0</td>\n      <td>7.0</td>\n      <td>31.0</td>\n      <td>6.507278</td>\n      <td>1.0</td>\n      <td>1.098612</td>\n      <td>0.0</td>\n      <td>1.0</td>\n      <td>...</td>\n      <td>0.0</td>\n      <td>0.0</td>\n      <td>0.0</td>\n      <td>1.0</td>\n      <td>0.0</td>\n      <td>0.0</td>\n      <td>0.0</td>\n      <td>0.0</td>\n      <td>0.0</td>\n      <td>1.0</td>\n    </tr>\n    <tr>\n      <th>167267</th>\n      <td>9063.0</td>\n      <td>1.0</td>\n      <td>0.0</td>\n      <td>7.0</td>\n      <td>31.0</td>\n      <td>7.635304</td>\n      <td>1.0</td>\n      <td>4.060443</td>\n      <td>0.0</td>\n      <td>1.0</td>\n      <td>...</td>\n      <td>0.0</td>\n      <td>0.0</td>\n      <td>0.0</td>\n      <td>1.0</td>\n      <td>0.0</td>\n      <td>0.0</td>\n      <td>0.0</td>\n      <td>0.0</td>\n      <td>0.0</td>\n      <td>1.0</td>\n    </tr>\n    <tr>\n      <th>167268</th>\n      <td>5263.0</td>\n      <td>1.0</td>\n      <td>1.0</td>\n      <td>7.0</td>\n      <td>31.0</td>\n      <td>7.146772</td>\n      <td>0.0</td>\n      <td>0.000000</td>\n      <td>0.0</td>\n      <td>0.0</td>\n      <td>...</td>\n      <td>0.0</td>\n      <td>0.0</td>\n      <td>0.0</td>\n      <td>0.0</td>\n      <td>0.0</td>\n      <td>1.0</td>\n      <td>0.0</td>\n      <td>1.0</td>\n      <td>0.0</td>\n      <td>0.0</td>\n    </tr>\n  </tbody>\n</table>\n<p>167269 rows × 27 columns</p>\n</div>"
     },
     "execution_count": 58,
     "metadata": {},
     "output_type": "execute_result"
    }
   ],
   "source": [
    "merged_sales_train[(merged_sales_train.year==2014)&(merged_sales_train.Store==622)&(merged_sales_train.month==9)]"
   ],
   "metadata": {
    "collapsed": false,
    "pycharm": {
     "name": "#%%\n"
    }
   }
  },
  {
   "cell_type": "code",
   "execution_count": 142,
   "outputs": [
    {
     "data": {
      "text/plain": "          Id  Store  DayOfWeek        Date  Open  Promo StateHoliday  \\\n479      480    622          4  2015-09-17   NaN      1            0   \n1335    1336    622          3  2015-09-16   NaN      1            0   \n2191    2192    622          2  2015-09-15   NaN      1            0   \n3047    3048    622          1  2015-09-14   NaN      1            0   \n4759    4760    622          6  2015-09-12   NaN      0            0   \n5615    5616    622          5  2015-09-11   NaN      0            0   \n6471    6472    622          4  2015-09-10   NaN      0            0   \n7327    7328    622          3  2015-09-09   NaN      0            0   \n8183    8184    622          2  2015-09-08   NaN      0            0   \n9039    9040    622          1  2015-09-07   NaN      0            0   \n10751  10752    622          6  2015-09-05   NaN      0            0   \n\n       SchoolHoliday  \n479                0  \n1335               0  \n2191               0  \n3047               0  \n4759               0  \n5615               0  \n6471               0  \n7327               0  \n8183               0  \n9039               0  \n10751              0  ",
      "text/html": "<div>\n<style scoped>\n    .dataframe tbody tr th:only-of-type {\n        vertical-align: middle;\n    }\n\n    .dataframe tbody tr th {\n        vertical-align: top;\n    }\n\n    .dataframe thead th {\n        text-align: right;\n    }\n</style>\n<table border=\"1\" class=\"dataframe\">\n  <thead>\n    <tr style=\"text-align: right;\">\n      <th></th>\n      <th>Id</th>\n      <th>Store</th>\n      <th>DayOfWeek</th>\n      <th>Date</th>\n      <th>Open</th>\n      <th>Promo</th>\n      <th>StateHoliday</th>\n      <th>SchoolHoliday</th>\n    </tr>\n  </thead>\n  <tbody>\n    <tr>\n      <th>479</th>\n      <td>480</td>\n      <td>622</td>\n      <td>4</td>\n      <td>2015-09-17</td>\n      <td>NaN</td>\n      <td>1</td>\n      <td>0</td>\n      <td>0</td>\n    </tr>\n    <tr>\n      <th>1335</th>\n      <td>1336</td>\n      <td>622</td>\n      <td>3</td>\n      <td>2015-09-16</td>\n      <td>NaN</td>\n      <td>1</td>\n      <td>0</td>\n      <td>0</td>\n    </tr>\n    <tr>\n      <th>2191</th>\n      <td>2192</td>\n      <td>622</td>\n      <td>2</td>\n      <td>2015-09-15</td>\n      <td>NaN</td>\n      <td>1</td>\n      <td>0</td>\n      <td>0</td>\n    </tr>\n    <tr>\n      <th>3047</th>\n      <td>3048</td>\n      <td>622</td>\n      <td>1</td>\n      <td>2015-09-14</td>\n      <td>NaN</td>\n      <td>1</td>\n      <td>0</td>\n      <td>0</td>\n    </tr>\n    <tr>\n      <th>4759</th>\n      <td>4760</td>\n      <td>622</td>\n      <td>6</td>\n      <td>2015-09-12</td>\n      <td>NaN</td>\n      <td>0</td>\n      <td>0</td>\n      <td>0</td>\n    </tr>\n    <tr>\n      <th>5615</th>\n      <td>5616</td>\n      <td>622</td>\n      <td>5</td>\n      <td>2015-09-11</td>\n      <td>NaN</td>\n      <td>0</td>\n      <td>0</td>\n      <td>0</td>\n    </tr>\n    <tr>\n      <th>6471</th>\n      <td>6472</td>\n      <td>622</td>\n      <td>4</td>\n      <td>2015-09-10</td>\n      <td>NaN</td>\n      <td>0</td>\n      <td>0</td>\n      <td>0</td>\n    </tr>\n    <tr>\n      <th>7327</th>\n      <td>7328</td>\n      <td>622</td>\n      <td>3</td>\n      <td>2015-09-09</td>\n      <td>NaN</td>\n      <td>0</td>\n      <td>0</td>\n      <td>0</td>\n    </tr>\n    <tr>\n      <th>8183</th>\n      <td>8184</td>\n      <td>622</td>\n      <td>2</td>\n      <td>2015-09-08</td>\n      <td>NaN</td>\n      <td>0</td>\n      <td>0</td>\n      <td>0</td>\n    </tr>\n    <tr>\n      <th>9039</th>\n      <td>9040</td>\n      <td>622</td>\n      <td>1</td>\n      <td>2015-09-07</td>\n      <td>NaN</td>\n      <td>0</td>\n      <td>0</td>\n      <td>0</td>\n    </tr>\n    <tr>\n      <th>10751</th>\n      <td>10752</td>\n      <td>622</td>\n      <td>6</td>\n      <td>2015-09-05</td>\n      <td>NaN</td>\n      <td>0</td>\n      <td>0</td>\n      <td>0</td>\n    </tr>\n  </tbody>\n</table>\n</div>"
     },
     "execution_count": 142,
     "metadata": {},
     "output_type": "execute_result"
    }
   ],
   "source": [
    "kaggle_sales_df[kaggle_sales_df.Open.isnull()]"
   ],
   "metadata": {
    "collapsed": false,
    "pycharm": {
     "name": "#%%\n"
    }
   }
  },
  {
   "cell_type": "markdown",
   "source": [
    "# Train loader"
   ],
   "metadata": {
    "collapsed": false
   }
  },
  {
   "cell_type": "code",
   "execution_count": 92,
   "outputs": [],
   "source": [
    "train_dataset=data_loader.LSTMSalesDataset(merged_sales_train,seq_length=30)\n",
    "test_dataset=data_loader.LSTMSalesDataset(merged_sales_test,seq_length=30)"
   ],
   "metadata": {
    "collapsed": false,
    "pycharm": {
     "name": "#%%\n"
    }
   }
  },
  {
   "cell_type": "code",
   "execution_count": 93,
   "outputs": [],
   "source": [
    "# data loader test\n",
    "iterr=iter(train_dataset)\n"
   ],
   "metadata": {
    "collapsed": false,
    "pycharm": {
     "name": "#%%\n"
    }
   }
  },
  {
   "cell_type": "code",
   "execution_count": 94,
   "outputs": [
    {
     "name": "stdout",
     "output_type": "stream",
     "text": [
      "lstm in shape --> torch.Size([30, 15]) nn in shape --> torch.Size([26]) out-> shape torch.Size([1])\n"
     ]
    }
   ],
   "source": [
    "lstm_in,nn_in,out=next(iterr)\n",
    "print(f\"lstm in shape --> {lstm_in.shape} nn in shape --> {nn_in.shape} out-> shape {out.shape}\")"
   ],
   "metadata": {
    "collapsed": false,
    "pycharm": {
     "name": "#%%\n"
    }
   }
  },
  {
   "cell_type": "code",
   "execution_count": 95,
   "outputs": [
    {
     "data": {
      "text/plain": "412.0"
     },
     "execution_count": 95,
     "metadata": {},
     "output_type": "execute_result"
    }
   ],
   "source": [
    "train_dataset.current_store"
   ],
   "metadata": {
    "collapsed": false,
    "pycharm": {
     "name": "#%%\n"
    }
   }
  },
  {
   "cell_type": "code",
   "execution_count": 98,
   "outputs": [
    {
     "data": {
      "text/plain": "tensor([ 8007.,  6685.,  8196., 10121., 10634.,  8281.,  8789.,  8723.,  8676.,\n        10206.,  6984.,  6366.,  5407.,  5877.,  6657., 10446.,  8195.,  9965.,\n         8658.,  8139.,  8820., 11006.,  6512.,  6249.,  6505.,  7634.,  8233.,\n        12153.,  8598., 10057.])"
     },
     "execution_count": 98,
     "metadata": {},
     "output_type": "execute_result"
    }
   ],
   "source": [
    "lstm_in[:,0]"
   ],
   "metadata": {
    "collapsed": false,
    "pycharm": {
     "name": "#%%\n"
    }
   }
  },
  {
   "cell_type": "code",
   "execution_count": 102,
   "outputs": [
    {
     "data": {
      "text/plain": "tensor([8085.])"
     },
     "execution_count": 102,
     "metadata": {},
     "output_type": "execute_result"
    }
   ],
   "source": [
    "out"
   ],
   "metadata": {
    "collapsed": false,
    "pycharm": {
     "name": "#%%\n"
    }
   }
  },
  {
   "cell_type": "code",
   "execution_count": 101,
   "outputs": [
    {
     "data": {
      "text/plain": "       Store    Sales  Promo  SchoolHoliday  month   day  CompetitionDistance  \\\n765    412.0   8007.0    0.0            1.0    1.0   2.0             8.402904   \n1531   412.0   6685.0    0.0            1.0    1.0   3.0             8.402904   \n2266   412.0   8196.0    0.0            1.0    1.0   4.0             8.402904   \n4331   412.0  10121.0    0.0            0.0    1.0   5.0             8.402904   \n5337   412.0  10634.0    1.0            0.0    1.0   7.0             8.402904   \n5578   412.0   8281.0    1.0            0.0    1.0   8.0             8.402904   \n7700   412.0   8789.0    1.0            0.0    1.0   9.0             8.402904   \n7876   412.0   8723.0    1.0            0.0    1.0  10.0             8.402904   \n9673   412.0   8676.0    1.0            0.0    1.0  11.0             8.402904   \n10441  412.0  10206.0    0.0            0.0    1.0  12.0             8.402904   \n12028  412.0   6984.0    0.0            0.0    1.0  14.0             8.402904   \n13159  412.0   6366.0    0.0            0.0    1.0  15.0             8.402904   \n13385  412.0   5407.0    0.0            0.0    1.0  16.0             8.402904   \n14442  412.0   5877.0    0.0            0.0    1.0  17.0             8.402904   \n15838  412.0   6657.0    0.0            0.0    1.0  18.0             8.402904   \n17363  412.0  10446.0    0.0            0.0    1.0  19.0             8.402904   \n17851  412.0   8195.0    1.0            0.0    1.0  21.0             8.402904   \n19168  412.0   9965.0    1.0            0.0    1.0  22.0             8.402904   \n20912  412.0   8658.0    1.0            0.0    1.0  23.0             8.402904   \n21995  412.0   8139.0    1.0            0.0    1.0  24.0             8.402904   \n22641  412.0   8820.0    1.0            0.0    1.0  25.0             8.402904   \n24060  412.0  11006.0    0.0            0.0    1.0  26.0             8.402904   \n25353  412.0   6512.0    0.0            0.0    1.0  28.0             8.402904   \n25791  412.0   6249.0    0.0            0.0    1.0  29.0             8.402904   \n26856  412.0   6505.0    0.0            0.0    1.0  30.0             8.402904   \n28756  412.0   7634.0    0.0            0.0    1.0  31.0             8.402904   \n29741  412.0   8233.0    0.0            0.0    2.0   1.0             8.402904   \n30015  412.0  12153.0    0.0            0.0    2.0   2.0             8.402904   \n31662  412.0   8598.0    1.0            0.0    2.0   4.0             8.402904   \n32344  412.0  10057.0    1.0            0.0    2.0   5.0             8.402904   \n33566  412.0   8085.0    1.0            0.0    2.0   6.0             8.402904   \n\n       Promo2  Promo2Since  CompetitionOpenSince  ...  StateHoliday_christmas  \\\n765       1.0     3.332205                   0.0  ...                     0.0   \n1531      1.0     3.332205                   0.0  ...                     0.0   \n2266      1.0     3.332205                   0.0  ...                     0.0   \n4331      1.0     3.332205                   0.0  ...                     0.0   \n5337      1.0     3.332205                   0.0  ...                     0.0   \n5578      1.0     3.332205                   0.0  ...                     0.0   \n7700      1.0     3.332205                   0.0  ...                     0.0   \n7876      1.0     3.332205                   0.0  ...                     0.0   \n9673      1.0     3.332205                   0.0  ...                     0.0   \n10441     1.0     3.332205                   0.0  ...                     0.0   \n12028     1.0     3.332205                   0.0  ...                     0.0   \n13159     1.0     3.332205                   0.0  ...                     0.0   \n13385     1.0     3.332205                   0.0  ...                     0.0   \n14442     1.0     3.332205                   0.0  ...                     0.0   \n15838     1.0     3.332205                   0.0  ...                     0.0   \n17363     1.0     3.332205                   0.0  ...                     0.0   \n17851     1.0     3.332205                   0.0  ...                     0.0   \n19168     1.0     3.332205                   0.0  ...                     0.0   \n20912     1.0     3.332205                   0.0  ...                     0.0   \n21995     1.0     3.332205                   0.0  ...                     0.0   \n22641     1.0     3.332205                   0.0  ...                     0.0   \n24060     1.0     3.332205                   0.0  ...                     0.0   \n25353     1.0     3.332205                   0.0  ...                     0.0   \n25791     1.0     3.332205                   0.0  ...                     0.0   \n26856     1.0     3.332205                   0.0  ...                     0.0   \n28756     1.0     3.332205                   0.0  ...                     0.0   \n29741     1.0     3.367296                   0.0  ...                     0.0   \n30015     1.0     3.367296                   0.0  ...                     0.0   \n31662     1.0     3.367296                   0.0  ...                     0.0   \n32344     1.0     3.367296                   0.0  ...                     0.0   \n33566     1.0     3.367296                   0.0  ...                     0.0   \n\n       StateHoliday_easter  StateHoliday_public  StoreType_a  StoreType_b  \\\n765                    0.0                  0.0          0.0          0.0   \n1531                   0.0                  0.0          0.0          0.0   \n2266                   0.0                  0.0          0.0          0.0   \n4331                   0.0                  0.0          0.0          0.0   \n5337                   0.0                  0.0          0.0          0.0   \n5578                   0.0                  0.0          0.0          0.0   \n7700                   0.0                  0.0          0.0          0.0   \n7876                   0.0                  0.0          0.0          0.0   \n9673                   0.0                  0.0          0.0          0.0   \n10441                  0.0                  0.0          0.0          0.0   \n12028                  0.0                  0.0          0.0          0.0   \n13159                  0.0                  0.0          0.0          0.0   \n13385                  0.0                  0.0          0.0          0.0   \n14442                  0.0                  0.0          0.0          0.0   \n15838                  0.0                  0.0          0.0          0.0   \n17363                  0.0                  0.0          0.0          0.0   \n17851                  0.0                  0.0          0.0          0.0   \n19168                  0.0                  0.0          0.0          0.0   \n20912                  0.0                  0.0          0.0          0.0   \n21995                  0.0                  0.0          0.0          0.0   \n22641                  0.0                  0.0          0.0          0.0   \n24060                  0.0                  0.0          0.0          0.0   \n25353                  0.0                  0.0          0.0          0.0   \n25791                  0.0                  0.0          0.0          0.0   \n26856                  0.0                  0.0          0.0          0.0   \n28756                  0.0                  0.0          0.0          0.0   \n29741                  0.0                  0.0          0.0          0.0   \n30015                  0.0                  0.0          0.0          0.0   \n31662                  0.0                  0.0          0.0          0.0   \n32344                  0.0                  0.0          0.0          0.0   \n33566                  0.0                  0.0          0.0          0.0   \n\n       StoreType_c  StoreType_d  Assortment_a  Assortment_b  Assortment_c  \n765            0.0          1.0           0.0           0.0           1.0  \n1531           0.0          1.0           0.0           0.0           1.0  \n2266           0.0          1.0           0.0           0.0           1.0  \n4331           0.0          1.0           0.0           0.0           1.0  \n5337           0.0          1.0           0.0           0.0           1.0  \n5578           0.0          1.0           0.0           0.0           1.0  \n7700           0.0          1.0           0.0           0.0           1.0  \n7876           0.0          1.0           0.0           0.0           1.0  \n9673           0.0          1.0           0.0           0.0           1.0  \n10441          0.0          1.0           0.0           0.0           1.0  \n12028          0.0          1.0           0.0           0.0           1.0  \n13159          0.0          1.0           0.0           0.0           1.0  \n13385          0.0          1.0           0.0           0.0           1.0  \n14442          0.0          1.0           0.0           0.0           1.0  \n15838          0.0          1.0           0.0           0.0           1.0  \n17363          0.0          1.0           0.0           0.0           1.0  \n17851          0.0          1.0           0.0           0.0           1.0  \n19168          0.0          1.0           0.0           0.0           1.0  \n20912          0.0          1.0           0.0           0.0           1.0  \n21995          0.0          1.0           0.0           0.0           1.0  \n22641          0.0          1.0           0.0           0.0           1.0  \n24060          0.0          1.0           0.0           0.0           1.0  \n25353          0.0          1.0           0.0           0.0           1.0  \n25791          0.0          1.0           0.0           0.0           1.0  \n26856          0.0          1.0           0.0           0.0           1.0  \n28756          0.0          1.0           0.0           0.0           1.0  \n29741          0.0          1.0           0.0           0.0           1.0  \n30015          0.0          1.0           0.0           0.0           1.0  \n31662          0.0          1.0           0.0           0.0           1.0  \n32344          0.0          1.0           0.0           0.0           1.0  \n33566          0.0          1.0           0.0           0.0           1.0  \n\n[31 rows x 28 columns]",
      "text/html": "<div>\n<style scoped>\n    .dataframe tbody tr th:only-of-type {\n        vertical-align: middle;\n    }\n\n    .dataframe tbody tr th {\n        vertical-align: top;\n    }\n\n    .dataframe thead th {\n        text-align: right;\n    }\n</style>\n<table border=\"1\" class=\"dataframe\">\n  <thead>\n    <tr style=\"text-align: right;\">\n      <th></th>\n      <th>Store</th>\n      <th>Sales</th>\n      <th>Promo</th>\n      <th>SchoolHoliday</th>\n      <th>month</th>\n      <th>day</th>\n      <th>CompetitionDistance</th>\n      <th>Promo2</th>\n      <th>Promo2Since</th>\n      <th>CompetitionOpenSince</th>\n      <th>...</th>\n      <th>StateHoliday_christmas</th>\n      <th>StateHoliday_easter</th>\n      <th>StateHoliday_public</th>\n      <th>StoreType_a</th>\n      <th>StoreType_b</th>\n      <th>StoreType_c</th>\n      <th>StoreType_d</th>\n      <th>Assortment_a</th>\n      <th>Assortment_b</th>\n      <th>Assortment_c</th>\n    </tr>\n  </thead>\n  <tbody>\n    <tr>\n      <th>765</th>\n      <td>412.0</td>\n      <td>8007.0</td>\n      <td>0.0</td>\n      <td>1.0</td>\n      <td>1.0</td>\n      <td>2.0</td>\n      <td>8.402904</td>\n      <td>1.0</td>\n      <td>3.332205</td>\n      <td>0.0</td>\n      <td>...</td>\n      <td>0.0</td>\n      <td>0.0</td>\n      <td>0.0</td>\n      <td>0.0</td>\n      <td>0.0</td>\n      <td>0.0</td>\n      <td>1.0</td>\n      <td>0.0</td>\n      <td>0.0</td>\n      <td>1.0</td>\n    </tr>\n    <tr>\n      <th>1531</th>\n      <td>412.0</td>\n      <td>6685.0</td>\n      <td>0.0</td>\n      <td>1.0</td>\n      <td>1.0</td>\n      <td>3.0</td>\n      <td>8.402904</td>\n      <td>1.0</td>\n      <td>3.332205</td>\n      <td>0.0</td>\n      <td>...</td>\n      <td>0.0</td>\n      <td>0.0</td>\n      <td>0.0</td>\n      <td>0.0</td>\n      <td>0.0</td>\n      <td>0.0</td>\n      <td>1.0</td>\n      <td>0.0</td>\n      <td>0.0</td>\n      <td>1.0</td>\n    </tr>\n    <tr>\n      <th>2266</th>\n      <td>412.0</td>\n      <td>8196.0</td>\n      <td>0.0</td>\n      <td>1.0</td>\n      <td>1.0</td>\n      <td>4.0</td>\n      <td>8.402904</td>\n      <td>1.0</td>\n      <td>3.332205</td>\n      <td>0.0</td>\n      <td>...</td>\n      <td>0.0</td>\n      <td>0.0</td>\n      <td>0.0</td>\n      <td>0.0</td>\n      <td>0.0</td>\n      <td>0.0</td>\n      <td>1.0</td>\n      <td>0.0</td>\n      <td>0.0</td>\n      <td>1.0</td>\n    </tr>\n    <tr>\n      <th>4331</th>\n      <td>412.0</td>\n      <td>10121.0</td>\n      <td>0.0</td>\n      <td>0.0</td>\n      <td>1.0</td>\n      <td>5.0</td>\n      <td>8.402904</td>\n      <td>1.0</td>\n      <td>3.332205</td>\n      <td>0.0</td>\n      <td>...</td>\n      <td>0.0</td>\n      <td>0.0</td>\n      <td>0.0</td>\n      <td>0.0</td>\n      <td>0.0</td>\n      <td>0.0</td>\n      <td>1.0</td>\n      <td>0.0</td>\n      <td>0.0</td>\n      <td>1.0</td>\n    </tr>\n    <tr>\n      <th>5337</th>\n      <td>412.0</td>\n      <td>10634.0</td>\n      <td>1.0</td>\n      <td>0.0</td>\n      <td>1.0</td>\n      <td>7.0</td>\n      <td>8.402904</td>\n      <td>1.0</td>\n      <td>3.332205</td>\n      <td>0.0</td>\n      <td>...</td>\n      <td>0.0</td>\n      <td>0.0</td>\n      <td>0.0</td>\n      <td>0.0</td>\n      <td>0.0</td>\n      <td>0.0</td>\n      <td>1.0</td>\n      <td>0.0</td>\n      <td>0.0</td>\n      <td>1.0</td>\n    </tr>\n    <tr>\n      <th>5578</th>\n      <td>412.0</td>\n      <td>8281.0</td>\n      <td>1.0</td>\n      <td>0.0</td>\n      <td>1.0</td>\n      <td>8.0</td>\n      <td>8.402904</td>\n      <td>1.0</td>\n      <td>3.332205</td>\n      <td>0.0</td>\n      <td>...</td>\n      <td>0.0</td>\n      <td>0.0</td>\n      <td>0.0</td>\n      <td>0.0</td>\n      <td>0.0</td>\n      <td>0.0</td>\n      <td>1.0</td>\n      <td>0.0</td>\n      <td>0.0</td>\n      <td>1.0</td>\n    </tr>\n    <tr>\n      <th>7700</th>\n      <td>412.0</td>\n      <td>8789.0</td>\n      <td>1.0</td>\n      <td>0.0</td>\n      <td>1.0</td>\n      <td>9.0</td>\n      <td>8.402904</td>\n      <td>1.0</td>\n      <td>3.332205</td>\n      <td>0.0</td>\n      <td>...</td>\n      <td>0.0</td>\n      <td>0.0</td>\n      <td>0.0</td>\n      <td>0.0</td>\n      <td>0.0</td>\n      <td>0.0</td>\n      <td>1.0</td>\n      <td>0.0</td>\n      <td>0.0</td>\n      <td>1.0</td>\n    </tr>\n    <tr>\n      <th>7876</th>\n      <td>412.0</td>\n      <td>8723.0</td>\n      <td>1.0</td>\n      <td>0.0</td>\n      <td>1.0</td>\n      <td>10.0</td>\n      <td>8.402904</td>\n      <td>1.0</td>\n      <td>3.332205</td>\n      <td>0.0</td>\n      <td>...</td>\n      <td>0.0</td>\n      <td>0.0</td>\n      <td>0.0</td>\n      <td>0.0</td>\n      <td>0.0</td>\n      <td>0.0</td>\n      <td>1.0</td>\n      <td>0.0</td>\n      <td>0.0</td>\n      <td>1.0</td>\n    </tr>\n    <tr>\n      <th>9673</th>\n      <td>412.0</td>\n      <td>8676.0</td>\n      <td>1.0</td>\n      <td>0.0</td>\n      <td>1.0</td>\n      <td>11.0</td>\n      <td>8.402904</td>\n      <td>1.0</td>\n      <td>3.332205</td>\n      <td>0.0</td>\n      <td>...</td>\n      <td>0.0</td>\n      <td>0.0</td>\n      <td>0.0</td>\n      <td>0.0</td>\n      <td>0.0</td>\n      <td>0.0</td>\n      <td>1.0</td>\n      <td>0.0</td>\n      <td>0.0</td>\n      <td>1.0</td>\n    </tr>\n    <tr>\n      <th>10441</th>\n      <td>412.0</td>\n      <td>10206.0</td>\n      <td>0.0</td>\n      <td>0.0</td>\n      <td>1.0</td>\n      <td>12.0</td>\n      <td>8.402904</td>\n      <td>1.0</td>\n      <td>3.332205</td>\n      <td>0.0</td>\n      <td>...</td>\n      <td>0.0</td>\n      <td>0.0</td>\n      <td>0.0</td>\n      <td>0.0</td>\n      <td>0.0</td>\n      <td>0.0</td>\n      <td>1.0</td>\n      <td>0.0</td>\n      <td>0.0</td>\n      <td>1.0</td>\n    </tr>\n    <tr>\n      <th>12028</th>\n      <td>412.0</td>\n      <td>6984.0</td>\n      <td>0.0</td>\n      <td>0.0</td>\n      <td>1.0</td>\n      <td>14.0</td>\n      <td>8.402904</td>\n      <td>1.0</td>\n      <td>3.332205</td>\n      <td>0.0</td>\n      <td>...</td>\n      <td>0.0</td>\n      <td>0.0</td>\n      <td>0.0</td>\n      <td>0.0</td>\n      <td>0.0</td>\n      <td>0.0</td>\n      <td>1.0</td>\n      <td>0.0</td>\n      <td>0.0</td>\n      <td>1.0</td>\n    </tr>\n    <tr>\n      <th>13159</th>\n      <td>412.0</td>\n      <td>6366.0</td>\n      <td>0.0</td>\n      <td>0.0</td>\n      <td>1.0</td>\n      <td>15.0</td>\n      <td>8.402904</td>\n      <td>1.0</td>\n      <td>3.332205</td>\n      <td>0.0</td>\n      <td>...</td>\n      <td>0.0</td>\n      <td>0.0</td>\n      <td>0.0</td>\n      <td>0.0</td>\n      <td>0.0</td>\n      <td>0.0</td>\n      <td>1.0</td>\n      <td>0.0</td>\n      <td>0.0</td>\n      <td>1.0</td>\n    </tr>\n    <tr>\n      <th>13385</th>\n      <td>412.0</td>\n      <td>5407.0</td>\n      <td>0.0</td>\n      <td>0.0</td>\n      <td>1.0</td>\n      <td>16.0</td>\n      <td>8.402904</td>\n      <td>1.0</td>\n      <td>3.332205</td>\n      <td>0.0</td>\n      <td>...</td>\n      <td>0.0</td>\n      <td>0.0</td>\n      <td>0.0</td>\n      <td>0.0</td>\n      <td>0.0</td>\n      <td>0.0</td>\n      <td>1.0</td>\n      <td>0.0</td>\n      <td>0.0</td>\n      <td>1.0</td>\n    </tr>\n    <tr>\n      <th>14442</th>\n      <td>412.0</td>\n      <td>5877.0</td>\n      <td>0.0</td>\n      <td>0.0</td>\n      <td>1.0</td>\n      <td>17.0</td>\n      <td>8.402904</td>\n      <td>1.0</td>\n      <td>3.332205</td>\n      <td>0.0</td>\n      <td>...</td>\n      <td>0.0</td>\n      <td>0.0</td>\n      <td>0.0</td>\n      <td>0.0</td>\n      <td>0.0</td>\n      <td>0.0</td>\n      <td>1.0</td>\n      <td>0.0</td>\n      <td>0.0</td>\n      <td>1.0</td>\n    </tr>\n    <tr>\n      <th>15838</th>\n      <td>412.0</td>\n      <td>6657.0</td>\n      <td>0.0</td>\n      <td>0.0</td>\n      <td>1.0</td>\n      <td>18.0</td>\n      <td>8.402904</td>\n      <td>1.0</td>\n      <td>3.332205</td>\n      <td>0.0</td>\n      <td>...</td>\n      <td>0.0</td>\n      <td>0.0</td>\n      <td>0.0</td>\n      <td>0.0</td>\n      <td>0.0</td>\n      <td>0.0</td>\n      <td>1.0</td>\n      <td>0.0</td>\n      <td>0.0</td>\n      <td>1.0</td>\n    </tr>\n    <tr>\n      <th>17363</th>\n      <td>412.0</td>\n      <td>10446.0</td>\n      <td>0.0</td>\n      <td>0.0</td>\n      <td>1.0</td>\n      <td>19.0</td>\n      <td>8.402904</td>\n      <td>1.0</td>\n      <td>3.332205</td>\n      <td>0.0</td>\n      <td>...</td>\n      <td>0.0</td>\n      <td>0.0</td>\n      <td>0.0</td>\n      <td>0.0</td>\n      <td>0.0</td>\n      <td>0.0</td>\n      <td>1.0</td>\n      <td>0.0</td>\n      <td>0.0</td>\n      <td>1.0</td>\n    </tr>\n    <tr>\n      <th>17851</th>\n      <td>412.0</td>\n      <td>8195.0</td>\n      <td>1.0</td>\n      <td>0.0</td>\n      <td>1.0</td>\n      <td>21.0</td>\n      <td>8.402904</td>\n      <td>1.0</td>\n      <td>3.332205</td>\n      <td>0.0</td>\n      <td>...</td>\n      <td>0.0</td>\n      <td>0.0</td>\n      <td>0.0</td>\n      <td>0.0</td>\n      <td>0.0</td>\n      <td>0.0</td>\n      <td>1.0</td>\n      <td>0.0</td>\n      <td>0.0</td>\n      <td>1.0</td>\n    </tr>\n    <tr>\n      <th>19168</th>\n      <td>412.0</td>\n      <td>9965.0</td>\n      <td>1.0</td>\n      <td>0.0</td>\n      <td>1.0</td>\n      <td>22.0</td>\n      <td>8.402904</td>\n      <td>1.0</td>\n      <td>3.332205</td>\n      <td>0.0</td>\n      <td>...</td>\n      <td>0.0</td>\n      <td>0.0</td>\n      <td>0.0</td>\n      <td>0.0</td>\n      <td>0.0</td>\n      <td>0.0</td>\n      <td>1.0</td>\n      <td>0.0</td>\n      <td>0.0</td>\n      <td>1.0</td>\n    </tr>\n    <tr>\n      <th>20912</th>\n      <td>412.0</td>\n      <td>8658.0</td>\n      <td>1.0</td>\n      <td>0.0</td>\n      <td>1.0</td>\n      <td>23.0</td>\n      <td>8.402904</td>\n      <td>1.0</td>\n      <td>3.332205</td>\n      <td>0.0</td>\n      <td>...</td>\n      <td>0.0</td>\n      <td>0.0</td>\n      <td>0.0</td>\n      <td>0.0</td>\n      <td>0.0</td>\n      <td>0.0</td>\n      <td>1.0</td>\n      <td>0.0</td>\n      <td>0.0</td>\n      <td>1.0</td>\n    </tr>\n    <tr>\n      <th>21995</th>\n      <td>412.0</td>\n      <td>8139.0</td>\n      <td>1.0</td>\n      <td>0.0</td>\n      <td>1.0</td>\n      <td>24.0</td>\n      <td>8.402904</td>\n      <td>1.0</td>\n      <td>3.332205</td>\n      <td>0.0</td>\n      <td>...</td>\n      <td>0.0</td>\n      <td>0.0</td>\n      <td>0.0</td>\n      <td>0.0</td>\n      <td>0.0</td>\n      <td>0.0</td>\n      <td>1.0</td>\n      <td>0.0</td>\n      <td>0.0</td>\n      <td>1.0</td>\n    </tr>\n    <tr>\n      <th>22641</th>\n      <td>412.0</td>\n      <td>8820.0</td>\n      <td>1.0</td>\n      <td>0.0</td>\n      <td>1.0</td>\n      <td>25.0</td>\n      <td>8.402904</td>\n      <td>1.0</td>\n      <td>3.332205</td>\n      <td>0.0</td>\n      <td>...</td>\n      <td>0.0</td>\n      <td>0.0</td>\n      <td>0.0</td>\n      <td>0.0</td>\n      <td>0.0</td>\n      <td>0.0</td>\n      <td>1.0</td>\n      <td>0.0</td>\n      <td>0.0</td>\n      <td>1.0</td>\n    </tr>\n    <tr>\n      <th>24060</th>\n      <td>412.0</td>\n      <td>11006.0</td>\n      <td>0.0</td>\n      <td>0.0</td>\n      <td>1.0</td>\n      <td>26.0</td>\n      <td>8.402904</td>\n      <td>1.0</td>\n      <td>3.332205</td>\n      <td>0.0</td>\n      <td>...</td>\n      <td>0.0</td>\n      <td>0.0</td>\n      <td>0.0</td>\n      <td>0.0</td>\n      <td>0.0</td>\n      <td>0.0</td>\n      <td>1.0</td>\n      <td>0.0</td>\n      <td>0.0</td>\n      <td>1.0</td>\n    </tr>\n    <tr>\n      <th>25353</th>\n      <td>412.0</td>\n      <td>6512.0</td>\n      <td>0.0</td>\n      <td>0.0</td>\n      <td>1.0</td>\n      <td>28.0</td>\n      <td>8.402904</td>\n      <td>1.0</td>\n      <td>3.332205</td>\n      <td>0.0</td>\n      <td>...</td>\n      <td>0.0</td>\n      <td>0.0</td>\n      <td>0.0</td>\n      <td>0.0</td>\n      <td>0.0</td>\n      <td>0.0</td>\n      <td>1.0</td>\n      <td>0.0</td>\n      <td>0.0</td>\n      <td>1.0</td>\n    </tr>\n    <tr>\n      <th>25791</th>\n      <td>412.0</td>\n      <td>6249.0</td>\n      <td>0.0</td>\n      <td>0.0</td>\n      <td>1.0</td>\n      <td>29.0</td>\n      <td>8.402904</td>\n      <td>1.0</td>\n      <td>3.332205</td>\n      <td>0.0</td>\n      <td>...</td>\n      <td>0.0</td>\n      <td>0.0</td>\n      <td>0.0</td>\n      <td>0.0</td>\n      <td>0.0</td>\n      <td>0.0</td>\n      <td>1.0</td>\n      <td>0.0</td>\n      <td>0.0</td>\n      <td>1.0</td>\n    </tr>\n    <tr>\n      <th>26856</th>\n      <td>412.0</td>\n      <td>6505.0</td>\n      <td>0.0</td>\n      <td>0.0</td>\n      <td>1.0</td>\n      <td>30.0</td>\n      <td>8.402904</td>\n      <td>1.0</td>\n      <td>3.332205</td>\n      <td>0.0</td>\n      <td>...</td>\n      <td>0.0</td>\n      <td>0.0</td>\n      <td>0.0</td>\n      <td>0.0</td>\n      <td>0.0</td>\n      <td>0.0</td>\n      <td>1.0</td>\n      <td>0.0</td>\n      <td>0.0</td>\n      <td>1.0</td>\n    </tr>\n    <tr>\n      <th>28756</th>\n      <td>412.0</td>\n      <td>7634.0</td>\n      <td>0.0</td>\n      <td>0.0</td>\n      <td>1.0</td>\n      <td>31.0</td>\n      <td>8.402904</td>\n      <td>1.0</td>\n      <td>3.332205</td>\n      <td>0.0</td>\n      <td>...</td>\n      <td>0.0</td>\n      <td>0.0</td>\n      <td>0.0</td>\n      <td>0.0</td>\n      <td>0.0</td>\n      <td>0.0</td>\n      <td>1.0</td>\n      <td>0.0</td>\n      <td>0.0</td>\n      <td>1.0</td>\n    </tr>\n    <tr>\n      <th>29741</th>\n      <td>412.0</td>\n      <td>8233.0</td>\n      <td>0.0</td>\n      <td>0.0</td>\n      <td>2.0</td>\n      <td>1.0</td>\n      <td>8.402904</td>\n      <td>1.0</td>\n      <td>3.367296</td>\n      <td>0.0</td>\n      <td>...</td>\n      <td>0.0</td>\n      <td>0.0</td>\n      <td>0.0</td>\n      <td>0.0</td>\n      <td>0.0</td>\n      <td>0.0</td>\n      <td>1.0</td>\n      <td>0.0</td>\n      <td>0.0</td>\n      <td>1.0</td>\n    </tr>\n    <tr>\n      <th>30015</th>\n      <td>412.0</td>\n      <td>12153.0</td>\n      <td>0.0</td>\n      <td>0.0</td>\n      <td>2.0</td>\n      <td>2.0</td>\n      <td>8.402904</td>\n      <td>1.0</td>\n      <td>3.367296</td>\n      <td>0.0</td>\n      <td>...</td>\n      <td>0.0</td>\n      <td>0.0</td>\n      <td>0.0</td>\n      <td>0.0</td>\n      <td>0.0</td>\n      <td>0.0</td>\n      <td>1.0</td>\n      <td>0.0</td>\n      <td>0.0</td>\n      <td>1.0</td>\n    </tr>\n    <tr>\n      <th>31662</th>\n      <td>412.0</td>\n      <td>8598.0</td>\n      <td>1.0</td>\n      <td>0.0</td>\n      <td>2.0</td>\n      <td>4.0</td>\n      <td>8.402904</td>\n      <td>1.0</td>\n      <td>3.367296</td>\n      <td>0.0</td>\n      <td>...</td>\n      <td>0.0</td>\n      <td>0.0</td>\n      <td>0.0</td>\n      <td>0.0</td>\n      <td>0.0</td>\n      <td>0.0</td>\n      <td>1.0</td>\n      <td>0.0</td>\n      <td>0.0</td>\n      <td>1.0</td>\n    </tr>\n    <tr>\n      <th>32344</th>\n      <td>412.0</td>\n      <td>10057.0</td>\n      <td>1.0</td>\n      <td>0.0</td>\n      <td>2.0</td>\n      <td>5.0</td>\n      <td>8.402904</td>\n      <td>1.0</td>\n      <td>3.367296</td>\n      <td>0.0</td>\n      <td>...</td>\n      <td>0.0</td>\n      <td>0.0</td>\n      <td>0.0</td>\n      <td>0.0</td>\n      <td>0.0</td>\n      <td>0.0</td>\n      <td>1.0</td>\n      <td>0.0</td>\n      <td>0.0</td>\n      <td>1.0</td>\n    </tr>\n    <tr>\n      <th>33566</th>\n      <td>412.0</td>\n      <td>8085.0</td>\n      <td>1.0</td>\n      <td>0.0</td>\n      <td>2.0</td>\n      <td>6.0</td>\n      <td>8.402904</td>\n      <td>1.0</td>\n      <td>3.367296</td>\n      <td>0.0</td>\n      <td>...</td>\n      <td>0.0</td>\n      <td>0.0</td>\n      <td>0.0</td>\n      <td>0.0</td>\n      <td>0.0</td>\n      <td>0.0</td>\n      <td>1.0</td>\n      <td>0.0</td>\n      <td>0.0</td>\n      <td>1.0</td>\n    </tr>\n  </tbody>\n</table>\n<p>31 rows × 28 columns</p>\n</div>"
     },
     "execution_count": 101,
     "metadata": {},
     "output_type": "execute_result"
    }
   ],
   "source": [
    "merged_sales_train[merged_sales_train.Store==train_dataset.current_store].iloc[:31]"
   ],
   "metadata": {
    "collapsed": false,
    "pycharm": {
     "name": "#%%\n"
    }
   }
  },
  {
   "cell_type": "code",
   "execution_count": 61,
   "outputs": [],
   "source": [
    "batch_size=32\n",
    "train_loader=DataLoader(train_dataset,batch_size=batch_size,drop_last=True)\n",
    "test_loader=DataLoader(test_dataset,batch_size=batch_size,drop_last=True)"
   ],
   "metadata": {
    "collapsed": false,
    "pycharm": {
     "name": "#%%\n"
    }
   }
  },
  {
   "cell_type": "code",
   "execution_count": null,
   "outputs": [],
   "source": [],
   "metadata": {
    "collapsed": false,
    "pycharm": {
     "name": "#%%\n"
    }
   }
  },
  {
   "cell_type": "code",
   "execution_count": 62,
   "outputs": [
    {
     "name": "stdout",
     "output_type": "stream",
     "text": [
      "lstm in shape --> torch.Size([32, 30, 15]) nn in shape --> torch.Size([32, 26]) out-> shape torch.Size([32, 1])\n"
     ]
    }
   ],
   "source": [
    "# data loader test\n",
    "iterr=iter(train_loader)\n",
    "lstm_in,nn_in,out=next(iterr)\n",
    "\n",
    "print(f\"lstm in shape --> {lstm_in.shape} nn in shape --> {nn_in.shape} out-> shape {out.shape}\")\n",
    "\n"
   ],
   "metadata": {
    "collapsed": false,
    "pycharm": {
     "name": "#%%\n"
    }
   }
  },
  {
   "cell_type": "markdown",
   "source": [
    "# model training"
   ],
   "metadata": {
    "collapsed": false,
    "pycharm": {
     "name": "#%% md\n"
    }
   }
  },
  {
   "cell_type": "code",
   "execution_count": 170,
   "outputs": [
    {
     "data": {
      "text/plain": "SalesLstm(\n  (lstm): LSTM(15, 128, batch_first=True)\n  (fcn): Sequential(\n    (0): Linear(in_features=154, out_features=512, bias=True)\n    (1): ReLU()\n    (2): Linear(in_features=512, out_features=256, bias=True)\n    (3): ReLU()\n    (4): Linear(in_features=256, out_features=1, bias=True)\n    (5): ReLU()\n  )\n)"
     },
     "execution_count": 170,
     "metadata": {},
     "output_type": "execute_result"
    }
   ],
   "source": [
    "lstm_architecture={\"input_size\":train_dataset.no_lstm_cols,\"num_layers\":1,\"hidden_size\":128}\n",
    "nn_hidden=[512,256]\n",
    "nn_architecture={\"input_size\":train_dataset.no_nn_cols,\"hidden_shape\":nn_hidden}\n",
    "lstm_model=models.SalesLstm(lstm_architecture,nn_architecture)\n",
    "lstm_model.to(device)"
   ],
   "metadata": {
    "collapsed": false,
    "pycharm": {
     "name": "#%%\n"
    }
   }
  },
  {
   "cell_type": "code",
   "execution_count": 173,
   "outputs": [
    {
     "data": {
      "text/plain": "<All keys matched successfully>"
     },
     "execution_count": 173,
     "metadata": {},
     "output_type": "execute_result"
    }
   ],
   "source": [
    "state_dict=torch.load(traintracker.latest_weights_path(nn_model_weights_pth),map_location='cpu')\n",
    "lstm_model.load_state_dict(state_dict)\n"
   ],
   "metadata": {
    "collapsed": false,
    "pycharm": {
     "name": "#%%\n"
    }
   }
  },
  {
   "cell_type": "code",
   "execution_count": 51,
   "outputs": [],
   "source": [
    "\n",
    "out,lstm_hidden=lstm_model(lstm_in,nn_in)"
   ],
   "metadata": {
    "collapsed": false,
    "pycharm": {
     "name": "#%%\n"
    }
   }
  },
  {
   "cell_type": "code",
   "execution_count": 52,
   "outputs": [
    {
     "data": {
      "text/plain": "torch.Size([32, 1])"
     },
     "execution_count": 52,
     "metadata": {},
     "output_type": "execute_result"
    }
   ],
   "source": [
    "out.shape"
   ],
   "metadata": {
    "collapsed": false,
    "pycharm": {
     "name": "#%%\n"
    }
   }
  },
  {
   "cell_type": "code",
   "execution_count": 53,
   "outputs": [
    {
     "name": "stdout",
     "output_type": "stream",
     "text": [
      "Testing before training\n",
      " testing [..........] time remaining (m) = 9.5 Avg Test_Loss=329156.8771186414"
     ]
    },
    {
     "ename": "KeyboardInterrupt",
     "evalue": "",
     "output_type": "error",
     "traceback": [
      "\u001B[1;31m---------------------------------------------------------------------------\u001B[0m",
      "\u001B[1;31mKeyboardInterrupt\u001B[0m                         Traceback (most recent call last)",
      "Input \u001B[1;32mIn [53]\u001B[0m, in \u001B[0;36m<cell line: 1>\u001B[1;34m()\u001B[0m\n\u001B[1;32m----> 1\u001B[0m train_losses,valid_losses\u001B[38;5;241m=\u001B[39m\u001B[43mmodel_training\u001B[49m\u001B[38;5;241;43m.\u001B[39;49m\u001B[43mlstm_train\u001B[49m\u001B[43m(\u001B[49m\u001B[43mlstm_model\u001B[49m\u001B[43m,\u001B[49m\u001B[43mtrain_loader\u001B[49m\u001B[43m,\u001B[49m\u001B[43mtest_loader\u001B[49m\u001B[43m,\u001B[49m\u001B[38;5;241;43m1\u001B[39;49m\u001B[43m,\u001B[49m\u001B[43mlast_weights\u001B[49m\u001B[38;5;241;43m=\u001B[39;49m\u001B[38;5;28;43;01mTrue\u001B[39;49;00m\u001B[43m,\u001B[49m\u001B[43mtrain_data_dir\u001B[49m\u001B[38;5;241;43m=\u001B[39;49m\u001B[43mnn_model_train_data_pth\u001B[49m\u001B[43m,\u001B[49m\u001B[43mweights_dir\u001B[49m\u001B[38;5;241;43m=\u001B[39;49m\u001B[43mnn_model_weights_pth\u001B[49m\u001B[43m)\u001B[49m\n",
      "File \u001B[1;32mD:\\2022 acheivments\\Projects\\DeepLearning NanoDegree\\Rossmann-Store-Sales\\src\\model_training.py:140\u001B[0m, in \u001B[0;36mlstm_train\u001B[1;34m(model, train_loader, valid_loader, n_epochs, device, last_weights, **kwargs)\u001B[0m\n\u001B[0;32m    138\u001B[0m \u001B[38;5;28mprint\u001B[39m(\u001B[38;5;124m\"\u001B[39m\u001B[38;5;124mTesting before training\u001B[39m\u001B[38;5;124m\"\u001B[39m)\n\u001B[0;32m    139\u001B[0m test_tracker \u001B[38;5;241m=\u001B[39m traintracker\u001B[38;5;241m.\u001B[39mTrainTracker(model, tracker_mod\u001B[38;5;241m=\u001B[39mTrackerMod\u001B[38;5;241m.\u001B[39mTEST_ONLY, test_data_size\u001B[38;5;241m=\u001B[39mvalid_size)\n\u001B[1;32m--> 140\u001B[0m test_loss \u001B[38;5;241m=\u001B[39m \u001B[43mlstm_test\u001B[49m\u001B[43m(\u001B[49m\u001B[43mmodel\u001B[49m\u001B[43m,\u001B[49m\u001B[43m \u001B[49m\u001B[43mvalid_loader\u001B[49m\u001B[43m,\u001B[49m\u001B[43m \u001B[49m\u001B[43mloss_function\u001B[49m\u001B[43m,\u001B[49m\u001B[43m \u001B[49m\u001B[43mtest_tracker\u001B[49m\u001B[43m,\u001B[49m\u001B[43m \u001B[49m\u001B[43mdevice\u001B[49m\u001B[38;5;241;43m=\u001B[39;49m\u001B[43mdevice\u001B[49m\u001B[43m)\u001B[49m\n\u001B[0;32m    141\u001B[0m \u001B[38;5;28mprint\u001B[39m(\u001B[38;5;124mf\u001B[39m\u001B[38;5;124m\"\u001B[39m\u001B[38;5;124mTest Loss :\u001B[39m\u001B[38;5;132;01m{\u001B[39;00m\u001B[38;5;28mround\u001B[39m(test_loss, \u001B[38;5;241m3\u001B[39m)\u001B[38;5;132;01m}\u001B[39;00m\u001B[38;5;124m\"\u001B[39m)\n\u001B[0;32m    143\u001B[0m \u001B[38;5;28;01mfor\u001B[39;00m e \u001B[38;5;129;01min\u001B[39;00m \u001B[38;5;28mrange\u001B[39m(n_epochs):\n",
      "File \u001B[1;32mD:\\2022 acheivments\\Projects\\DeepLearning NanoDegree\\Rossmann-Store-Sales\\src\\model_training.py:90\u001B[0m, in \u001B[0;36mlstm_test\u001B[1;34m(model, valid_loader, loss_function, train_tracker, device)\u001B[0m\n\u001B[0;32m     87\u001B[0m \u001B[38;5;28;01mfor\u001B[39;00m lstm_in, nn_in, targets \u001B[38;5;129;01min\u001B[39;00m valid_loader:\n\u001B[0;32m     88\u001B[0m     lstm_in, nn_in, targets \u001B[38;5;241m=\u001B[39m lstm_in\u001B[38;5;241m.\u001B[39mto(device), nn_in\u001B[38;5;241m.\u001B[39mto(device), targets\u001B[38;5;241m.\u001B[39mto(device)\n\u001B[1;32m---> 90\u001B[0m     predicted_output, hidden \u001B[38;5;241m=\u001B[39m \u001B[43mmodel\u001B[49m\u001B[43m(\u001B[49m\u001B[43mlstm_in\u001B[49m\u001B[43m,\u001B[49m\u001B[43m \u001B[49m\u001B[43mnn_in\u001B[49m\u001B[43m,\u001B[49m\u001B[43m \u001B[49m\u001B[43mhidden\u001B[49m\u001B[43m)\u001B[49m\n\u001B[0;32m     92\u001B[0m     loss \u001B[38;5;241m=\u001B[39m loss_function(predicted_output, targets)\n\u001B[0;32m     93\u001B[0m     avg_test_loss \u001B[38;5;241m=\u001B[39m train_tracker\u001B[38;5;241m.\u001B[39mstep(loss\u001B[38;5;241m.\u001B[39mitem())\n",
      "File \u001B[1;32mC:\\graduation_project\\efficient-facenet\\venv\\lib\\site-packages\\torch\\nn\\modules\\module.py:1110\u001B[0m, in \u001B[0;36mModule._call_impl\u001B[1;34m(self, *input, **kwargs)\u001B[0m\n\u001B[0;32m   1106\u001B[0m \u001B[38;5;66;03m# If we don't have any hooks, we want to skip the rest of the logic in\u001B[39;00m\n\u001B[0;32m   1107\u001B[0m \u001B[38;5;66;03m# this function, and just call forward.\u001B[39;00m\n\u001B[0;32m   1108\u001B[0m \u001B[38;5;28;01mif\u001B[39;00m \u001B[38;5;129;01mnot\u001B[39;00m (\u001B[38;5;28mself\u001B[39m\u001B[38;5;241m.\u001B[39m_backward_hooks \u001B[38;5;129;01mor\u001B[39;00m \u001B[38;5;28mself\u001B[39m\u001B[38;5;241m.\u001B[39m_forward_hooks \u001B[38;5;129;01mor\u001B[39;00m \u001B[38;5;28mself\u001B[39m\u001B[38;5;241m.\u001B[39m_forward_pre_hooks \u001B[38;5;129;01mor\u001B[39;00m _global_backward_hooks\n\u001B[0;32m   1109\u001B[0m         \u001B[38;5;129;01mor\u001B[39;00m _global_forward_hooks \u001B[38;5;129;01mor\u001B[39;00m _global_forward_pre_hooks):\n\u001B[1;32m-> 1110\u001B[0m     \u001B[38;5;28;01mreturn\u001B[39;00m forward_call(\u001B[38;5;241m*\u001B[39m\u001B[38;5;28minput\u001B[39m, \u001B[38;5;241m*\u001B[39m\u001B[38;5;241m*\u001B[39mkwargs)\n\u001B[0;32m   1111\u001B[0m \u001B[38;5;66;03m# Do not call functions when jit is used\u001B[39;00m\n\u001B[0;32m   1112\u001B[0m full_backward_hooks, non_full_backward_hooks \u001B[38;5;241m=\u001B[39m [], []\n",
      "File \u001B[1;32mD:\\2022 acheivments\\Projects\\DeepLearning NanoDegree\\Rossmann-Store-Sales\\src\\models.py:70\u001B[0m, in \u001B[0;36mSalesLstm.forward\u001B[1;34m(self, lstm_in, nn_in, lstm_hidden)\u001B[0m\n\u001B[0;32m     67\u001B[0m \u001B[38;5;28;01mif\u001B[39;00m lstm_hidden \u001B[38;5;129;01mis\u001B[39;00m \u001B[38;5;28;01mNone\u001B[39;00m:\n\u001B[0;32m     68\u001B[0m     lstm_hidden \u001B[38;5;241m=\u001B[39m \u001B[38;5;28mself\u001B[39m\u001B[38;5;241m.\u001B[39m_init_hidden(batch_size)\n\u001B[1;32m---> 70\u001B[0m lstm_out, lstm_hidden \u001B[38;5;241m=\u001B[39m \u001B[38;5;28;43mself\u001B[39;49m\u001B[38;5;241;43m.\u001B[39;49m\u001B[43mlstm\u001B[49m\u001B[43m(\u001B[49m\u001B[43mlstm_in\u001B[49m\u001B[43m,\u001B[49m\u001B[43m \u001B[49m\u001B[43mlstm_hidden\u001B[49m\u001B[43m)\u001B[49m\n\u001B[0;32m     72\u001B[0m \u001B[38;5;66;03m# get the last output of the sequence\u001B[39;00m\n\u001B[0;32m     73\u001B[0m lstm_out \u001B[38;5;241m=\u001B[39m lstm_out[:, \u001B[38;5;241m-\u001B[39m\u001B[38;5;241m1\u001B[39m, :]\n",
      "File \u001B[1;32mC:\\graduation_project\\efficient-facenet\\venv\\lib\\site-packages\\torch\\nn\\modules\\module.py:1110\u001B[0m, in \u001B[0;36mModule._call_impl\u001B[1;34m(self, *input, **kwargs)\u001B[0m\n\u001B[0;32m   1106\u001B[0m \u001B[38;5;66;03m# If we don't have any hooks, we want to skip the rest of the logic in\u001B[39;00m\n\u001B[0;32m   1107\u001B[0m \u001B[38;5;66;03m# this function, and just call forward.\u001B[39;00m\n\u001B[0;32m   1108\u001B[0m \u001B[38;5;28;01mif\u001B[39;00m \u001B[38;5;129;01mnot\u001B[39;00m (\u001B[38;5;28mself\u001B[39m\u001B[38;5;241m.\u001B[39m_backward_hooks \u001B[38;5;129;01mor\u001B[39;00m \u001B[38;5;28mself\u001B[39m\u001B[38;5;241m.\u001B[39m_forward_hooks \u001B[38;5;129;01mor\u001B[39;00m \u001B[38;5;28mself\u001B[39m\u001B[38;5;241m.\u001B[39m_forward_pre_hooks \u001B[38;5;129;01mor\u001B[39;00m _global_backward_hooks\n\u001B[0;32m   1109\u001B[0m         \u001B[38;5;129;01mor\u001B[39;00m _global_forward_hooks \u001B[38;5;129;01mor\u001B[39;00m _global_forward_pre_hooks):\n\u001B[1;32m-> 1110\u001B[0m     \u001B[38;5;28;01mreturn\u001B[39;00m forward_call(\u001B[38;5;241m*\u001B[39m\u001B[38;5;28minput\u001B[39m, \u001B[38;5;241m*\u001B[39m\u001B[38;5;241m*\u001B[39mkwargs)\n\u001B[0;32m   1111\u001B[0m \u001B[38;5;66;03m# Do not call functions when jit is used\u001B[39;00m\n\u001B[0;32m   1112\u001B[0m full_backward_hooks, non_full_backward_hooks \u001B[38;5;241m=\u001B[39m [], []\n",
      "File \u001B[1;32mC:\\graduation_project\\efficient-facenet\\venv\\lib\\site-packages\\torch\\nn\\modules\\rnn.py:761\u001B[0m, in \u001B[0;36mLSTM.forward\u001B[1;34m(self, input, hx)\u001B[0m\n\u001B[0;32m    759\u001B[0m \u001B[38;5;28mself\u001B[39m\u001B[38;5;241m.\u001B[39mcheck_forward_args(\u001B[38;5;28minput\u001B[39m, hx, batch_sizes)\n\u001B[0;32m    760\u001B[0m \u001B[38;5;28;01mif\u001B[39;00m batch_sizes \u001B[38;5;129;01mis\u001B[39;00m \u001B[38;5;28;01mNone\u001B[39;00m:\n\u001B[1;32m--> 761\u001B[0m     result \u001B[38;5;241m=\u001B[39m \u001B[43m_VF\u001B[49m\u001B[38;5;241;43m.\u001B[39;49m\u001B[43mlstm\u001B[49m\u001B[43m(\u001B[49m\u001B[38;5;28;43minput\u001B[39;49m\u001B[43m,\u001B[49m\u001B[43m \u001B[49m\u001B[43mhx\u001B[49m\u001B[43m,\u001B[49m\u001B[43m \u001B[49m\u001B[38;5;28;43mself\u001B[39;49m\u001B[38;5;241;43m.\u001B[39;49m\u001B[43m_flat_weights\u001B[49m\u001B[43m,\u001B[49m\u001B[43m \u001B[49m\u001B[38;5;28;43mself\u001B[39;49m\u001B[38;5;241;43m.\u001B[39;49m\u001B[43mbias\u001B[49m\u001B[43m,\u001B[49m\u001B[43m \u001B[49m\u001B[38;5;28;43mself\u001B[39;49m\u001B[38;5;241;43m.\u001B[39;49m\u001B[43mnum_layers\u001B[49m\u001B[43m,\u001B[49m\n\u001B[0;32m    762\u001B[0m \u001B[43m                      \u001B[49m\u001B[38;5;28;43mself\u001B[39;49m\u001B[38;5;241;43m.\u001B[39;49m\u001B[43mdropout\u001B[49m\u001B[43m,\u001B[49m\u001B[43m \u001B[49m\u001B[38;5;28;43mself\u001B[39;49m\u001B[38;5;241;43m.\u001B[39;49m\u001B[43mtraining\u001B[49m\u001B[43m,\u001B[49m\u001B[43m \u001B[49m\u001B[38;5;28;43mself\u001B[39;49m\u001B[38;5;241;43m.\u001B[39;49m\u001B[43mbidirectional\u001B[49m\u001B[43m,\u001B[49m\u001B[43m \u001B[49m\u001B[38;5;28;43mself\u001B[39;49m\u001B[38;5;241;43m.\u001B[39;49m\u001B[43mbatch_first\u001B[49m\u001B[43m)\u001B[49m\n\u001B[0;32m    763\u001B[0m \u001B[38;5;28;01melse\u001B[39;00m:\n\u001B[0;32m    764\u001B[0m     result \u001B[38;5;241m=\u001B[39m _VF\u001B[38;5;241m.\u001B[39mlstm(\u001B[38;5;28minput\u001B[39m, batch_sizes, hx, \u001B[38;5;28mself\u001B[39m\u001B[38;5;241m.\u001B[39m_flat_weights, \u001B[38;5;28mself\u001B[39m\u001B[38;5;241m.\u001B[39mbias,\n\u001B[0;32m    765\u001B[0m                       \u001B[38;5;28mself\u001B[39m\u001B[38;5;241m.\u001B[39mnum_layers, \u001B[38;5;28mself\u001B[39m\u001B[38;5;241m.\u001B[39mdropout, \u001B[38;5;28mself\u001B[39m\u001B[38;5;241m.\u001B[39mtraining, \u001B[38;5;28mself\u001B[39m\u001B[38;5;241m.\u001B[39mbidirectional)\n",
      "\u001B[1;31mKeyboardInterrupt\u001B[0m: "
     ]
    }
   ],
   "source": [
    "train_losses,valid_losses=model_training.lstm_train(lstm_model,train_loader,test_loader,1,last_weights=True,train_data_dir=nn_model_train_data_pth,weights_dir=nn_model_weights_pth,device=device)"
   ],
   "metadata": {
    "collapsed": false,
    "pycharm": {
     "name": "#%%\n"
    }
   }
  },
  {
   "cell_type": "code",
   "execution_count": 158,
   "outputs": [],
   "source": [
    "stores_df = pd.read_csv(join_pth(raw_dataset_path, \"store.csv\"), low_memory=False)\n",
    "kaggle_sales_df = pd.read_csv(join_pth(raw_dataset_path, \"test.csv\"), low_memory=False)\n",
    "# kaggle_sales_df.drop('Id',inplace=True,axis=1)\n",
    "# Sales bulk preprocessing\n",
    "kaggle_sales_df=data_preprocessing.store_sales_prep(stores_sales_df=kaggle_sales_df)\n",
    "\n",
    "# Store data bulk preprocessing\n",
    "stores_data_df_prep=data_preprocessing.store_data_prep(store_data_df=stores_df)\n",
    "# merge and do bulk preprocessing\n",
    "merge_prep=data_preprocessing.merge_store_sales(sales_data_df=kaggle_sales_df,store_data_df=stores_data_df_prep)\n",
    "\n",
    "# drop closed stores data and open column\n",
    "merge_prep=data_preprocessing.drop_closed_days(merge_prep)"
   ],
   "metadata": {
    "collapsed": false,
    "pycharm": {
     "name": "#%%\n"
    }
   }
  },
  {
   "cell_type": "code",
   "execution_count": 159,
   "outputs": [
    {
     "data": {
      "text/plain": "          Id  Store DayOfWeek       Date Promo StateHoliday SchoolHoliday  \\\n20543  40660    553         6 2015-08-01     0          NaN             0   \n14543  40535    394         6 2015-08-01     0          NaN             1   \n14495  40534    393         6 2015-08-01     0          NaN             0   \n14447  40533    392         6 2015-08-01     0          NaN             0   \n14399  40532    391         6 2015-08-01     0          NaN             0   \n\n       year  month  day StoreType Assortment  CompetitionDistance Promo2  \\\n20543  2015      8    1         c          a             8.019613      1   \n14543  2015      8    1         d          a             9.291920      0   \n14495  2015      8    1         d          c             8.480529      0   \n14447  2015      8    1         a          a             7.659171      0   \n14399  2015      8    1         a          a             6.131226      1   \n\n         PromoInterval CompetitionOpenDate  Promo2Since  CompetitionOpenSince  \\\n20543  Jan,Apr,Jul,Oct          2002-09-01     4.174387                     0   \n14543              NaN          2013-01-01     0.000000                     0   \n14495              NaN          2008-03-01     0.000000                     0   \n14447              NaN          2013-01-01     0.000000                     0   \n14399  Feb,May,Aug,Nov          2014-11-01     3.178054                     0   \n\n       isPromoMonth  \n20543         False  \n14543         False  \n14495         False  \n14447         False  \n14399          True  ",
      "text/html": "<div>\n<style scoped>\n    .dataframe tbody tr th:only-of-type {\n        vertical-align: middle;\n    }\n\n    .dataframe tbody tr th {\n        vertical-align: top;\n    }\n\n    .dataframe thead th {\n        text-align: right;\n    }\n</style>\n<table border=\"1\" class=\"dataframe\">\n  <thead>\n    <tr style=\"text-align: right;\">\n      <th></th>\n      <th>Id</th>\n      <th>Store</th>\n      <th>DayOfWeek</th>\n      <th>Date</th>\n      <th>Promo</th>\n      <th>StateHoliday</th>\n      <th>SchoolHoliday</th>\n      <th>year</th>\n      <th>month</th>\n      <th>day</th>\n      <th>StoreType</th>\n      <th>Assortment</th>\n      <th>CompetitionDistance</th>\n      <th>Promo2</th>\n      <th>PromoInterval</th>\n      <th>CompetitionOpenDate</th>\n      <th>Promo2Since</th>\n      <th>CompetitionOpenSince</th>\n      <th>isPromoMonth</th>\n    </tr>\n  </thead>\n  <tbody>\n    <tr>\n      <th>20543</th>\n      <td>40660</td>\n      <td>553</td>\n      <td>6</td>\n      <td>2015-08-01</td>\n      <td>0</td>\n      <td>NaN</td>\n      <td>0</td>\n      <td>2015</td>\n      <td>8</td>\n      <td>1</td>\n      <td>c</td>\n      <td>a</td>\n      <td>8.019613</td>\n      <td>1</td>\n      <td>Jan,Apr,Jul,Oct</td>\n      <td>2002-09-01</td>\n      <td>4.174387</td>\n      <td>0</td>\n      <td>False</td>\n    </tr>\n    <tr>\n      <th>14543</th>\n      <td>40535</td>\n      <td>394</td>\n      <td>6</td>\n      <td>2015-08-01</td>\n      <td>0</td>\n      <td>NaN</td>\n      <td>1</td>\n      <td>2015</td>\n      <td>8</td>\n      <td>1</td>\n      <td>d</td>\n      <td>a</td>\n      <td>9.291920</td>\n      <td>0</td>\n      <td>NaN</td>\n      <td>2013-01-01</td>\n      <td>0.000000</td>\n      <td>0</td>\n      <td>False</td>\n    </tr>\n    <tr>\n      <th>14495</th>\n      <td>40534</td>\n      <td>393</td>\n      <td>6</td>\n      <td>2015-08-01</td>\n      <td>0</td>\n      <td>NaN</td>\n      <td>0</td>\n      <td>2015</td>\n      <td>8</td>\n      <td>1</td>\n      <td>d</td>\n      <td>c</td>\n      <td>8.480529</td>\n      <td>0</td>\n      <td>NaN</td>\n      <td>2008-03-01</td>\n      <td>0.000000</td>\n      <td>0</td>\n      <td>False</td>\n    </tr>\n    <tr>\n      <th>14447</th>\n      <td>40533</td>\n      <td>392</td>\n      <td>6</td>\n      <td>2015-08-01</td>\n      <td>0</td>\n      <td>NaN</td>\n      <td>0</td>\n      <td>2015</td>\n      <td>8</td>\n      <td>1</td>\n      <td>a</td>\n      <td>a</td>\n      <td>7.659171</td>\n      <td>0</td>\n      <td>NaN</td>\n      <td>2013-01-01</td>\n      <td>0.000000</td>\n      <td>0</td>\n      <td>False</td>\n    </tr>\n    <tr>\n      <th>14399</th>\n      <td>40532</td>\n      <td>391</td>\n      <td>6</td>\n      <td>2015-08-01</td>\n      <td>0</td>\n      <td>NaN</td>\n      <td>0</td>\n      <td>2015</td>\n      <td>8</td>\n      <td>1</td>\n      <td>a</td>\n      <td>a</td>\n      <td>6.131226</td>\n      <td>1</td>\n      <td>Feb,May,Aug,Nov</td>\n      <td>2014-11-01</td>\n      <td>3.178054</td>\n      <td>0</td>\n      <td>True</td>\n    </tr>\n  </tbody>\n</table>\n</div>"
     },
     "execution_count": 159,
     "metadata": {},
     "output_type": "execute_result"
    }
   ],
   "source": [
    "merge_prep.head()"
   ],
   "metadata": {
    "collapsed": false,
    "pycharm": {
     "name": "#%%\n"
    }
   }
  },
  {
   "cell_type": "code",
   "execution_count": 160,
   "outputs": [
    {
     "name": "stdout",
     "output_type": "stream",
     "text": [
      "<class 'pandas.core.frame.DataFrame'>\n",
      "Int64Index: 35104 entries, 20543 to 0\n",
      "Data columns (total 19 columns):\n",
      " #   Column                Non-Null Count  Dtype         \n",
      "---  ------                --------------  -----         \n",
      " 0   Id                    35104 non-null  int64         \n",
      " 1   Store                 35104 non-null  int64         \n",
      " 2   DayOfWeek             35104 non-null  category      \n",
      " 3   Date                  35104 non-null  datetime64[ns]\n",
      " 4   Promo                 35104 non-null  category      \n",
      " 5   StateHoliday          26 non-null     object        \n",
      " 6   SchoolHoliday         35104 non-null  category      \n",
      " 7   year                  35104 non-null  int64         \n",
      " 8   month                 35104 non-null  int64         \n",
      " 9   day                   35104 non-null  int64         \n",
      " 10  StoreType             35104 non-null  category      \n",
      " 11  Assortment            35104 non-null  category      \n",
      " 12  CompetitionDistance   35104 non-null  float64       \n",
      " 13  Promo2                35104 non-null  category      \n",
      " 14  PromoInterval         20290 non-null  object        \n",
      " 15  CompetitionOpenDate   35104 non-null  datetime64[ns]\n",
      " 16  Promo2Since           35104 non-null  float64       \n",
      " 17  CompetitionOpenSince  35104 non-null  int64         \n",
      " 18  isPromoMonth          35104 non-null  bool          \n",
      "dtypes: bool(1), category(6), datetime64[ns](2), float64(2), int64(6), object(2)\n",
      "memory usage: 3.7+ MB\n"
     ]
    }
   ],
   "source": [
    "merge_prep.info()"
   ],
   "metadata": {
    "collapsed": false,
    "pycharm": {
     "name": "#%%\n"
    }
   }
  },
  {
   "cell_type": "code",
   "execution_count": 161,
   "outputs": [],
   "source": [
    "train_data=merge_prep\n",
    "train_data=train_data.sort_values(by='Date')\n",
    "train_data=train_data.drop(['year', 'Date', 'PromoInterval', 'CompetitionOpenDate'],axis=1)\n",
    "train_data=data_preprocessing.hot_encoding(train_data)"
   ],
   "metadata": {
    "collapsed": false,
    "pycharm": {
     "name": "#%%\n"
    }
   }
  },
  {
   "cell_type": "code",
   "execution_count": 162,
   "outputs": [],
   "source": [
    "train_data['Sales']=-1"
   ],
   "metadata": {
    "collapsed": false,
    "pycharm": {
     "name": "#%%\n"
    }
   }
  },
  {
   "cell_type": "code",
   "execution_count": 163,
   "outputs": [
    {
     "data": {
      "text/plain": "            Id   Store  Promo  SchoolHoliday  month  day  CompetitionDistance  \\\n20543  40660.0   553.0    0.0            0.0    8.0  1.0             8.019613   \n40415  41074.0  1099.0    0.0            0.0    8.0  1.0             5.298317   \n40367  41073.0  1097.0    0.0            0.0    8.0  1.0             6.579251   \n40319  41072.0  1096.0    0.0            0.0    8.0  1.0             7.029973   \n40271  41071.0  1094.0    0.0            0.0    8.0  1.0             7.774856   \n\n       Promo2  Promo2Since  CompetitionOpenSince  ...  DayOfWeek_7  \\\n20543     1.0     4.174387                   0.0  ...          0.0   \n40415     1.0     3.332205                   0.0  ...          0.0   \n40367     0.0     0.000000                   0.0  ...          0.0   \n40319     1.0     2.833213                   0.0  ...          0.0   \n40271     1.0     2.302585                   0.0  ...          0.0   \n\n       StateHoliday_public  StoreType_a  StoreType_b  StoreType_c  \\\n20543                  0.0          0.0          0.0          1.0   \n40415                  0.0          1.0          0.0          0.0   \n40367                  0.0          0.0          1.0          0.0   \n40319                  0.0          1.0          0.0          0.0   \n40271                  0.0          0.0          0.0          0.0   \n\n       StoreType_d  Assortment_a  Assortment_b  Assortment_c  Sales  \n20543          0.0           1.0           0.0           0.0     -1  \n40415          0.0           0.0           0.0           1.0     -1  \n40367          0.0           0.0           1.0           0.0     -1  \n40319          0.0           0.0           0.0           1.0     -1  \n40271          1.0           1.0           0.0           0.0     -1  \n\n[5 rows x 27 columns]",
      "text/html": "<div>\n<style scoped>\n    .dataframe tbody tr th:only-of-type {\n        vertical-align: middle;\n    }\n\n    .dataframe tbody tr th {\n        vertical-align: top;\n    }\n\n    .dataframe thead th {\n        text-align: right;\n    }\n</style>\n<table border=\"1\" class=\"dataframe\">\n  <thead>\n    <tr style=\"text-align: right;\">\n      <th></th>\n      <th>Id</th>\n      <th>Store</th>\n      <th>Promo</th>\n      <th>SchoolHoliday</th>\n      <th>month</th>\n      <th>day</th>\n      <th>CompetitionDistance</th>\n      <th>Promo2</th>\n      <th>Promo2Since</th>\n      <th>CompetitionOpenSince</th>\n      <th>...</th>\n      <th>DayOfWeek_7</th>\n      <th>StateHoliday_public</th>\n      <th>StoreType_a</th>\n      <th>StoreType_b</th>\n      <th>StoreType_c</th>\n      <th>StoreType_d</th>\n      <th>Assortment_a</th>\n      <th>Assortment_b</th>\n      <th>Assortment_c</th>\n      <th>Sales</th>\n    </tr>\n  </thead>\n  <tbody>\n    <tr>\n      <th>20543</th>\n      <td>40660.0</td>\n      <td>553.0</td>\n      <td>0.0</td>\n      <td>0.0</td>\n      <td>8.0</td>\n      <td>1.0</td>\n      <td>8.019613</td>\n      <td>1.0</td>\n      <td>4.174387</td>\n      <td>0.0</td>\n      <td>...</td>\n      <td>0.0</td>\n      <td>0.0</td>\n      <td>0.0</td>\n      <td>0.0</td>\n      <td>1.0</td>\n      <td>0.0</td>\n      <td>1.0</td>\n      <td>0.0</td>\n      <td>0.0</td>\n      <td>-1</td>\n    </tr>\n    <tr>\n      <th>40415</th>\n      <td>41074.0</td>\n      <td>1099.0</td>\n      <td>0.0</td>\n      <td>0.0</td>\n      <td>8.0</td>\n      <td>1.0</td>\n      <td>5.298317</td>\n      <td>1.0</td>\n      <td>3.332205</td>\n      <td>0.0</td>\n      <td>...</td>\n      <td>0.0</td>\n      <td>0.0</td>\n      <td>1.0</td>\n      <td>0.0</td>\n      <td>0.0</td>\n      <td>0.0</td>\n      <td>0.0</td>\n      <td>0.0</td>\n      <td>1.0</td>\n      <td>-1</td>\n    </tr>\n    <tr>\n      <th>40367</th>\n      <td>41073.0</td>\n      <td>1097.0</td>\n      <td>0.0</td>\n      <td>0.0</td>\n      <td>8.0</td>\n      <td>1.0</td>\n      <td>6.579251</td>\n      <td>0.0</td>\n      <td>0.000000</td>\n      <td>0.0</td>\n      <td>...</td>\n      <td>0.0</td>\n      <td>0.0</td>\n      <td>0.0</td>\n      <td>1.0</td>\n      <td>0.0</td>\n      <td>0.0</td>\n      <td>0.0</td>\n      <td>1.0</td>\n      <td>0.0</td>\n      <td>-1</td>\n    </tr>\n    <tr>\n      <th>40319</th>\n      <td>41072.0</td>\n      <td>1096.0</td>\n      <td>0.0</td>\n      <td>0.0</td>\n      <td>8.0</td>\n      <td>1.0</td>\n      <td>7.029973</td>\n      <td>1.0</td>\n      <td>2.833213</td>\n      <td>0.0</td>\n      <td>...</td>\n      <td>0.0</td>\n      <td>0.0</td>\n      <td>1.0</td>\n      <td>0.0</td>\n      <td>0.0</td>\n      <td>0.0</td>\n      <td>0.0</td>\n      <td>0.0</td>\n      <td>1.0</td>\n      <td>-1</td>\n    </tr>\n    <tr>\n      <th>40271</th>\n      <td>41071.0</td>\n      <td>1094.0</td>\n      <td>0.0</td>\n      <td>0.0</td>\n      <td>8.0</td>\n      <td>1.0</td>\n      <td>7.774856</td>\n      <td>1.0</td>\n      <td>2.302585</td>\n      <td>0.0</td>\n      <td>...</td>\n      <td>0.0</td>\n      <td>0.0</td>\n      <td>0.0</td>\n      <td>0.0</td>\n      <td>0.0</td>\n      <td>1.0</td>\n      <td>1.0</td>\n      <td>0.0</td>\n      <td>0.0</td>\n      <td>-1</td>\n    </tr>\n  </tbody>\n</table>\n<p>5 rows × 27 columns</p>\n</div>"
     },
     "execution_count": 163,
     "metadata": {},
     "output_type": "execute_result"
    }
   ],
   "source": [
    "train_data.head()"
   ],
   "metadata": {
    "collapsed": false,
    "pycharm": {
     "name": "#%%\n"
    }
   }
  },
  {
   "cell_type": "code",
   "execution_count": 164,
   "outputs": [],
   "source": [
    "train_data2=pd.concat([test_data,train_data])"
   ],
   "metadata": {
    "collapsed": false,
    "pycharm": {
     "name": "#%%\n"
    }
   }
  },
  {
   "cell_type": "code",
   "execution_count": 165,
   "outputs": [
    {
     "name": "stdout",
     "output_type": "stream",
     "text": [
      "<class 'pandas.core.frame.DataFrame'>\n",
      "Int64Index: 202373 entries, 76916 to 0\n",
      "Data columns (total 29 columns):\n",
      " #   Column                  Non-Null Count   Dtype  \n",
      "---  ------                  --------------   -----  \n",
      " 0   Store                   202373 non-null  float64\n",
      " 1   Sales                   202373 non-null  float64\n",
      " 2   Promo                   202373 non-null  float64\n",
      " 3   SchoolHoliday           202373 non-null  float64\n",
      " 4   month                   202373 non-null  float64\n",
      " 5   day                     202373 non-null  float64\n",
      " 6   CompetitionDistance     202373 non-null  float64\n",
      " 7   Promo2                  202373 non-null  float64\n",
      " 8   Promo2Since             202373 non-null  float64\n",
      " 9   CompetitionOpenSince    202373 non-null  float64\n",
      " 10  isPromoMonth            202373 non-null  float64\n",
      " 11  DayOfWeek_1             202373 non-null  float64\n",
      " 12  DayOfWeek_2             202373 non-null  float64\n",
      " 13  DayOfWeek_3             202373 non-null  float64\n",
      " 14  DayOfWeek_4             202373 non-null  float64\n",
      " 15  DayOfWeek_5             202373 non-null  float64\n",
      " 16  DayOfWeek_6             202373 non-null  float64\n",
      " 17  DayOfWeek_7             202373 non-null  float64\n",
      " 18  StateHoliday_christmas  167269 non-null  float64\n",
      " 19  StateHoliday_easter     167269 non-null  float64\n",
      " 20  StateHoliday_public     202373 non-null  float64\n",
      " 21  StoreType_a             202373 non-null  float64\n",
      " 22  StoreType_b             202373 non-null  float64\n",
      " 23  StoreType_c             202373 non-null  float64\n",
      " 24  StoreType_d             202373 non-null  float64\n",
      " 25  Assortment_a            202373 non-null  float64\n",
      " 26  Assortment_b            202373 non-null  float64\n",
      " 27  Assortment_c            202373 non-null  float64\n",
      " 28  Id                      35104 non-null   float64\n",
      "dtypes: float64(29)\n",
      "memory usage: 46.3 MB\n"
     ]
    }
   ],
   "source": [
    "train_data2.info()"
   ],
   "metadata": {
    "collapsed": false,
    "pycharm": {
     "name": "#%%\n"
    }
   }
  },
  {
   "cell_type": "code",
   "execution_count": 166,
   "outputs": [
    {
     "data": {
      "text/plain": "     Store   Sales  Promo  SchoolHoliday  month   day  CompetitionDistance  \\\n179    1.0  6038.0    1.0            0.0    2.0   2.0             7.146772   \n178    1.0  4901.0    1.0            0.0    2.0   3.0             7.146772   \n177    1.0  4672.0    1.0            0.0    2.0   4.0             7.146772   \n176    1.0  4394.0    1.0            0.0    2.0   5.0             7.146772   \n175    1.0  5022.0    1.0            0.0    2.0   6.0             7.146772   \n..     ...     ...    ...            ...    ...   ...                  ...   \n5      1.0    -1.0    0.0            0.0    9.0  12.0             7.146772   \n3      1.0    -1.0    1.0            0.0    9.0  14.0             7.146772   \n2      1.0    -1.0    1.0            0.0    9.0  15.0             7.146772   \n1      1.0    -1.0    1.0            0.0    9.0  16.0             7.146772   \n0      1.0    -1.0    1.0            0.0    9.0  17.0             7.146772   \n\n     Promo2  Promo2Since  CompetitionOpenSince  ...  StateHoliday_easter  \\\n179     0.0          0.0                   0.0  ...                  0.0   \n178     0.0          0.0                   0.0  ...                  0.0   \n177     0.0          0.0                   0.0  ...                  0.0   \n176     0.0          0.0                   0.0  ...                  0.0   \n175     0.0          0.0                   0.0  ...                  0.0   \n..      ...          ...                   ...  ...                  ...   \n5       0.0          0.0                   0.0  ...                  NaN   \n3       0.0          0.0                   0.0  ...                  NaN   \n2       0.0          0.0                   0.0  ...                  NaN   \n1       0.0          0.0                   0.0  ...                  NaN   \n0       0.0          0.0                   0.0  ...                  NaN   \n\n     StateHoliday_public  StoreType_a  StoreType_b  StoreType_c  StoreType_d  \\\n179                  0.0          0.0          0.0          1.0          0.0   \n178                  0.0          0.0          0.0          1.0          0.0   \n177                  0.0          0.0          0.0          1.0          0.0   \n176                  0.0          0.0          0.0          1.0          0.0   \n175                  0.0          0.0          0.0          1.0          0.0   \n..                   ...          ...          ...          ...          ...   \n5                    0.0          0.0          0.0          1.0          0.0   \n3                    0.0          0.0          0.0          1.0          0.0   \n2                    0.0          0.0          0.0          1.0          0.0   \n1                    0.0          0.0          0.0          1.0          0.0   \n0                    0.0          0.0          0.0          1.0          0.0   \n\n     Assortment_a  Assortment_b  Assortment_c      Id  \n179           1.0           0.0           0.0     NaN  \n178           1.0           0.0           0.0     NaN  \n177           1.0           0.0           0.0     NaN  \n176           1.0           0.0           0.0     NaN  \n175           1.0           0.0           0.0     NaN  \n..            ...           ...           ...     ...  \n5             1.0           0.0           0.0  4281.0  \n3             1.0           0.0           0.0  2569.0  \n2             1.0           0.0           0.0  1713.0  \n1             1.0           0.0           0.0   857.0  \n0             1.0           0.0           0.0     1.0  \n\n[190 rows x 29 columns]",
      "text/html": "<div>\n<style scoped>\n    .dataframe tbody tr th:only-of-type {\n        vertical-align: middle;\n    }\n\n    .dataframe tbody tr th {\n        vertical-align: top;\n    }\n\n    .dataframe thead th {\n        text-align: right;\n    }\n</style>\n<table border=\"1\" class=\"dataframe\">\n  <thead>\n    <tr style=\"text-align: right;\">\n      <th></th>\n      <th>Store</th>\n      <th>Sales</th>\n      <th>Promo</th>\n      <th>SchoolHoliday</th>\n      <th>month</th>\n      <th>day</th>\n      <th>CompetitionDistance</th>\n      <th>Promo2</th>\n      <th>Promo2Since</th>\n      <th>CompetitionOpenSince</th>\n      <th>...</th>\n      <th>StateHoliday_easter</th>\n      <th>StateHoliday_public</th>\n      <th>StoreType_a</th>\n      <th>StoreType_b</th>\n      <th>StoreType_c</th>\n      <th>StoreType_d</th>\n      <th>Assortment_a</th>\n      <th>Assortment_b</th>\n      <th>Assortment_c</th>\n      <th>Id</th>\n    </tr>\n  </thead>\n  <tbody>\n    <tr>\n      <th>179</th>\n      <td>1.0</td>\n      <td>6038.0</td>\n      <td>1.0</td>\n      <td>0.0</td>\n      <td>2.0</td>\n      <td>2.0</td>\n      <td>7.146772</td>\n      <td>0.0</td>\n      <td>0.0</td>\n      <td>0.0</td>\n      <td>...</td>\n      <td>0.0</td>\n      <td>0.0</td>\n      <td>0.0</td>\n      <td>0.0</td>\n      <td>1.0</td>\n      <td>0.0</td>\n      <td>1.0</td>\n      <td>0.0</td>\n      <td>0.0</td>\n      <td>NaN</td>\n    </tr>\n    <tr>\n      <th>178</th>\n      <td>1.0</td>\n      <td>4901.0</td>\n      <td>1.0</td>\n      <td>0.0</td>\n      <td>2.0</td>\n      <td>3.0</td>\n      <td>7.146772</td>\n      <td>0.0</td>\n      <td>0.0</td>\n      <td>0.0</td>\n      <td>...</td>\n      <td>0.0</td>\n      <td>0.0</td>\n      <td>0.0</td>\n      <td>0.0</td>\n      <td>1.0</td>\n      <td>0.0</td>\n      <td>1.0</td>\n      <td>0.0</td>\n      <td>0.0</td>\n      <td>NaN</td>\n    </tr>\n    <tr>\n      <th>177</th>\n      <td>1.0</td>\n      <td>4672.0</td>\n      <td>1.0</td>\n      <td>0.0</td>\n      <td>2.0</td>\n      <td>4.0</td>\n      <td>7.146772</td>\n      <td>0.0</td>\n      <td>0.0</td>\n      <td>0.0</td>\n      <td>...</td>\n      <td>0.0</td>\n      <td>0.0</td>\n      <td>0.0</td>\n      <td>0.0</td>\n      <td>1.0</td>\n      <td>0.0</td>\n      <td>1.0</td>\n      <td>0.0</td>\n      <td>0.0</td>\n      <td>NaN</td>\n    </tr>\n    <tr>\n      <th>176</th>\n      <td>1.0</td>\n      <td>4394.0</td>\n      <td>1.0</td>\n      <td>0.0</td>\n      <td>2.0</td>\n      <td>5.0</td>\n      <td>7.146772</td>\n      <td>0.0</td>\n      <td>0.0</td>\n      <td>0.0</td>\n      <td>...</td>\n      <td>0.0</td>\n      <td>0.0</td>\n      <td>0.0</td>\n      <td>0.0</td>\n      <td>1.0</td>\n      <td>0.0</td>\n      <td>1.0</td>\n      <td>0.0</td>\n      <td>0.0</td>\n      <td>NaN</td>\n    </tr>\n    <tr>\n      <th>175</th>\n      <td>1.0</td>\n      <td>5022.0</td>\n      <td>1.0</td>\n      <td>0.0</td>\n      <td>2.0</td>\n      <td>6.0</td>\n      <td>7.146772</td>\n      <td>0.0</td>\n      <td>0.0</td>\n      <td>0.0</td>\n      <td>...</td>\n      <td>0.0</td>\n      <td>0.0</td>\n      <td>0.0</td>\n      <td>0.0</td>\n      <td>1.0</td>\n      <td>0.0</td>\n      <td>1.0</td>\n      <td>0.0</td>\n      <td>0.0</td>\n      <td>NaN</td>\n    </tr>\n    <tr>\n      <th>...</th>\n      <td>...</td>\n      <td>...</td>\n      <td>...</td>\n      <td>...</td>\n      <td>...</td>\n      <td>...</td>\n      <td>...</td>\n      <td>...</td>\n      <td>...</td>\n      <td>...</td>\n      <td>...</td>\n      <td>...</td>\n      <td>...</td>\n      <td>...</td>\n      <td>...</td>\n      <td>...</td>\n      <td>...</td>\n      <td>...</td>\n      <td>...</td>\n      <td>...</td>\n      <td>...</td>\n    </tr>\n    <tr>\n      <th>5</th>\n      <td>1.0</td>\n      <td>-1.0</td>\n      <td>0.0</td>\n      <td>0.0</td>\n      <td>9.0</td>\n      <td>12.0</td>\n      <td>7.146772</td>\n      <td>0.0</td>\n      <td>0.0</td>\n      <td>0.0</td>\n      <td>...</td>\n      <td>NaN</td>\n      <td>0.0</td>\n      <td>0.0</td>\n      <td>0.0</td>\n      <td>1.0</td>\n      <td>0.0</td>\n      <td>1.0</td>\n      <td>0.0</td>\n      <td>0.0</td>\n      <td>4281.0</td>\n    </tr>\n    <tr>\n      <th>3</th>\n      <td>1.0</td>\n      <td>-1.0</td>\n      <td>1.0</td>\n      <td>0.0</td>\n      <td>9.0</td>\n      <td>14.0</td>\n      <td>7.146772</td>\n      <td>0.0</td>\n      <td>0.0</td>\n      <td>0.0</td>\n      <td>...</td>\n      <td>NaN</td>\n      <td>0.0</td>\n      <td>0.0</td>\n      <td>0.0</td>\n      <td>1.0</td>\n      <td>0.0</td>\n      <td>1.0</td>\n      <td>0.0</td>\n      <td>0.0</td>\n      <td>2569.0</td>\n    </tr>\n    <tr>\n      <th>2</th>\n      <td>1.0</td>\n      <td>-1.0</td>\n      <td>1.0</td>\n      <td>0.0</td>\n      <td>9.0</td>\n      <td>15.0</td>\n      <td>7.146772</td>\n      <td>0.0</td>\n      <td>0.0</td>\n      <td>0.0</td>\n      <td>...</td>\n      <td>NaN</td>\n      <td>0.0</td>\n      <td>0.0</td>\n      <td>0.0</td>\n      <td>1.0</td>\n      <td>0.0</td>\n      <td>1.0</td>\n      <td>0.0</td>\n      <td>0.0</td>\n      <td>1713.0</td>\n    </tr>\n    <tr>\n      <th>1</th>\n      <td>1.0</td>\n      <td>-1.0</td>\n      <td>1.0</td>\n      <td>0.0</td>\n      <td>9.0</td>\n      <td>16.0</td>\n      <td>7.146772</td>\n      <td>0.0</td>\n      <td>0.0</td>\n      <td>0.0</td>\n      <td>...</td>\n      <td>NaN</td>\n      <td>0.0</td>\n      <td>0.0</td>\n      <td>0.0</td>\n      <td>1.0</td>\n      <td>0.0</td>\n      <td>1.0</td>\n      <td>0.0</td>\n      <td>0.0</td>\n      <td>857.0</td>\n    </tr>\n    <tr>\n      <th>0</th>\n      <td>1.0</td>\n      <td>-1.0</td>\n      <td>1.0</td>\n      <td>0.0</td>\n      <td>9.0</td>\n      <td>17.0</td>\n      <td>7.146772</td>\n      <td>0.0</td>\n      <td>0.0</td>\n      <td>0.0</td>\n      <td>...</td>\n      <td>NaN</td>\n      <td>0.0</td>\n      <td>0.0</td>\n      <td>0.0</td>\n      <td>1.0</td>\n      <td>0.0</td>\n      <td>1.0</td>\n      <td>0.0</td>\n      <td>0.0</td>\n      <td>1.0</td>\n    </tr>\n  </tbody>\n</table>\n<p>190 rows × 29 columns</p>\n</div>"
     },
     "execution_count": 166,
     "metadata": {},
     "output_type": "execute_result"
    }
   ],
   "source": [
    "train_data2[train_data2.Store==1]"
   ],
   "metadata": {
    "collapsed": false,
    "pycharm": {
     "name": "#%%\n"
    }
   }
  },
  {
   "cell_type": "code",
   "execution_count": null,
   "outputs": [],
   "source": [],
   "metadata": {
    "collapsed": false,
    "pycharm": {
     "name": "#%%\n"
    }
   }
  },
  {
   "cell_type": "code",
   "execution_count": 174,
   "outputs": [],
   "source": [
    "def to_tensor(df_input):\n",
    "    numpy_input=df_input.to_numpy()\n",
    "    numpy_input=np.expand_dims(numpy_input, axis=0)\n",
    "    return torch.tensor(numpy_input, dtype=torch.float)\n",
    "\n",
    "def predict(prev_data,new_data,hidden=None,device='cpu'):\n",
    "    lstm_data=to_tensor(prev_data[lstm_model.lstm_sales_cols])\n",
    "\n",
    "    nn_data=to_tensor(new_data[lstm_model.nn_sales_cols])\n",
    "    lstm_model.eval()\n",
    "\n",
    "    with torch.no_grad():\n",
    "        out,hidden=lstm_model(lstm_data,nn_data,hidden)\n",
    "    return out,hidden\n"
   ],
   "metadata": {
    "collapsed": false,
    "pycharm": {
     "name": "#%%\n"
    }
   }
  },
  {
   "cell_type": "code",
   "execution_count": 180,
   "outputs": [],
   "source": [
    "seq_len=30\n",
    "\n",
    "\n",
    "for store_idx in train_data2.Store.unique():\n",
    "    store_sales=train_data2[train_data2.Store==store_idx]\n",
    "    hidden=None\n",
    "    no_seq=len(store_sales)-seq_len\n",
    "    out_idx=seq_len\n",
    "    for i in range(no_seq):\n",
    "        prev_data=store_sales.iloc[i:i + seq_len]\n",
    "        new_data=store_sales.iloc[out_idx]\n",
    "        out_idx+=1\n",
    "        pred_out,hidden=predict(prev_data,new_data,hidden,device)\n",
    "\n",
    "        if new_data['Sales']==-1:\n",
    "            new_data['Sales']=out.item()\n",
    "\n",
    "\n"
   ],
   "metadata": {
    "collapsed": false,
    "pycharm": {
     "name": "#%%\n"
    }
   }
  }
 ],
 "metadata": {
  "kernelspec": {
   "display_name": "Python 3",
   "language": "python",
   "name": "python3"
  },
  "language_info": {
   "codemirror_mode": {
    "name": "ipython",
    "version": 2
   },
   "file_extension": ".py",
   "mimetype": "text/x-python",
   "name": "python",
   "nbconvert_exporter": "python",
   "pygments_lexer": "ipython2",
   "version": "2.7.6"
  }
 },
 "nbformat": 4,
 "nbformat_minor": 0
}