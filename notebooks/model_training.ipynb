{
 "cells": [
  {
   "cell_type": "markdown",
   "source": [
    "# imports and constants"
   ],
   "metadata": {
    "collapsed": false,
    "pycharm": {
     "name": "#%% md\n"
    }
   }
  },
  {
   "cell_type": "code",
   "execution_count": 35,
   "outputs": [],
   "source": [
    "import pandas as pd\n",
    "\n",
    "from os.path import join as join_pth\n",
    "import matplotlib.pyplot as plt\n",
    "import random\n",
    "from IPython.core.display_functions import display\n",
    "import seaborn as sns\n",
    "# % matplotlib inline\n",
    "sns.set_style('whitegrid')\n",
    "import torch\n",
    "from src import *\n",
    "from src import data_loader,models,model_training\n",
    "from torch.utils.data.dataloader import  DataLoader\n",
    "from sklearn.model_selection import train_test_split"
   ],
   "metadata": {
    "collapsed": false,
    "pycharm": {
     "name": "#%%\n"
    }
   }
  },
  {
   "cell_type": "code",
   "execution_count": 36,
   "outputs": [
    {
     "data": {
      "text/plain": "<module 'src.model_training' from 'D:\\\\2022 acheivments\\\\Projects\\\\DeepLearning NanoDegree\\\\Rossmann-Store-Sales\\\\src\\\\model_training.py'>"
     },
     "execution_count": 36,
     "metadata": {},
     "output_type": "execute_result"
    }
   ],
   "source": [
    "from importlib import reload,import_module\n",
    "\n",
    "reload(data_loader)\n",
    "reload(data_preprocessing)\n",
    "reload(models)\n",
    "reload(model_training)"
   ],
   "metadata": {
    "collapsed": false,
    "pycharm": {
     "name": "#%%\n"
    }
   }
  },
  {
   "cell_type": "code",
   "execution_count": 37,
   "outputs": [],
   "source": [
    "raw_dataset_path = \"../dataset/raw\"\n",
    "prep_dataset_path=\"../dataset/prep\"\n",
    "nn_model_weights_pth=\"../model_weights/nn_model\"\n",
    "nn_model_train_data_pth=\"../train_data/nn_model\""
   ],
   "metadata": {
    "collapsed": false,
    "pycharm": {
     "name": "#%%\n"
    }
   }
  },
  {
   "cell_type": "markdown",
   "source": [
    "# roadmap\n",
    "- data preparation after analysis run bulk preprocessing functions that have all preprocessing and feature engineering done at the analysis section\n",
    "- start with the neural network without lstm layers and get the best score after hyperparameters tuning\n",
    "    - create data loader for the neural network\n",
    "    - find the best hyperparameters for the first epochs\n",
    "    - train the model on the best hyperparameters"
   ],
   "metadata": {
    "collapsed": false
   }
  },
  {
   "cell_type": "markdown",
   "source": [
    "# Data preparation\n",
    "- after analysing , handling outliers the data and do feature engineering on the data columns in the [rossmann-store-sales-analysis](./Rossmann-Store-Sales.ipynb) notebook column by column\n",
    "- all steps are combined in the [data_preprocessing.py](../src/data_preprocessing.py) module for bulk preprocessing\n",
    "    - store data preprocessing and feature engineering\n",
    "    - store_sales preprocessing and feature engineering\n",
    "    - merging store data and store sales and add new columns\n",
    "\n"
   ],
   "metadata": {
    "collapsed": false
   }
  },
  {
   "cell_type": "code",
   "execution_count": 38,
   "outputs": [],
   "source": [
    "stores_df = pd.read_csv(join_pth(raw_dataset_path, \"store.csv\"), low_memory=False)\n",
    "stores_sales_df = pd.read_csv(join_pth(raw_dataset_path, \"train.csv\"), low_memory=False)\n",
    "\n",
    "# Sales bulk preprocessing\n",
    "stores_sales_df_prep=data_preprocessing.store_sales_prep(stores_sales_df=stores_sales_df)\n",
    "\n",
    "# Store data bulk preprocessing\n",
    "stores_data_df_prep=data_preprocessing.store_data_prep(store_data_df=stores_df)\n",
    "\n",
    "# merge and do bulk preprocessing\n",
    "merge_prep=data_preprocessing.merge_store_sales(sales_data_df=stores_sales_df_prep,store_data_df=stores_data_df_prep)\n",
    "\n",
    "# drop closed stores data and open column\n",
    "merge_prep=data_preprocessing.drop_closed_days(merge_prep)\n",
    "\n"
   ],
   "metadata": {
    "collapsed": false,
    "pycharm": {
     "name": "#%%\n"
    }
   }
  },
  {
   "cell_type": "code",
   "execution_count": 39,
   "outputs": [
    {
     "name": "stdout",
     "output_type": "stream",
     "text": [
      "<class 'pandas.core.frame.DataFrame'>\n",
      "Int64Index: 844392 entries, 0 to 1017207\n",
      "Data columns (total 15 columns):\n",
      " #   Column                Non-Null Count   Dtype   \n",
      "---  ------                --------------   -----   \n",
      " 0   Store                 844392 non-null  int64   \n",
      " 1   DayOfWeek             844392 non-null  category\n",
      " 2   Sales                 844392 non-null  int64   \n",
      " 3   Promo                 844392 non-null  category\n",
      " 4   StateHoliday          910 non-null     object  \n",
      " 5   SchoolHoliday         844392 non-null  category\n",
      " 6   month                 844392 non-null  int64   \n",
      " 7   day                   844392 non-null  int64   \n",
      " 8   StoreType             844392 non-null  category\n",
      " 9   Assortment            844392 non-null  category\n",
      " 10  CompetitionDistance   844392 non-null  float64 \n",
      " 11  Promo2                844392 non-null  category\n",
      " 12  Promo2Since           844392 non-null  float64 \n",
      " 13  CompetitionOpenSince  844392 non-null  float64 \n",
      " 14  isPromoMonth          844392 non-null  bool    \n",
      "dtypes: bool(1), category(6), float64(3), int64(4), object(1)\n",
      "memory usage: 63.6+ MB\n"
     ]
    }
   ],
   "source": [
    "merge_prep.info()"
   ],
   "metadata": {
    "collapsed": false,
    "pycharm": {
     "name": "#%%\n"
    }
   }
  },
  {
   "cell_type": "code",
   "execution_count": 40,
   "outputs": [],
   "source": [
    "# hot-encode the categorical data\n",
    "encoded_data=data_preprocessing.hot_encoding(merged_data=merge_prep)"
   ],
   "metadata": {
    "collapsed": false,
    "pycharm": {
     "name": "#%%\n"
    }
   }
  },
  {
   "cell_type": "code",
   "execution_count": 41,
   "outputs": [
    {
     "name": "stdout",
     "output_type": "stream",
     "text": [
      "<class 'pandas.core.frame.DataFrame'>\n",
      "Int64Index: 844392 entries, 0 to 1017207\n",
      "Data columns (total 28 columns):\n",
      " #   Column                  Non-Null Count   Dtype  \n",
      "---  ------                  --------------   -----  \n",
      " 0   Store                   844392 non-null  float64\n",
      " 1   Sales                   844392 non-null  float64\n",
      " 2   Promo                   844392 non-null  float64\n",
      " 3   SchoolHoliday           844392 non-null  float64\n",
      " 4   month                   844392 non-null  float64\n",
      " 5   day                     844392 non-null  float64\n",
      " 6   CompetitionDistance     844392 non-null  float64\n",
      " 7   Promo2                  844392 non-null  float64\n",
      " 8   Promo2Since             844392 non-null  float64\n",
      " 9   CompetitionOpenSince    844392 non-null  float64\n",
      " 10  isPromoMonth            844392 non-null  float64\n",
      " 11  DayOfWeek_1             844392 non-null  float64\n",
      " 12  DayOfWeek_2             844392 non-null  float64\n",
      " 13  DayOfWeek_3             844392 non-null  float64\n",
      " 14  DayOfWeek_4             844392 non-null  float64\n",
      " 15  DayOfWeek_5             844392 non-null  float64\n",
      " 16  DayOfWeek_6             844392 non-null  float64\n",
      " 17  DayOfWeek_7             844392 non-null  float64\n",
      " 18  StateHoliday_christmas  844392 non-null  float64\n",
      " 19  StateHoliday_easter     844392 non-null  float64\n",
      " 20  StateHoliday_public     844392 non-null  float64\n",
      " 21  StoreType_a             844392 non-null  float64\n",
      " 22  StoreType_b             844392 non-null  float64\n",
      " 23  StoreType_c             844392 non-null  float64\n",
      " 24  StoreType_d             844392 non-null  float64\n",
      " 25  Assortment_a            844392 non-null  float64\n",
      " 26  Assortment_b            844392 non-null  float64\n",
      " 27  Assortment_c            844392 non-null  float64\n",
      "dtypes: float64(28)\n",
      "memory usage: 186.8 MB\n"
     ]
    }
   ],
   "source": [
    "encoded_data.info()"
   ],
   "metadata": {
    "collapsed": false,
    "pycharm": {
     "name": "#%%\n"
    }
   }
  },
  {
   "cell_type": "code",
   "execution_count": 42,
   "outputs": [],
   "source": [
    "train_data,test_data=train_test_split(encoded_data,test_size=0.2)\n",
    "\n"
   ],
   "metadata": {
    "collapsed": false,
    "pycharm": {
     "name": "#%%\n"
    }
   }
  },
  {
   "cell_type": "code",
   "execution_count": 43,
   "outputs": [
    {
     "name": "stdout",
     "output_type": "stream",
     "text": [
      "<class 'pandas.core.frame.DataFrame'>\n",
      "Int64Index: 675513 entries, 92895 to 1003811\n",
      "Data columns (total 28 columns):\n",
      " #   Column                  Non-Null Count   Dtype  \n",
      "---  ------                  --------------   -----  \n",
      " 0   Store                   675513 non-null  float64\n",
      " 1   Sales                   675513 non-null  float64\n",
      " 2   Promo                   675513 non-null  float64\n",
      " 3   SchoolHoliday           675513 non-null  float64\n",
      " 4   month                   675513 non-null  float64\n",
      " 5   day                     675513 non-null  float64\n",
      " 6   CompetitionDistance     675513 non-null  float64\n",
      " 7   Promo2                  675513 non-null  float64\n",
      " 8   Promo2Since             675513 non-null  float64\n",
      " 9   CompetitionOpenSince    675513 non-null  float64\n",
      " 10  isPromoMonth            675513 non-null  float64\n",
      " 11  DayOfWeek_1             675513 non-null  float64\n",
      " 12  DayOfWeek_2             675513 non-null  float64\n",
      " 13  DayOfWeek_3             675513 non-null  float64\n",
      " 14  DayOfWeek_4             675513 non-null  float64\n",
      " 15  DayOfWeek_5             675513 non-null  float64\n",
      " 16  DayOfWeek_6             675513 non-null  float64\n",
      " 17  DayOfWeek_7             675513 non-null  float64\n",
      " 18  StateHoliday_christmas  675513 non-null  float64\n",
      " 19  StateHoliday_easter     675513 non-null  float64\n",
      " 20  StateHoliday_public     675513 non-null  float64\n",
      " 21  StoreType_a             675513 non-null  float64\n",
      " 22  StoreType_b             675513 non-null  float64\n",
      " 23  StoreType_c             675513 non-null  float64\n",
      " 24  StoreType_d             675513 non-null  float64\n",
      " 25  Assortment_a            675513 non-null  float64\n",
      " 26  Assortment_b            675513 non-null  float64\n",
      " 27  Assortment_c            675513 non-null  float64\n",
      "dtypes: float64(28)\n",
      "memory usage: 149.5 MB\n"
     ]
    }
   ],
   "source": [
    "train_data.info()"
   ],
   "metadata": {
    "collapsed": false,
    "pycharm": {
     "name": "#%%\n"
    }
   }
  },
  {
   "cell_type": "markdown",
   "source": [
    "<p style=\"font-size:18;font-weight:bold\">Save preprocessed data</p>"
   ],
   "metadata": {
    "collapsed": false,
    "pycharm": {
     "name": "#%% md\n"
    }
   }
  },
  {
   "cell_type": "code",
   "execution_count": 44,
   "outputs": [],
   "source": [
    "file_name=\"merged_sales_train.csv\"\n",
    "train_data.to_csv(join_pth(prep_dataset_path,file_name),index=False)\n",
    "\n",
    "file_name=\"merged_sales_test.csv\"\n",
    "test_data.to_csv(join_pth(prep_dataset_path,file_name),index=False)"
   ],
   "metadata": {
    "collapsed": false,
    "pycharm": {
     "name": "#%%\n"
    }
   }
  },
  {
   "cell_type": "markdown",
   "source": [
    "# Data Loader\n",
    "- load preprocessed data csv\n",
    "- create neural network model data loader"
   ],
   "metadata": {
    "collapsed": false,
    "pycharm": {
     "name": "#%% md\n"
    }
   }
  },
  {
   "cell_type": "code",
   "execution_count": 45,
   "outputs": [
    {
     "name": "stdout",
     "output_type": "stream",
     "text": [
      "<class 'pandas.core.frame.DataFrame'>\n",
      "RangeIndex: 675513 entries, 0 to 675512\n",
      "Data columns (total 28 columns):\n",
      " #   Column                  Non-Null Count   Dtype  \n",
      "---  ------                  --------------   -----  \n",
      " 0   Store                   675513 non-null  float64\n",
      " 1   Sales                   675513 non-null  float64\n",
      " 2   Promo                   675513 non-null  float64\n",
      " 3   SchoolHoliday           675513 non-null  float64\n",
      " 4   month                   675513 non-null  float64\n",
      " 5   day                     675513 non-null  float64\n",
      " 6   CompetitionDistance     675513 non-null  float64\n",
      " 7   Promo2                  675513 non-null  float64\n",
      " 8   Promo2Since             675513 non-null  float64\n",
      " 9   CompetitionOpenSince    675513 non-null  float64\n",
      " 10  isPromoMonth            675513 non-null  float64\n",
      " 11  DayOfWeek_1             675513 non-null  float64\n",
      " 12  DayOfWeek_2             675513 non-null  float64\n",
      " 13  DayOfWeek_3             675513 non-null  float64\n",
      " 14  DayOfWeek_4             675513 non-null  float64\n",
      " 15  DayOfWeek_5             675513 non-null  float64\n",
      " 16  DayOfWeek_6             675513 non-null  float64\n",
      " 17  DayOfWeek_7             675513 non-null  float64\n",
      " 18  StateHoliday_christmas  675513 non-null  float64\n",
      " 19  StateHoliday_easter     675513 non-null  float64\n",
      " 20  StateHoliday_public     675513 non-null  float64\n",
      " 21  StoreType_a             675513 non-null  float64\n",
      " 22  StoreType_b             675513 non-null  float64\n",
      " 23  StoreType_c             675513 non-null  float64\n",
      " 24  StoreType_d             675513 non-null  float64\n",
      " 25  Assortment_a            675513 non-null  float64\n",
      " 26  Assortment_b            675513 non-null  float64\n",
      " 27  Assortment_c            675513 non-null  float64\n",
      "dtypes: float64(28)\n",
      "memory usage: 144.3 MB\n"
     ]
    }
   ],
   "source": [
    "file_name=\"merged_sales_train.csv\"\n",
    "sales_train_dataset=pd.read_csv(join_pth(prep_dataset_path,file_name))\n",
    "\n",
    "file_name=\"merged_sales_test.csv\"\n",
    "sales_test_dataset=pd.read_csv(join_pth(prep_dataset_path,file_name))\n",
    "sales_train_dataset.info()"
   ],
   "metadata": {
    "collapsed": false,
    "pycharm": {
     "name": "#%%\n"
    }
   }
  },
  {
   "cell_type": "code",
   "execution_count": 46,
   "outputs": [],
   "source": [
    "nn_sales_train_dataset=data_loader.NNSalesDataset(sales_train_dataset)\n",
    "nn_sales_test_dataset=data_loader.NNSalesDataset(sales_test_dataset)"
   ],
   "metadata": {
    "collapsed": false,
    "pycharm": {
     "name": "#%%\n"
    }
   }
  },
  {
   "cell_type": "code",
   "execution_count": 47,
   "outputs": [
    {
     "name": "stdout",
     "output_type": "stream",
     "text": [
      "tensor([0.0000, 1.0000, 9.0000, 2.0000, 0.1500, 1.0000, 0.0000, 0.0000, 0.0000,\n",
      "        1.0000, 0.0000, 0.0000, 0.0000, 0.0000, 0.0000, 0.0000, 0.0000, 0.0000,\n",
      "        0.0000, 1.0000, 0.0000, 0.0000, 0.0000, 1.0000, 0.0000, 0.0000])\n",
      "torch.Size([26])\n",
      "tensor([7177.])\n"
     ]
    }
   ],
   "source": [
    "# dataset testing\n",
    "dataset_iter=iter(nn_sales_train_dataset)\n",
    "x,y=next(dataset_iter)\n",
    "print(x)\n",
    "print(x.shape)\n",
    "print(y)"
   ],
   "metadata": {
    "collapsed": false,
    "pycharm": {
     "name": "#%%\n"
    }
   }
  },
  {
   "cell_type": "code",
   "execution_count": 48,
   "outputs": [
    {
     "data": {
      "text/plain": "Store                       1\nDayOfWeek                   5\nSales                    5263\nPromo                       1\nStateHoliday              NaN\nSchoolHoliday               1\nmonth                       7\nday                        31\nStoreType                   c\nAssortment                  a\nCompetitionDistance      1.27\nPromo2                      0\nPromo2Since               0.0\nCompetitionOpenSince      0.0\nisPromoMonth            False\nName: 0, dtype: object"
     },
     "metadata": {},
     "output_type": "display_data"
    },
    {
     "data": {
      "text/plain": "Store                        1.00\nSales                     5263.00\nPromo                        1.00\nSchoolHoliday                1.00\nmonth                        7.00\nday                         31.00\nCompetitionDistance          1.27\nPromo2                       0.00\nPromo2Since                  0.00\nCompetitionOpenSince         0.00\nisPromoMonth                 0.00\nDayOfWeek_1                  0.00\nDayOfWeek_2                  0.00\nDayOfWeek_3                  0.00\nDayOfWeek_4                  0.00\nDayOfWeek_5                  1.00\nDayOfWeek_6                  0.00\nDayOfWeek_7                  0.00\nStateHoliday_christmas       0.00\nStateHoliday_easter          0.00\nStateHoliday_public          0.00\nStoreType_a                  0.00\nStoreType_b                  0.00\nStoreType_c                  1.00\nStoreType_d                  0.00\nAssortment_a                 1.00\nAssortment_b                 0.00\nAssortment_c                 0.00\nName: 0, dtype: float64"
     },
     "metadata": {},
     "output_type": "display_data"
    },
    {
     "data": {
      "text/plain": "tensor([0.0000, 1.0000, 9.0000, 2.0000, 0.1500, 1.0000, 0.0000, 0.0000, 0.0000,\n        1.0000, 0.0000, 0.0000, 0.0000, 0.0000, 0.0000, 0.0000, 0.0000, 0.0000,\n        0.0000, 1.0000, 0.0000, 0.0000, 0.0000, 1.0000, 0.0000, 0.0000])"
     },
     "metadata": {},
     "output_type": "display_data"
    },
    {
     "data": {
      "text/plain": "tensor([7177.])"
     },
     "metadata": {},
     "output_type": "display_data"
    }
   ],
   "source": [
    "display(merge_prep.iloc[0])\n",
    "display(encoded_data.iloc[0])\n",
    "display(x)\n",
    "display(y)\n"
   ],
   "metadata": {
    "collapsed": false,
    "pycharm": {
     "name": "#%%\n"
    }
   }
  },
  {
   "cell_type": "code",
   "execution_count": 49,
   "outputs": [],
   "source": [
    "batch_size=64\n",
    "nn_sales_train_dataloader=DataLoader(nn_sales_train_dataset,batch_size=batch_size,shuffle=True)\n",
    "nn_sales_test_dataloader=DataLoader(nn_sales_test_dataset,batch_size=batch_size,shuffle=True)"
   ],
   "metadata": {
    "collapsed": false,
    "pycharm": {
     "name": "#%%\n"
    }
   }
  },
  {
   "cell_type": "code",
   "execution_count": 49,
   "outputs": [],
   "source": [],
   "metadata": {
    "collapsed": false,
    "pycharm": {
     "name": "#%%\n"
    }
   }
  },
  {
   "cell_type": "code",
   "execution_count": 50,
   "outputs": [
    {
     "name": "stdout",
     "output_type": "stream",
     "text": [
      "torch.Size([64, 26])\n",
      "torch.Size([64, 1])\n"
     ]
    }
   ],
   "source": [
    "# Data loader testing\n",
    "dataloader_iter=iter(nn_sales_train_dataloader)\n",
    "x,y=next(dataloader_iter)\n",
    "print(x.shape)\n",
    "print(y.shape)"
   ],
   "metadata": {
    "collapsed": false,
    "pycharm": {
     "name": "#%%\n"
    }
   }
  },
  {
   "cell_type": "code",
   "execution_count": null,
   "outputs": [
    {
     "name": "stdout",
     "output_type": "stream",
     "text": [
      " training epoch 1 time Taken (m) = 1.83 Avg Train_Loss=11146826.16210327438731\n",
      " Test  time Taken (m) = 2.23 Avg Test_Loss=7466564.36926866s=7466293.60557242355\n",
      " epoch 1 train_loss =11146826.16210327 test_loss=7466564.36926866 total_time= 4.0600000000000005\n",
      " training epoch 2 time Taken (m) = 2.53 Avg Train_Loss=10692289.75066319574385783\n",
      " Test  time Taken (m) = 2.5 Avg Test_Loss=7155556.12154225ss=7156471.854150876827\n",
      " epoch 2 train_loss =10692289.75066319 test_loss=7155556.12154225 total_time= 5.029999999999999\n",
      "new minimum test loss 7155556.12154225  achieved, model weights saved \n",
      " training epoch 3 time Taken (m) = 2.17 Avg Train_Loss=10521124.2018711513265247\n",
      " Test  time Taken (m) = 2.16 Avg Test_Loss=7271011.54367185s=7269205.61286963412\n",
      " epoch 3 train_loss =10521124.20187115 test_loss=7271011.54367185 total_time= 4.33\n",
      " training epoch 4 time Taken (m) = 2.19 Avg Train_Loss=10420944.6676219882206973\n",
      " Test  time Taken (m) = 2.08 Avg Test_Loss=6987923.60685866s=6986471.362964378867\n",
      " epoch 4 train_loss =10420944.66762198 test_loss=6987923.60685866 total_time= 4.27\n",
      "new minimum test loss 6987923.60685866  achieved, model weights saved \n",
      " epoch 5[..........]time remaining (m) = 4.39 Avg Train_Loss=10292782.2296195652"
     ]
    }
   ],
   "source": [
    "input_size=nn_sales_train_dataloader.dataset.no_cols\n",
    "hidden_shape=[256,32]\n",
    "output_size=1\n",
    "dropout_prop=0.5\n",
    "nn_model=models.SalesNN(input_size,hidden_shape,output_size,dropout_prop)\n",
    "train_losses,valid_losses=model_training.nn_model_train(nn_model,nn_sales_train_dataloader,nn_sales_test_dataloader,10,last_weights=True,train_data_dir=nn_model_train_data_pth,weights_dir=nn_model_weights_pth)"
   ],
   "metadata": {
    "collapsed": false,
    "pycharm": {
     "name": "#%%\n",
     "is_executing": true
    }
   }
  },
  {
   "cell_type": "code",
   "execution_count": null,
   "outputs": [],
   "source": [],
   "metadata": {
    "collapsed": false,
    "pycharm": {
     "name": "#%%\n"
    }
   }
  }
 ],
 "metadata": {
  "kernelspec": {
   "display_name": "Python 3",
   "language": "python",
   "name": "python3"
  },
  "language_info": {
   "codemirror_mode": {
    "name": "ipython",
    "version": 2
   },
   "file_extension": ".py",
   "mimetype": "text/x-python",
   "name": "python",
   "nbconvert_exporter": "python",
   "pygments_lexer": "ipython2",
   "version": "2.7.6"
  }
 },
 "nbformat": 4,
 "nbformat_minor": 0
}