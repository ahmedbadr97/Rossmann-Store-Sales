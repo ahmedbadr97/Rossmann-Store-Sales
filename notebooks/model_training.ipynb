{
 "cells": [
  {
   "cell_type": "markdown",
   "source": [
    "# imports and constants"
   ],
   "metadata": {
    "collapsed": false,
    "pycharm": {
     "name": "#%% md\n"
    }
   }
  },
  {
   "cell_type": "code",
   "execution_count": 96,
   "outputs": [],
   "source": [
    "import pandas as pd\n",
    "\n",
    "from os.path import join as join_pth\n",
    "import matplotlib.pyplot as plt\n",
    "import random\n",
    "from IPython.core.display_functions import display\n",
    "import seaborn as sns\n",
    "# % matplotlib inline\n",
    "sns.set_style('whitegrid')\n",
    "import torch\n",
    "from src import *\n",
    "from src import data_loader,models\n",
    "from torch.utils.data.dataloader import  DataLoader"
   ],
   "metadata": {
    "collapsed": false,
    "pycharm": {
     "name": "#%%\n"
    }
   }
  },
  {
   "cell_type": "code",
   "execution_count": 97,
   "outputs": [
    {
     "data": {
      "text/plain": "<module 'src.models' from 'D:\\\\2022 acheivments\\\\Projects\\\\DeepLearning NanoDegree\\\\Rossmann-Store-Sales\\\\src\\\\models.py'>"
     },
     "execution_count": 97,
     "metadata": {},
     "output_type": "execute_result"
    }
   ],
   "source": [
    "from importlib import reload,import_module\n",
    "\n",
    "reload(data_loader)\n",
    "reload(data_preprocessing)\n",
    "reload(models)"
   ],
   "metadata": {
    "collapsed": false,
    "pycharm": {
     "name": "#%%\n"
    }
   }
  },
  {
   "cell_type": "code",
   "execution_count": 67,
   "outputs": [],
   "source": [
    "raw_dataset_path = \"../dataset/raw\"\n",
    "prep_dataset_path=\"../dataset/prep\""
   ],
   "metadata": {
    "collapsed": false,
    "pycharm": {
     "name": "#%%\n"
    }
   }
  },
  {
   "cell_type": "markdown",
   "source": [
    "# roadmap\n",
    "- data preparation after analysis run bulk preprocessing functions that have all preprocessing and feature engineering done at the analysis section\n",
    "- start with the neural network without lstm layers and get the best score after hyperparameters tuning\n",
    "    - create data loader for the neural network\n",
    "    - find the best hyperparameters for the first epochs\n",
    "    - train the model on the best hyperparameters"
   ],
   "metadata": {
    "collapsed": false
   }
  },
  {
   "cell_type": "markdown",
   "source": [
    "# Data preparation\n",
    "- after analysing , handling outliers the data and do feature engineering on the data columns in the [rossmann-store-sales-analysis](./Rossmann-Store-Sales.ipynb) notebook column by column\n",
    "- all steps are combined in the [data_preprocessing.py](../src/data_preprocessing.py) module for bulk preprocessing\n",
    "    - store data preprocessing and feature engineering\n",
    "    - store_sales preprocessing and feature engineering\n",
    "    - merging store data and store sales and add new columns\n",
    "\n"
   ],
   "metadata": {
    "collapsed": false
   }
  },
  {
   "cell_type": "code",
   "execution_count": 49,
   "outputs": [],
   "source": [
    "stores_df = pd.read_csv(join_pth(raw_dataset_path, \"store.csv\"), low_memory=False)\n",
    "stores_sales_df = pd.read_csv(join_pth(raw_dataset_path, \"train.csv\"), low_memory=False)\n",
    "\n",
    "# Sales bulk preprocessing\n",
    "stores_sales_df_prep=data_preprocessing.store_sales_prep(stores_sales_df=stores_sales_df)\n",
    "\n",
    "# Store data bulk preprocessing\n",
    "stores_data_df_prep=data_preprocessing.store_data_prep(store_data_df=stores_df)\n",
    "\n",
    "# merge and do bulk preprocessing\n",
    "merge_prep=data_preprocessing.merge_store_sales(sales_data_df=stores_sales_df_prep,store_data_df=stores_data_df_prep)\n",
    "\n",
    "# drop closed stores data and open column\n",
    "merge_prep=data_preprocessing.drop_closed_days(merge_prep)\n",
    "\n"
   ],
   "metadata": {
    "collapsed": false,
    "pycharm": {
     "name": "#%%\n"
    }
   }
  },
  {
   "cell_type": "code",
   "execution_count": 50,
   "outputs": [
    {
     "name": "stdout",
     "output_type": "stream",
     "text": [
      "<class 'pandas.core.frame.DataFrame'>\n",
      "Int64Index: 844392 entries, 0 to 1017207\n",
      "Data columns (total 15 columns):\n",
      " #   Column                Non-Null Count   Dtype   \n",
      "---  ------                --------------   -----   \n",
      " 0   Store                 844392 non-null  int64   \n",
      " 1   DayOfWeek             844392 non-null  category\n",
      " 2   Sales                 844392 non-null  int64   \n",
      " 3   Promo                 844392 non-null  category\n",
      " 4   StateHoliday          910 non-null     object  \n",
      " 5   SchoolHoliday         844392 non-null  category\n",
      " 6   month                 844392 non-null  int64   \n",
      " 7   day                   844392 non-null  int64   \n",
      " 8   StoreType             844392 non-null  category\n",
      " 9   Assortment            844392 non-null  category\n",
      " 10  CompetitionDistance   844392 non-null  float64 \n",
      " 11  Promo2                844392 non-null  category\n",
      " 12  Promo2Since           844392 non-null  float64 \n",
      " 13  CompetitionOpenSince  844392 non-null  int64   \n",
      " 14  isPromoMonth          844392 non-null  bool    \n",
      "dtypes: bool(1), category(6), float64(2), int64(5), object(1)\n",
      "memory usage: 63.6+ MB\n"
     ]
    }
   ],
   "source": [
    "merge_prep.info()"
   ],
   "metadata": {
    "collapsed": false,
    "pycharm": {
     "name": "#%%\n"
    }
   }
  },
  {
   "cell_type": "code",
   "execution_count": 53,
   "outputs": [],
   "source": [
    "# hot-encode the categorical data\n",
    "encoded_data=data_preprocessing.hot_encoding(merged_data=merge_prep)"
   ],
   "metadata": {
    "collapsed": false,
    "pycharm": {
     "name": "#%%\n"
    }
   }
  },
  {
   "cell_type": "code",
   "execution_count": 54,
   "outputs": [
    {
     "name": "stdout",
     "output_type": "stream",
     "text": [
      "<class 'pandas.core.frame.DataFrame'>\n",
      "Int64Index: 844392 entries, 0 to 1017207\n",
      "Data columns (total 28 columns):\n",
      " #   Column                  Non-Null Count   Dtype  \n",
      "---  ------                  --------------   -----  \n",
      " 0   Store                   844392 non-null  float64\n",
      " 1   Sales                   844392 non-null  float64\n",
      " 2   Promo                   844392 non-null  float64\n",
      " 3   SchoolHoliday           844392 non-null  float64\n",
      " 4   month                   844392 non-null  float64\n",
      " 5   day                     844392 non-null  float64\n",
      " 6   CompetitionDistance     844392 non-null  float64\n",
      " 7   Promo2                  844392 non-null  float64\n",
      " 8   Promo2Since             844392 non-null  float64\n",
      " 9   CompetitionOpenSince    844392 non-null  float64\n",
      " 10  isPromoMonth            844392 non-null  float64\n",
      " 11  DayOfWeek_1             844392 non-null  float64\n",
      " 12  DayOfWeek_2             844392 non-null  float64\n",
      " 13  DayOfWeek_3             844392 non-null  float64\n",
      " 14  DayOfWeek_4             844392 non-null  float64\n",
      " 15  DayOfWeek_5             844392 non-null  float64\n",
      " 16  DayOfWeek_6             844392 non-null  float64\n",
      " 17  DayOfWeek_7             844392 non-null  float64\n",
      " 18  StateHoliday_christmas  844392 non-null  float64\n",
      " 19  StateHoliday_easter     844392 non-null  float64\n",
      " 20  StateHoliday_public     844392 non-null  float64\n",
      " 21  StoreType_a             844392 non-null  float64\n",
      " 22  StoreType_b             844392 non-null  float64\n",
      " 23  StoreType_c             844392 non-null  float64\n",
      " 24  StoreType_d             844392 non-null  float64\n",
      " 25  Assortment_a            844392 non-null  float64\n",
      " 26  Assortment_b            844392 non-null  float64\n",
      " 27  Assortment_c            844392 non-null  float64\n",
      "dtypes: float64(28)\n",
      "memory usage: 186.8 MB\n"
     ]
    }
   ],
   "source": [
    "encoded_data.info()"
   ],
   "metadata": {
    "collapsed": false,
    "pycharm": {
     "name": "#%%\n"
    }
   }
  },
  {
   "cell_type": "markdown",
   "source": [
    "<p style=\"font-size:18;font-weight:bold\">Save preprocessed data</p>"
   ],
   "metadata": {
    "collapsed": false,
    "pycharm": {
     "name": "#%% md\n"
    }
   }
  },
  {
   "cell_type": "code",
   "execution_count": 55,
   "outputs": [],
   "source": [
    "file_name=\"merged_sales.csv\"\n",
    "encoded_data.to_csv(join_pth(prep_dataset_path,file_name),index=False)"
   ],
   "metadata": {
    "collapsed": false,
    "pycharm": {
     "name": "#%%\n"
    }
   }
  },
  {
   "cell_type": "markdown",
   "source": [
    "# Data Loader\n",
    "- load preprocessed data csv\n",
    "- create neural network model data loader"
   ],
   "metadata": {
    "collapsed": false,
    "pycharm": {
     "name": "#%% md\n"
    }
   }
  },
  {
   "cell_type": "code",
   "execution_count": 56,
   "outputs": [
    {
     "name": "stdout",
     "output_type": "stream",
     "text": [
      "<class 'pandas.core.frame.DataFrame'>\n",
      "RangeIndex: 844392 entries, 0 to 844391\n",
      "Data columns (total 28 columns):\n",
      " #   Column                  Non-Null Count   Dtype  \n",
      "---  ------                  --------------   -----  \n",
      " 0   Store                   844392 non-null  float64\n",
      " 1   Sales                   844392 non-null  float64\n",
      " 2   Promo                   844392 non-null  float64\n",
      " 3   SchoolHoliday           844392 non-null  float64\n",
      " 4   month                   844392 non-null  float64\n",
      " 5   day                     844392 non-null  float64\n",
      " 6   CompetitionDistance     844392 non-null  float64\n",
      " 7   Promo2                  844392 non-null  float64\n",
      " 8   Promo2Since             844392 non-null  float64\n",
      " 9   CompetitionOpenSince    844392 non-null  float64\n",
      " 10  isPromoMonth            844392 non-null  float64\n",
      " 11  DayOfWeek_1             844392 non-null  float64\n",
      " 12  DayOfWeek_2             844392 non-null  float64\n",
      " 13  DayOfWeek_3             844392 non-null  float64\n",
      " 14  DayOfWeek_4             844392 non-null  float64\n",
      " 15  DayOfWeek_5             844392 non-null  float64\n",
      " 16  DayOfWeek_6             844392 non-null  float64\n",
      " 17  DayOfWeek_7             844392 non-null  float64\n",
      " 18  StateHoliday_christmas  844392 non-null  float64\n",
      " 19  StateHoliday_easter     844392 non-null  float64\n",
      " 20  StateHoliday_public     844392 non-null  float64\n",
      " 21  StoreType_a             844392 non-null  float64\n",
      " 22  StoreType_b             844392 non-null  float64\n",
      " 23  StoreType_c             844392 non-null  float64\n",
      " 24  StoreType_d             844392 non-null  float64\n",
      " 25  Assortment_a            844392 non-null  float64\n",
      " 26  Assortment_b            844392 non-null  float64\n",
      " 27  Assortment_c            844392 non-null  float64\n",
      "dtypes: float64(28)\n",
      "memory usage: 180.4 MB\n"
     ]
    }
   ],
   "source": [
    "file_name=\"merged_sales.csv\"\n",
    "sales_dataset=pd.read_csv(join_pth(prep_dataset_path,file_name))\n",
    "sales_dataset.info()"
   ],
   "metadata": {
    "collapsed": false,
    "pycharm": {
     "name": "#%%\n"
    }
   }
  },
  {
   "cell_type": "code",
   "execution_count": 98,
   "outputs": [],
   "source": [
    "nn_sales_dataset=data_loader.NNSalesDataset(sales_dataset)"
   ],
   "metadata": {
    "collapsed": false,
    "pycharm": {
     "name": "#%%\n"
    }
   }
  },
  {
   "cell_type": "code",
   "execution_count": 99,
   "outputs": [
    {
     "name": "stdout",
     "output_type": "stream",
     "text": [
      "tensor([ 1.0000,  1.0000,  7.0000, 31.0000,  1.2700,  0.0000,  0.0000,  0.0000,\n",
      "         0.0000,  0.0000,  0.0000,  0.0000,  0.0000,  1.0000,  0.0000,  0.0000,\n",
      "         0.0000,  0.0000,  0.0000,  0.0000,  0.0000,  1.0000,  0.0000,  1.0000,\n",
      "         0.0000,  0.0000])\n",
      "torch.Size([26])\n",
      "tensor(5263.)\n"
     ]
    }
   ],
   "source": [
    "# dataset testing\n",
    "dataset_iter=iter(nn_sales_dataset)\n",
    "x,y=next(dataset_iter)\n",
    "print(x)\n",
    "print(x.shape)\n",
    "print(y)"
   ],
   "metadata": {
    "collapsed": false,
    "pycharm": {
     "name": "#%%\n"
    }
   }
  },
  {
   "cell_type": "code",
   "execution_count": 100,
   "outputs": [
    {
     "data": {
      "text/plain": "Store                       1\nDayOfWeek                   5\nSales                    5263\nPromo                       1\nStateHoliday              NaN\nSchoolHoliday               1\nmonth                       7\nday                        31\nStoreType                   c\nAssortment                  a\nCompetitionDistance      1.27\nPromo2                      0\nPromo2Since               0.0\nCompetitionOpenSince        0\nisPromoMonth            False\nName: 0, dtype: object"
     },
     "metadata": {},
     "output_type": "display_data"
    },
    {
     "data": {
      "text/plain": "Store                        1.00\nSales                     5263.00\nPromo                        1.00\nSchoolHoliday                1.00\nmonth                        7.00\nday                         31.00\nCompetitionDistance          1.27\nPromo2                       0.00\nPromo2Since                  0.00\nCompetitionOpenSince         0.00\nisPromoMonth                 0.00\nDayOfWeek_1                  0.00\nDayOfWeek_2                  0.00\nDayOfWeek_3                  0.00\nDayOfWeek_4                  0.00\nDayOfWeek_5                  1.00\nDayOfWeek_6                  0.00\nDayOfWeek_7                  0.00\nStateHoliday_christmas       0.00\nStateHoliday_easter          0.00\nStateHoliday_public          0.00\nStoreType_a                  0.00\nStoreType_b                  0.00\nStoreType_c                  1.00\nStoreType_d                  0.00\nAssortment_a                 1.00\nAssortment_b                 0.00\nAssortment_c                 0.00\nName: 0, dtype: float64"
     },
     "metadata": {},
     "output_type": "display_data"
    },
    {
     "data": {
      "text/plain": "tensor([ 1.0000,  1.0000,  7.0000, 31.0000,  1.2700,  0.0000,  0.0000,  0.0000,\n         0.0000,  0.0000,  0.0000,  0.0000,  0.0000,  1.0000,  0.0000,  0.0000,\n         0.0000,  0.0000,  0.0000,  0.0000,  0.0000,  1.0000,  0.0000,  1.0000,\n         0.0000,  0.0000])"
     },
     "metadata": {},
     "output_type": "display_data"
    },
    {
     "data": {
      "text/plain": "tensor(5263.)"
     },
     "metadata": {},
     "output_type": "display_data"
    }
   ],
   "source": [
    "display(merge_prep.iloc[0])\n",
    "display(encoded_data.iloc[0])\n",
    "display(x)\n",
    "display(y)\n"
   ],
   "metadata": {
    "collapsed": false,
    "pycharm": {
     "name": "#%%\n"
    }
   }
  },
  {
   "cell_type": "code",
   "execution_count": 101,
   "outputs": [],
   "source": [
    "nn_sales_dataloader=DataLoader(nn_sales_dataset,batch_size=64,shuffle=True)"
   ],
   "metadata": {
    "collapsed": false,
    "pycharm": {
     "name": "#%%\n"
    }
   }
  },
  {
   "cell_type": "code",
   "execution_count": 102,
   "outputs": [
    {
     "name": "stdout",
     "output_type": "stream",
     "text": [
      "torch.Size([64, 26])\n",
      "torch.Size([64])\n"
     ]
    }
   ],
   "source": [
    "# Data loader testing\n",
    "dataloader_iter=iter(nn_sales_dataloader)\n",
    "x,y=next(dataloader_iter)\n",
    "print(x.shape)\n",
    "print(y.shape)"
   ],
   "metadata": {
    "collapsed": false,
    "pycharm": {
     "name": "#%%\n"
    }
   }
  },
  {
   "cell_type": "code",
   "execution_count": 103,
   "outputs": [],
   "source": [
    "input_size=nn_sales_dataset.no_cols\n",
    "hidden_shape=[256,32]\n",
    "output_size=1\n",
    "dropout_prop=0.5\n",
    "nn_model=models.SalesNN(input_size,hidden_shape,output_size,dropout_prop)"
   ],
   "metadata": {
    "collapsed": false,
    "pycharm": {
     "name": "#%%\n"
    }
   }
  },
  {
   "cell_type": "code",
   "execution_count": 105,
   "outputs": [
    {
     "data": {
      "text/plain": "torch.Size([64, 1])"
     },
     "execution_count": 105,
     "metadata": {},
     "output_type": "execute_result"
    }
   ],
   "source": [
    "nn_model(x).shape"
   ],
   "metadata": {
    "collapsed": false,
    "pycharm": {
     "name": "#%%\n"
    }
   }
  },
  {
   "cell_type": "code",
   "execution_count": null,
   "outputs": [],
   "source": [],
   "metadata": {
    "collapsed": false,
    "pycharm": {
     "name": "#%%\n"
    }
   }
  }
 ],
 "metadata": {
  "kernelspec": {
   "display_name": "Python 3",
   "language": "python",
   "name": "python3"
  },
  "language_info": {
   "codemirror_mode": {
    "name": "ipython",
    "version": 2
   },
   "file_extension": ".py",
   "mimetype": "text/x-python",
   "name": "python",
   "nbconvert_exporter": "python",
   "pygments_lexer": "ipython2",
   "version": "2.7.6"
  }
 },
 "nbformat": 4,
 "nbformat_minor": 0
}